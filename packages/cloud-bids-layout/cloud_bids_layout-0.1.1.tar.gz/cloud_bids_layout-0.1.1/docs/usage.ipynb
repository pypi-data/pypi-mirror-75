{
 "cells": [
  {
   "cell_type": "markdown",
   "metadata": {},
   "source": [
    "# Example Usage\n",
    "\n",
    "This notebook demonstrates simple usage of Cloud-BIDS-Layout"
   ]
  },
  {
   "cell_type": "code",
   "execution_count": 2,
   "metadata": {},
   "outputs": [],
   "source": [
    "import cloud_bids_layout as cbl"
   ]
  },
  {
   "cell_type": "markdown",
   "metadata": {},
   "source": [
    "## Use Cloud-BIDS-Layout to inspect a large-ish dataset\n",
    "\n",
    "The [UCLA Consortium for Neuropsychiatric Phenomics LA5c Study](https://openneuro.org/datasets/ds000030/versions/1.0.0)\n",
    "has 272 subjects and takes up about 80 GB of disk space. This would take a long time to download to\n",
    "our local machine in order to use pybids to index it. Let's try it with Cloud-BIDS-Layout instead."
   ]
  },
  {
   "cell_type": "code",
   "execution_count": 5,
   "metadata": {},
   "outputs": [
    {
     "name": "stdout",
     "output_type": "stream",
     "text": [
      "2020-07-28 13:20:08.337858\n"
     ]
    }
   ],
   "source": [
    "from datetime import datetime\n",
    "print(datetime.now())"
   ]
  },
  {
   "cell_type": "code",
   "execution_count": 6,
   "metadata": {},
   "outputs": [
    {
     "name": "stderr",
     "output_type": "stream",
     "text": [
      "/Users/richford/miniconda3/envs/s3bidsscratch/lib/python3.7/site-packages/bids/layout/models.py:102: FutureWarning: The 'extension' entity currently excludes the leading dot ('.'). As of version 0.14.0, it will include the leading dot. To suppress this warning and include the leading dot, use `bids.config.set_option('extension_initial_dot', True)`.\n",
      "  FutureWarning)\n"
     ]
    }
   ],
   "source": [
    "layout = cbl.CloudBIDSLayout(\n",
    "    remote_location=\"s3://openneuro.org/ds000030\",\n",
    "    download_dir=\"./ds000030\"\n",
    ")"
   ]
  },
  {
   "cell_type": "code",
   "execution_count": 7,
   "metadata": {},
   "outputs": [
    {
     "name": "stdout",
     "output_type": "stream",
     "text": [
      "2020-07-28 13:41:38.366827\n"
     ]
    }
   ],
   "source": [
    "print(datetime.now())"
   ]
  },
  {
   "cell_type": "markdown",
   "metadata": {},
   "source": [
    "This took me about 20 minutes on my laptop. I estimate it would'be taken about 2.5 hours to download the data to my laptop and then something like 15 minutes for pybids to index that.\n",
    "\n",
    "You may notice that this created the `ds000030` directory. Feel free to explore it. You'll see that it downloaded all of the json files and created empty files for all of the other file types. This is enough for pybids to index the dataset. Later, you'll see a method for downloading the actual data.\n",
    "\n",
    "Now we have a pybids `BIDSLayout` instance and we can use the familiar `get()` method to query our dataset. For example:"
   ]
  },
  {
   "cell_type": "code",
   "execution_count": 36,
   "metadata": {},
   "outputs": [
    {
     "data": {
      "text/plain": [
       "['10159',\n",
       " '10171',\n",
       " '10189',\n",
       " '10193',\n",
       " '10206',\n",
       " '10217',\n",
       " '10225',\n",
       " '10227',\n",
       " '10228',\n",
       " '10235']"
      ]
     },
     "execution_count": 36,
     "metadata": {},
     "output_type": "execute_result"
    }
   ],
   "source": [
    "# Get the subject IDs for all subjects with DWI data\n",
    "layout.get(target=\"subject\", return_type=\"id\", datatype=\"dwi\")[:10]"
   ]
  },
  {
   "cell_type": "markdown",
   "metadata": {},
   "source": [
    "Now suppose we decide we want to download all files for subject `sub-70086`."
   ]
  },
  {
   "cell_type": "code",
   "execution_count": 34,
   "metadata": {},
   "outputs": [
    {
     "name": "stdout",
     "output_type": "stream",
     "text": [
      "['sub-70086/anat/sub-70086_T1w.json', 'sub-70086/anat/sub-70086_T1w.nii.gz', 'sub-70086/beh/sub-70086_task-stopsignaltraining_beh.json', 'sub-70086/beh/sub-70086_task-stopsignaltraining_events.tsv', 'sub-70086/dwi/sub-70086_dwi.bval', 'sub-70086/dwi/sub-70086_dwi.bvec', 'sub-70086/dwi/sub-70086_dwi.json', 'sub-70086/dwi/sub-70086_dwi.nii.gz', 'sub-70086/func/sub-70086_task-bart_bold.json', 'sub-70086/func/sub-70086_task-bart_bold.nii.gz', 'sub-70086/func/sub-70086_task-bart_events.tsv', 'sub-70086/func/sub-70086_task-bht_bold.json', 'sub-70086/func/sub-70086_task-bht_bold.nii.gz', 'sub-70086/func/sub-70086_task-bht_events.tsv', 'sub-70086/func/sub-70086_task-bht_physio.json', 'sub-70086/func/sub-70086_task-bht_physio.tsv.gz', 'sub-70086/func/sub-70086_task-pamenc_bold.json', 'sub-70086/func/sub-70086_task-pamenc_bold.nii.gz', 'sub-70086/func/sub-70086_task-pamenc_events.tsv', 'sub-70086/func/sub-70086_task-pamret_bold.json', 'sub-70086/func/sub-70086_task-pamret_bold.nii.gz', 'sub-70086/func/sub-70086_task-pamret_events.tsv', 'sub-70086/func/sub-70086_task-rest_bold.json', 'sub-70086/func/sub-70086_task-rest_bold.nii.gz', 'sub-70086/func/sub-70086_task-rest_physio.json', 'sub-70086/func/sub-70086_task-rest_physio.tsv.gz', 'sub-70086/func/sub-70086_task-scap_bold.json', 'sub-70086/func/sub-70086_task-scap_bold.nii.gz', 'sub-70086/func/sub-70086_task-scap_events.tsv', 'sub-70086/func/sub-70086_task-stopsignal_bold.json', 'sub-70086/func/sub-70086_task-stopsignal_bold.nii.gz', 'sub-70086/func/sub-70086_task-stopsignal_events.tsv', 'sub-70086/func/sub-70086_task-taskswitch_bold.json', 'sub-70086/func/sub-70086_task-taskswitch_bold.nii.gz', 'sub-70086/func/sub-70086_task-taskswitch_events.tsv']\n"
     ]
    }
   ],
   "source": [
    "files_we_want = layout.get(subject=\"70086\", return_type=\"files\")\n",
    "print([fname.split(\"ds000030/\")[-1] for fname in files_we_want])"
   ]
  },
  {
   "cell_type": "markdown",
   "metadata": {},
   "source": [
    "The `CloudBIDSLayout().download_files()` method takes all of the same arguments as `BIDSLayout.get()` but downloads the returned files to the local drive so that they actually exist on your system instead of the empty copies that we got earlier."
   ]
  },
  {
   "cell_type": "code",
   "execution_count": 37,
   "metadata": {},
   "outputs": [
    {
     "name": "stdout",
     "output_type": "stream",
     "text": [
      "['sub-70086/anat/sub-70086_T1w.json', 'sub-70086/anat/sub-70086_T1w.nii.gz', 'sub-70086/beh/sub-70086_task-stopsignaltraining_beh.json', 'sub-70086/beh/sub-70086_task-stopsignaltraining_events.tsv', 'sub-70086/dwi/sub-70086_dwi.bval', 'sub-70086/dwi/sub-70086_dwi.bvec', 'sub-70086/dwi/sub-70086_dwi.json', 'sub-70086/dwi/sub-70086_dwi.nii.gz', 'sub-70086/func/sub-70086_task-bart_bold.json', 'sub-70086/func/sub-70086_task-bart_bold.nii.gz', 'sub-70086/func/sub-70086_task-bart_events.tsv', 'sub-70086/func/sub-70086_task-bht_bold.json', 'sub-70086/func/sub-70086_task-bht_bold.nii.gz', 'sub-70086/func/sub-70086_task-bht_events.tsv', 'sub-70086/func/sub-70086_task-bht_physio.json', 'sub-70086/func/sub-70086_task-bht_physio.tsv.gz', 'sub-70086/func/sub-70086_task-pamenc_bold.json', 'sub-70086/func/sub-70086_task-pamenc_bold.nii.gz', 'sub-70086/func/sub-70086_task-pamenc_events.tsv', 'sub-70086/func/sub-70086_task-pamret_bold.json', 'sub-70086/func/sub-70086_task-pamret_bold.nii.gz', 'sub-70086/func/sub-70086_task-pamret_events.tsv', 'sub-70086/func/sub-70086_task-rest_bold.json', 'sub-70086/func/sub-70086_task-rest_bold.nii.gz', 'sub-70086/func/sub-70086_task-rest_physio.json', 'sub-70086/func/sub-70086_task-rest_physio.tsv.gz', 'sub-70086/func/sub-70086_task-scap_bold.json', 'sub-70086/func/sub-70086_task-scap_bold.nii.gz', 'sub-70086/func/sub-70086_task-scap_events.tsv', 'sub-70086/func/sub-70086_task-stopsignal_bold.json', 'sub-70086/func/sub-70086_task-stopsignal_bold.nii.gz', 'sub-70086/func/sub-70086_task-stopsignal_events.tsv', 'sub-70086/func/sub-70086_task-taskswitch_bold.json', 'sub-70086/func/sub-70086_task-taskswitch_bold.nii.gz', 'sub-70086/func/sub-70086_task-taskswitch_events.tsv']\n"
     ]
    }
   ],
   "source": [
    "files_we_got = layout.download_files(subject=\"70086\")\n",
    "print([bidsfile.path.split(\"ds000030/\")[-1] for bidsfile in files_we_got])"
   ]
  },
  {
   "cell_type": "markdown",
   "metadata": {},
   "source": [
    "That's it. Once we download the files, then we'll have a subset of the BIDS data and we can use the standard pybids' `BIDSLayout`\n",
    "to index the local data and do some good science."
   ]
  }
 ],
 "metadata": {
  "kernelspec": {
   "display_name": "Python 3",
   "language": "python",
   "name": "python3"
  },
  "language_info": {
   "codemirror_mode": {
    "name": "ipython",
    "version": 3
   },
   "file_extension": ".py",
   "mimetype": "text/x-python",
   "name": "python",
   "nbconvert_exporter": "python",
   "pygments_lexer": "ipython3",
   "version": "3.7.8"
  }
 },
 "nbformat": 4,
 "nbformat_minor": 4
}
