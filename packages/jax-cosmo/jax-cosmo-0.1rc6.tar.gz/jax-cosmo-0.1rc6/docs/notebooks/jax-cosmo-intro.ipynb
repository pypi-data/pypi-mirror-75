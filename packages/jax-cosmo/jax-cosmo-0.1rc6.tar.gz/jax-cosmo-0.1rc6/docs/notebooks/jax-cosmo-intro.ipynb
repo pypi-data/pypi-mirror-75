{
 "cells": [
  {
   "cell_type": "markdown",
   "metadata": {
    "colab_type": "text",
    "id": "view-in-github"
   },
   "source": [
    "<a href=\"https://colab.research.google.com/github/DifferentiableUniverseInitiative/jax_cosmo/blob/master/docs/notebooks/jax-cosmo-intro.ipynb\" target=\"_parent\"><img src=\"https://colab.research.google.com/assets/colab-badge.svg\" alt=\"Open In Colab\"/></a>"
   ]
  },
  {
   "cell_type": "markdown",
   "metadata": {
    "colab_type": "text",
    "id": "lpIJcb3tcFkC"
   },
   "source": [
    "# Introduction to jax-cosmo\n",
    "\n",
    "Authors:\n",
    "  - [@EiffL](https://github.com/EiffL) (Francois Lanusse)\n",
    "\n",
    "### Overview\n",
    "\n",
    "`jax-cosmo` brings the power of automatic differentiation and XLA execution\n",
    "to cosmological computations, all the while preserving the readability and human\n",
    "friendliness of Python / NumPy.\n",
    "\n",
    "This is made possible by the [JAX](https://jax.readthedocs.io/en/latest/index.html) framework, which can be summarised as JAX = NumPy + autograd + GPU/TPU. We\n",
    "encourage the interested reader to follow this [introduction to JAX](https://jax.readthedocs.io/en/latest/notebooks/quickstart.html) but it will not be necessary to follow this notebook.\n",
    "\n",
    "\n",
    "### Learning objectives\n",
    "\n",
    "In this short introduction we will cover:\n",
    "  - How to define computations of **2pt functions**\n",
    "  - How to execute these computations on **GPU** (spoiler alert, you actually don't need to do anything, it happens automatically)\n",
    "  - How to **take derivatives** of any quantities by automatic differentation\n",
    "  - And finally, how to piece all of this together for efficient and reliable **Fisher matrices**.\n",
    "\n",
    "\n",
    "\n"
   ]
  },
  {
   "cell_type": "markdown",
   "metadata": {
    "colab_type": "text",
    "id": "Dlb7kXPYEf6Z"
   },
   "source": [
    "## Installing and importing jax-cosmo\n",
    "\n",
    "One of the important aspects of `jax-cosmo` is that it is entirely Python-based\n",
    "so it can trivially be installed without compiling or downloading any third-party tools.\n",
    "\n",
    "Here is how to install the current release on your system:"
   ]
  },
  {
   "cell_type": "code",
   "execution_count": 1,
   "metadata": {
    "colab": {
     "base_uri": "https://localhost:8080/",
     "height": 51
    },
    "colab_type": "code",
    "id": "yZWz-yxPcG6q",
    "outputId": "b315e257-1cb3-4654-c8ff-2b319ab27b13"
   },
   "outputs": [
    {
     "name": "stdout",
     "output_type": "stream",
     "text": [
      "\u001b[?25l\r",
      "\u001b[K     |█▌                              | 10kB 28.3MB/s eta 0:00:01\r",
      "\u001b[K     |███                             | 20kB 3.0MB/s eta 0:00:01\r",
      "\u001b[K     |████▍                           | 30kB 4.0MB/s eta 0:00:01\r",
      "\u001b[K     |█████▉                          | 40kB 4.3MB/s eta 0:00:01\r",
      "\u001b[K     |███████▎                        | 51kB 3.5MB/s eta 0:00:01\r",
      "\u001b[K     |████████▊                       | 61kB 3.9MB/s eta 0:00:01\r",
      "\u001b[K     |██████████▏                     | 71kB 4.3MB/s eta 0:00:01\r",
      "\u001b[K     |███████████▋                    | 81kB 4.5MB/s eta 0:00:01\r",
      "\u001b[K     |█████████████                   | 92kB 4.9MB/s eta 0:00:01\r",
      "\u001b[K     |██████████████▌                 | 102kB 4.8MB/s eta 0:00:01\r",
      "\u001b[K     |████████████████                | 112kB 4.8MB/s eta 0:00:01\r",
      "\u001b[K     |█████████████████▌              | 122kB 4.8MB/s eta 0:00:01\r",
      "\u001b[K     |███████████████████             | 133kB 4.8MB/s eta 0:00:01\r",
      "\u001b[K     |████████████████████▍           | 143kB 4.8MB/s eta 0:00:01\r",
      "\u001b[K     |█████████████████████▉          | 153kB 4.8MB/s eta 0:00:01\r",
      "\u001b[K     |███████████████████████▎        | 163kB 4.8MB/s eta 0:00:01\r",
      "\u001b[K     |████████████████████████▊       | 174kB 4.8MB/s eta 0:00:01\r",
      "\u001b[K     |██████████████████████████▏     | 184kB 4.8MB/s eta 0:00:01\r",
      "\u001b[K     |███████████████████████████▋    | 194kB 4.8MB/s eta 0:00:01\r",
      "\u001b[K     |█████████████████████████████   | 204kB 4.8MB/s eta 0:00:01\r",
      "\u001b[K     |██████████████████████████████▌ | 215kB 4.8MB/s eta 0:00:01\r",
      "\u001b[K     |████████████████████████████████| 225kB 4.8MB/s \n",
      "\u001b[?25h  Building wheel for jax-cosmo (setup.py) ... \u001b[?25l\u001b[?25hdone\n"
     ]
    }
   ],
   "source": [
    "# Installing jax-cosmo\n",
    "!pip install --quiet jax-cosmo"
   ]
  },
  {
   "cell_type": "markdown",
   "metadata": {
    "colab_type": "text",
    "id": "xvIGKcbXFEFO"
   },
   "source": [
    "For efficient computation on GPU (if you have one), you might want to make sure that JAX itself is installed with the proper GPU-enabled backend. See [here](https://github.com/google/jax#installation) for more instructions.\n",
    "\n",
    "Now that `jax-cosmo` is installed, let's import it along with JAX tools:"
   ]
  },
  {
   "cell_type": "code",
   "execution_count": 1,
   "metadata": {
    "colab": {
     "base_uri": "https://localhost:8080/",
     "height": 34
    },
    "colab_type": "code",
    "id": "AZkSj6XNcFkE",
    "outputId": "6a325574-7540-4d62-bbfc-fcfaf00f009d"
   },
   "outputs": [
    {
     "name": "stdout",
     "output_type": "stream",
     "text": [
      "Populating the interactive namespace from numpy and matplotlib\n"
     ]
    }
   ],
   "source": [
    "%pylab inline\n",
    "import jax\n",
    "import jax_cosmo as jc\n",
    "import jax.numpy as np"
   ]
  },
  {
   "cell_type": "markdown",
   "metadata": {
    "colab_type": "text",
    "id": "bKuyf8bzFmSR"
   },
   "source": [
    "**Note that we import the JAX version of NumPy here**. That's all that you have to do, any numpy functions you will use afterwards will be JAX-accelerated and differentiable.\n",
    "\n",
    "And for the purpose of this tutorial we also define a few plotting functions in the cell bellow, please run it."
   ]
  },
  {
   "cell_type": "code",
   "execution_count": 2,
   "metadata": {
    "cellView": "form",
    "colab": {},
    "colab_type": "code",
    "id": "8yvBIf1mm_h-"
   },
   "outputs": [],
   "source": [
    "#@title Defining some plotting functions [run me]\n",
    "\n",
    "import matplotlib.pyplot as plt\n",
    "from matplotlib.patches import Ellipse\n",
    "\n",
    "def plot_contours(fisher, pos,  nstd=1., ax=None, **kwargs):\n",
    "  \"\"\"\n",
    "  Plot 2D parameter contours given a Hessian matrix of the likelihood\n",
    "  \"\"\"\n",
    "  \n",
    "  def eigsorted(cov):\n",
    "    vals, vecs = linalg.eigh(cov)\n",
    "    order = vals.argsort()[::-1]\n",
    "    return vals[order], vecs[:, order]\n",
    "\n",
    "  mat = fisher\n",
    "  cov = np.linalg.inv(mat)\n",
    "  sigma_marg = lambda i: np.sqrt(cov[i, i])\n",
    "\n",
    "  if ax is None:\n",
    "      ax = plt.gca()\n",
    "\n",
    "  vals, vecs = eigsorted(cov)\n",
    "  theta = degrees(np.arctan2(*vecs[:, 0][::-1]))\n",
    "\n",
    "  # Width and height are \"full\" widths, not radius\n",
    "  width, height = 2 * nstd * sqrt(vals)\n",
    "  ellip = Ellipse(xy=pos, width=width,\n",
    "                  height=height, angle=theta, **kwargs)\n",
    "\n",
    "  ax.add_artist(ellip)\n",
    "  sz = max(width, height)\n",
    "  s1 = 1.5*nstd*sigma_marg(0)\n",
    "  s2 = 1.5*nstd*sigma_marg(1)\n",
    "  ax.set_xlim(pos[0] - s1, pos[0] + s1)\n",
    "  ax.set_ylim(pos[1] - s2, pos[1] + s2)\n",
    "  plt.draw()\n",
    "  return ellip"
   ]
  },
  {
   "cell_type": "markdown",
   "metadata": {
    "colab_type": "text",
    "id": "nXjimh6KGFWm"
   },
   "source": [
    "## Defining a Cosmology and computing background quantities\n",
    "\n",
    "We'll beginning with the basics, let's define a cosmology:\n"
   ]
  },
  {
   "cell_type": "code",
   "execution_count": 3,
   "metadata": {
    "colab": {},
    "colab_type": "code",
    "id": "R0wxmnuBG9EC"
   },
   "outputs": [],
   "source": [
    "# Create a cosmology with default parameters\n",
    "cosmo = jc.Planck15()"
   ]
  },
  {
   "cell_type": "code",
   "execution_count": 4,
   "metadata": {
    "colab": {},
    "colab_type": "code",
    "id": "by_0gcYKG9Ag"
   },
   "outputs": [],
   "source": [
    "# Alternatively we can override some of the defaults\n",
    "cosmo_modified = jc.Planck15(h=0.7)"
   ]
  },
  {
   "cell_type": "code",
   "execution_count": 5,
   "metadata": {
    "colab": {
     "base_uri": "https://localhost:8080/",
     "height": 34
    },
    "colab_type": "code",
    "id": "d-VI1BFuI3w1",
    "outputId": "8ed049c5-20bc-4874-87a2-db3e4ed49a4e"
   },
   "outputs": [
    {
     "data": {
      "text/plain": [
       "0.6774"
      ]
     },
     "execution_count": 5,
     "metadata": {},
     "output_type": "execute_result"
    }
   ],
   "source": [
    "# Parameters can be easily accessed from the cosmology object\n",
    "cosmo.h"
   ]
  },
  {
   "cell_type": "markdown",
   "metadata": {
    "colab_type": "text",
    "id": "8RhqkfHjHgTT"
   },
   "source": [
    "All background quantities can be computed from the `jax_cosmo.background` module, they typically take the cosmology as first argument, and a scale factor\n",
    "argument if they are not constant."
   ]
  },
  {
   "cell_type": "code",
   "execution_count": 6,
   "metadata": {
    "colab": {
     "base_uri": "https://localhost:8080/",
     "height": 403
    },
    "colab_type": "code",
    "id": "bdcm_oReG89o",
    "outputId": "07e4ff00-3bfb-4bfd-bc61-70350a062435"
   },
   "outputs": [
    {
     "name": "stderr",
     "output_type": "stream",
     "text": [
      "/home/francois/.local/lib/python3.8/site-packages/jax/lax/lax.py:5591: UserWarning: Explicitly requested dtype float64 requested in asarray is not available, and will be truncated to dtype float32. To enable more dtypes, set the jax_enable_x64 configuration option or the JAX_ENABLE_X64 shell environment variable. See https://github.com/google/jax#current-gotchas for more.\n",
      "  warnings.warn(msg.format(dtype, fun_name , truncated_dtype))\n",
      "/home/francois/.local/lib/python3.8/site-packages/jax/lax/lax.py:5591: UserWarning: Explicitly requested dtype float64 requested in array is not available, and will be truncated to dtype float32. To enable more dtypes, set the jax_enable_x64 configuration option or the JAX_ENABLE_X64 shell environment variable. See https://github.com/google/jax#current-gotchas for more.\n",
      "  warnings.warn(msg.format(dtype, fun_name , truncated_dtype))\n",
      "/home/francois/.local/lib/python3.8/site-packages/jax/lax/lax.py:5591: UserWarning: Explicitly requested dtype <class 'jax.numpy.lax_numpy.int64'> requested in astype is not available, and will be truncated to dtype int32. To enable more dtypes, set the jax_enable_x64 configuration option or the JAX_ENABLE_X64 shell environment variable. See https://github.com/google/jax#current-gotchas for more.\n",
      "  warnings.warn(msg.format(dtype, fun_name , truncated_dtype))\n"
     ]
    },
    {
     "data": {
      "image/png": "[encoded data removed]",
      "text/plain": [
       "<Figure size 432x288 with 1 Axes>"
      ]
     },
     "metadata": {
      "needs_background": "light"
     },
     "output_type": "display_data"
    }
   ],
   "source": [
    "# Let's define a range of scale factors\n",
    "a = np.linspace(0.01, 1.)\n",
    "\n",
    "# And compute the comoving distance for these scale factors \n",
    "chi = jc.background.radial_comoving_distance(cosmo, a)\n",
    "\n",
    "# We can now plot the results:\n",
    "plot(a, chi)\n",
    "xlabel(r'scale factor $a$')\n",
    "ylabel(r'radial comoving distance $\\chi$');"
   ]
  },
  {
   "cell_type": "code",
   "execution_count": 7,
   "metadata": {
    "colab": {},
    "colab_type": "code",
    "id": "z30Karo4Jdnw"
   },
   "outputs": [],
   "source": [
    "# Not sure what are the units of the comoving distance? just ask:\n",
    "jc.background.radial_comoving_distance?"
   ]
  },
  {
   "cell_type": "markdown",
   "metadata": {
    "colab_type": "text",
    "id": "yihFIALbJ24Q"
   },
   "source": [
    "## Defining redshift distributions\n",
    "\n",
    "On our path to computing Fisher matrices, we need to be able to express redshift distrbutions. In `jax-cosmo` n(z) are parametrized functions which can\n",
    "be found in the `jax_cosmo.redshift` module. \n",
    "\n",
    "For the purpose of this tutorial, let's see how to define a Smail type distribution:\n",
    "$$ n(z) = z^a \\exp(- (z/z_0)^b) $$\n",
    "which depends on 3 parameters:"
   ]
  },
  {
   "cell_type": "code",
   "execution_count": 8,
   "metadata": {
    "colab": {},
    "colab_type": "code",
    "id": "2D7ouxvVIR7M"
   },
   "outputs": [],
   "source": [
    "# You can inspect the documentation to see the \n",
    "# meaning of these positional arguments\n",
    "nz1 = jc.redshift.smail_nz(1., 2.,  1.)\n",
    "nz2 = jc.redshift.smail_nz(1., 2.,  0.5)"
   ]
  },
  {
   "cell_type": "code",
   "execution_count": 9,
   "metadata": {
    "colab": {
     "base_uri": "https://localhost:8080/",
     "height": 281
    },
    "colab_type": "code",
    "id": "Ef2oNlQ7Lmdi",
    "outputId": "799bb7a6-1e67-45d8-dfd3-ff3b27ce6f81"
   },
   "outputs": [
    {
     "data": {
      "image/png": "[encoded data removed]",
      "text/plain": [
       "<Figure size 432x288 with 1 Axes>"
      ]
     },
     "metadata": {
      "needs_background": "light"
     },
     "output_type": "display_data"
    }
   ],
   "source": [
    "# And let's plot it\n",
    "z = np.linspace(0,5,256)\n",
    "\n",
    "# Redshift distributions are callable, and they return the normalized distribution\n",
    "plot(z, nz1(z), label='z0=1.')\n",
    "plot(z, nz2(z), label='z0=0.5')\n",
    "legend();\n",
    "xlabel('Redshift $z$');"
   ]
  },
  {
   "cell_type": "code",
   "execution_count": 10,
   "metadata": {
    "colab": {
     "base_uri": "https://localhost:8080/",
     "height": 34
    },
    "colab_type": "code",
    "id": "0eG0GXjCLmhz",
    "outputId": "283348ed-0a18-45b4-a584-a58db0a72c39"
   },
   "outputs": [
    {
     "data": {
      "text/plain": [
       "DeviceArray(1.0000004, dtype=float32)"
      ]
     },
     "execution_count": 10,
     "metadata": {},
     "output_type": "execute_result"
    }
   ],
   "source": [
    "# We can check that the nz is properly normalized\n",
    "jc.scipy.integrate.romb(nz1, 0., 5.)"
   ]
  },
  {
   "cell_type": "markdown",
   "metadata": {
    "colab_type": "text",
    "id": "ZUYVlhKkMLpl"
   },
   "source": [
    "Nice :-D "
   ]
  },
  {
   "cell_type": "markdown",
   "metadata": {
    "colab_type": "text",
    "id": "PGCY4irsNI9B"
   },
   "source": [
    "## Defining probes and computing angular $C_\\ell$\n",
    "\n",
    "Let's now move on to define lensing and clustering probes using these two n(z).\n",
    "In `jax-cosmo` a probe/tracer of a given type, i.e. lensing, contains a series of parameters, like redshift distributions, or galaxy bias. Probes are hosted in\n",
    "the `jax_cosmo.probes` module.\n",
    "\n",
    "$C_\\ell$ computations will then take as argument a list of probes and will compute all auto- and cross- correlations between all redshift bins of all probes. "
   ]
  },
  {
   "cell_type": "code",
   "execution_count": 11,
   "metadata": {
    "colab": {},
    "colab_type": "code",
    "id": "-YUfaBhzNINW"
   },
   "outputs": [],
   "source": [
    "# First we define a list of redshift bins\n",
    "nzs = [nz1, nz2]"
   ]
  },
  {
   "cell_type": "code",
   "execution_count": 12,
   "metadata": {
    "colab": {},
    "colab_type": "code",
    "id": "R3qUxP9wO6fH"
   },
   "outputs": [],
   "source": [
    "# And now we define 2 probes \n",
    "probes = [ jc.probes.WeakLensing(nzs, sigma_e=0.26), \n",
    "           jc.probes.NumberCounts(nzs, jc.bias.constant_linear_bias(1.)) ]"
   ]
  },
  {
   "cell_type": "markdown",
   "metadata": {
    "colab_type": "text",
    "id": "t40aS024QFHx"
   },
   "source": [
    "Given these probes, we can now compute tomographic angular power spectra for these probes using the `angular_cl` tools hosted in the `jax_cosmo.angular_cl` module. For now, all computations are done under the Limber approximation."
   ]
  },
  {
   "cell_type": "code",
   "execution_count": 13,
   "metadata": {
    "colab": {
     "base_uri": "https://localhost:8080/",
     "height": 139
    },
    "colab_type": "code",
    "id": "QWedY8i6cFkw",
    "outputId": "d8b34187-8daf-4218-84a1-e6093a5868f2"
   },
   "outputs": [
    {
     "name": "stderr",
     "output_type": "stream",
     "text": [
      "/home/francois/.local/lib/python3.8/site-packages/jax/lax/lax.py:5591: UserWarning: Explicitly requested dtype float64 requested in asarray is not available, and will be truncated to dtype float32. To enable more dtypes, set the jax_enable_x64 configuration option or the JAX_ENABLE_X64 shell environment variable. See https://github.com/google/jax#current-gotchas for more.\n",
      "  warnings.warn(msg.format(dtype, fun_name , truncated_dtype))\n",
      "/home/francois/.local/lib/python3.8/site-packages/jax/lax/lax.py:5591: UserWarning: Explicitly requested dtype float64 requested in array is not available, and will be truncated to dtype float32. To enable more dtypes, set the jax_enable_x64 configuration option or the JAX_ENABLE_X64 shell environment variable. See https://github.com/google/jax#current-gotchas for more.\n",
      "  warnings.warn(msg.format(dtype, fun_name , truncated_dtype))\n",
      "/home/francois/.local/lib/python3.8/site-packages/jax/lax/lax.py:5591: UserWarning: Explicitly requested dtype <class 'jax.numpy.lax_numpy.int64'> requested in astype is not available, and will be truncated to dtype int32. To enable more dtypes, set the jax_enable_x64 configuration option or the JAX_ENABLE_X64 shell environment variable. See https://github.com/google/jax#current-gotchas for more.\n",
      "  warnings.warn(msg.format(dtype, fun_name , truncated_dtype))\n"
     ]
    }
   ],
   "source": [
    "# Let's define a range of \\ell\n",
    "ell = np.logspace(1,3)\n",
    "\n",
    "# And compute the data vector\n",
    "cls = jc.angular_cl.angular_cl(cosmo, ell, probes)"
   ]
  },
  {
   "cell_type": "code",
   "execution_count": 14,
   "metadata": {
    "colab": {
     "base_uri": "https://localhost:8080/",
     "height": 34
    },
    "colab_type": "code",
    "id": "VSKlZxxARxYO",
    "outputId": "3d39a4d7-165e-428d-d2a8-d482353d2064"
   },
   "outputs": [
    {
     "data": {
      "text/plain": [
       "(10, 50)"
      ]
     },
     "execution_count": 14,
     "metadata": {},
     "output_type": "execute_result"
    }
   ],
   "source": [
    "# Let's check the shape of these Cls\n",
    "cls.shape"
   ]
  },
  {
   "cell_type": "markdown",
   "metadata": {
    "colab_type": "text",
    "id": "X-Vnim-cSQSh"
   },
   "source": [
    "We see that we have obtained 10 spectra, each of them of size 50, which is the length of the $\\ell$ vector. They are ordered first by probe, then by redshift bin. So the first cl is the lensing auto-spectrum of the first bin"
   ]
  },
  {
   "cell_type": "code",
   "execution_count": 15,
   "metadata": {
    "colab": {
     "base_uri": "https://localhost:8080/",
     "height": 303
    },
    "colab_type": "code",
    "id": "-Xc458aidYL8",
    "outputId": "960b3f8d-8bb4-4018-f45d-869de305ca19"
   },
   "outputs": [
    {
     "data": {
      "image/png": "[encoded data removed]",
      "text/plain": [
       "<Figure size 432x288 with 1 Axes>"
      ]
     },
     "metadata": {
      "needs_background": "light"
     },
     "output_type": "display_data"
    }
   ],
   "source": [
    "# This is for instance the first bin auto-spectrum \n",
    "loglog(ell, cls[0])\n",
    "ylabel(r'$C_\\ell$')\n",
    "xlabel(r'$\\ell$');\n",
    "title(r'Angular $C_\\ell$');"
   ]
  },
  {
   "cell_type": "markdown",
   "metadata": {
    "colab_type": "text",
    "id": "Ri-QjcD8UckV"
   },
   "source": [
    "In addition to the data vector, we can also compute the covariance matrix using the tools from that module. Here is an example:"
   ]
  },
  {
   "cell_type": "code",
   "execution_count": 16,
   "metadata": {
    "colab": {},
    "colab_type": "code",
    "id": "zIdQSRgkUYC7"
   },
   "outputs": [
    {
     "name": "stderr",
     "output_type": "stream",
     "text": [
      "/home/francois/.local/lib/python3.8/site-packages/jax/lax/lax.py:5591: UserWarning: Explicitly requested dtype <class 'jax.numpy.lax_numpy.int64'> requested in astype is not available, and will be truncated to dtype int32. To enable more dtypes, set the jax_enable_x64 configuration option or the JAX_ENABLE_X64 shell environment variable. See https://github.com/google/jax#current-gotchas for more.\n",
      "  warnings.warn(msg.format(dtype, fun_name , truncated_dtype))\n",
      "/home/francois/.local/lib/python3.8/site-packages/jax/lax/lax.py:5591: UserWarning: Explicitly requested dtype float64 requested in asarray is not available, and will be truncated to dtype float32. To enable more dtypes, set the jax_enable_x64 configuration option or the JAX_ENABLE_X64 shell environment variable. See https://github.com/google/jax#current-gotchas for more.\n",
      "  warnings.warn(msg.format(dtype, fun_name , truncated_dtype))\n",
      "/home/francois/.local/lib/python3.8/site-packages/jax/lax/lax.py:5591: UserWarning: Explicitly requested dtype float64 requested in array is not available, and will be truncated to dtype float32. To enable more dtypes, set the jax_enable_x64 configuration option or the JAX_ENABLE_X64 shell environment variable. See https://github.com/google/jax#current-gotchas for more.\n",
      "  warnings.warn(msg.format(dtype, fun_name , truncated_dtype))\n"
     ]
    }
   ],
   "source": [
    "mu, cov = jc.angular_cl.gaussian_cl_covariance_and_mean(cosmo, ell, probes, sparse=True);"
   ]
  },
  {
   "cell_type": "markdown",
   "metadata": {
    "colab_type": "text",
    "id": "yGd3NelNVZpj"
   },
   "source": [
    "The data vector from this function is in a flattened shape so that it can be multiplied by the covariance matrix easily."
   ]
  },
  {
   "cell_type": "code",
   "execution_count": 17,
   "metadata": {
    "colab": {
     "base_uri": "https://localhost:8080/",
     "height": 265
    },
    "colab_type": "code",
    "id": "WX5lmHsRVXIh",
    "outputId": "64a404cf-9269-4e8b-ff67-3de6eb3ba183"
   },
   "outputs": [
    {
     "data": {
      "image/png": "[encoded data removed]",
      "text/plain": [
       "<Figure size 432x288 with 1 Axes>"
      ]
     },
     "metadata": {
      "needs_background": "light"
     },
     "output_type": "display_data"
    }
   ],
   "source": [
    "semilogy(mu);"
   ]
  },
  {
   "cell_type": "code",
   "execution_count": 18,
   "metadata": {
    "colab": {
     "base_uri": "https://localhost:8080/",
     "height": 595
    },
    "colab_type": "code",
    "id": "KLdw1eSvVXE3",
    "outputId": "cc8fc33a-ccb2-47a8-8e3b-cf4fdc4d9eb1"
   },
   "outputs": [
    {
     "data": {
      "image/png": "[encoded data removed]",
      "text/plain": [
       "<Figure size 720x720 with 1 Axes>"
      ]
     },
     "metadata": {
      "needs_background": "light"
     },
     "output_type": "display_data"
    }
   ],
   "source": [
    "figure(figsize=(10,10))\n",
    "imshow(np.log10(jc.sparse.to_dense(cov)+1e-11),cmap='gist_stern');"
   ]
  },
  {
   "cell_type": "markdown",
   "metadata": {
    "colab_type": "text",
    "id": "hN5jA8ogp7Bb"
   },
   "source": [
    "## Where the wild things are: Automatic Differentiation\n",
    "\n",
    "Now that we know how to compute various quantities, we can move on to the amazing part, computing gradients automatically by autodiff. As an example, we\n",
    "will demonstrate how to analytically **compute Fisher matrices, without finite differences.** But gradients are usefull for a wide range of other applications.\n",
    "\n",
    "\n",
    "We begin by defining a Gaussian likelihood function for the data vector we have \n",
    "obtained at the previous step. And we make this likelihood function depend on an array of parameters, `Omega_c`, `sigma_8`.\n",
    " \n",
    "\n"
   ]
  },
  {
   "cell_type": "code",
   "execution_count": 19,
   "metadata": {
    "colab": {},
    "colab_type": "code",
    "id": "QUBA8ajicFk4"
   },
   "outputs": [],
   "source": [
    "# Let's define a parameter vector for Omega_cdm, sigma8, which we initialize \n",
    "# at the fiducial cosmology used to produce the data vector.\n",
    "data = mu;\n",
    "params = np.array([cosmo.Omega_c, cosmo.sigma8])\n",
    "\n",
    "# Note the `jit` decorator for just in time compilation, this makes your code\n",
    "# run fast on GPU :-)\n",
    "@jax.jit\n",
    "def likelihood(p):\n",
    "  # Create a new cosmology at these parameters\n",
    "  cosmo = jc.Planck15(Omega_c=p[0], sigma8=p[1])\n",
    "\n",
    "  # Compute mean and covariance of angular Cls\n",
    "  m, C = jc.angular_cl.gaussian_cl_covariance_and_mean(cosmo, ell, probes, sparse=True)\n",
    "\n",
    "  # Return likelihood value assuming constant covariance, so we stop the gradient\n",
    "  # at the level of the precision matrix, and we will not include the logdet term\n",
    "  # in the likelihood\n",
    "  P = jc.sparse.inv(jax.lax.stop_gradient(C))\n",
    "  r = data - m\n",
    "  return -0.5 * r.T @ jc.sparse.sparse_dot_vec(P, r)"
   ]
  },
  {
   "cell_type": "code",
   "execution_count": 20,
   "metadata": {
    "colab": {
     "base_uri": "https://localhost:8080/",
     "height": 51
    },
    "colab_type": "code",
    "id": "4Us1pbt1dt-h",
    "outputId": "42bfcaff-0ed7-457f-95ce-108d1d8462eb"
   },
   "outputs": [
    {
     "name": "stderr",
     "output_type": "stream",
     "text": [
      "/home/francois/.local/lib/python3.8/site-packages/jax/lax/lax.py:5591: UserWarning: Explicitly requested dtype float64 requested in asarray is not available, and will be truncated to dtype float32. To enable more dtypes, set the jax_enable_x64 configuration option or the JAX_ENABLE_X64 shell environment variable. See https://github.com/google/jax#current-gotchas for more.\n",
      "  warnings.warn(msg.format(dtype, fun_name , truncated_dtype))\n",
      "/home/francois/.local/lib/python3.8/site-packages/jax/lax/lax.py:5591: UserWarning: Explicitly requested dtype float64 requested in array is not available, and will be truncated to dtype float32. To enable more dtypes, set the jax_enable_x64 configuration option or the JAX_ENABLE_X64 shell environment variable. See https://github.com/google/jax#current-gotchas for more.\n",
      "  warnings.warn(msg.format(dtype, fun_name , truncated_dtype))\n",
      "/home/francois/.local/lib/python3.8/site-packages/jax/lax/lax.py:5591: UserWarning: Explicitly requested dtype <class 'jax.numpy.lax_numpy.int64'> requested in astype is not available, and will be truncated to dtype int32. To enable more dtypes, set the jax_enable_x64 configuration option or the JAX_ENABLE_X64 shell environment variable. See https://github.com/google/jax#current-gotchas for more.\n",
      "  warnings.warn(msg.format(dtype, fun_name , truncated_dtype))\n"
     ]
    },
    {
     "name": "stdout",
     "output_type": "stream",
     "text": [
      "-3.5111292e-09\n",
      "29.1 ms ± 676 µs per loop (mean ± std. dev. of 7 runs, 10 loops each)\n"
     ]
    }
   ],
   "source": [
    "# Computing the likelihood at our fiducial params, we should get 0 since we don't\n",
    "# have the normalization term\n",
    "print(likelihood(params))\n",
    "%timeit likelihood(params).block_until_ready()"
   ]
  },
  {
   "cell_type": "markdown",
   "metadata": {
    "colab_type": "text",
    "id": "EmJfTrVSySAW"
   },
   "source": [
    "This is an illustration of evaluating the full likelihood. Note that because we \n",
    "used the `@jax.jit` decorator on the likelihood, this code is being compiled to \n",
    "and XLA expression that runs automatically on the GPU if it's available. \n",
    "\n",
    "\n",
    "But now that we have a likelihood function of the parameters, we can manipulate\n",
    "it with JAX, and in particular take the second derivative of this likelihood \n",
    "with respect to the input cosmological parameters. This Hessian, is just minus \n",
    "the Fisher matrix when everything is nice and Gaussian around the fiducial comology.\n",
    "\n",
    "\n",
    "So this mean, by JAX automaticatic differentiation, we can analytically derive\n",
    "the Fisher matrix in just one line:\n"
   ]
  },
  {
   "cell_type": "code",
   "execution_count": 22,
   "metadata": {
    "colab": {
     "base_uri": "https://localhost:8080/",
     "height": 139
    },
    "colab_type": "code",
    "id": "V9vX2W1UyRhm",
    "outputId": "e5985d95-374b-4150-8b28-e16218ab9d45"
   },
   "outputs": [],
   "source": [
    "# Compile a function that computes the Hessian of the likelihood\n",
    "hessian_loglik = jax.jit(jax.hessian(likelihood))\n",
    "\n",
    "# Evalauate the Hessian at fiductial cosmology to retrieve Fisher matrix\n",
    "F = - hessian_loglik(params)"
   ]
  },
  {
   "cell_type": "markdown",
   "metadata": {
    "colab_type": "text",
    "id": "_Vvm8-IpB4rf"
   },
   "source": [
    "What we are doing on the line above is taking the Hessian of the likelihood function, and evaluating at the fiducial cosmology. We surround the whole thing \n",
    "with a `jit` instruction so that the function gets compiled and evaluated in one\n",
    "block in the GPU.\n",
    "\n",
    "Compiling the function is not instantaneous, but once compiled, it becomes  fast but the evaluation is:"
   ]
  },
  {
   "cell_type": "code",
   "execution_count": 24,
   "metadata": {
    "colab": {
     "base_uri": "https://localhost:8080/",
     "height": 34
    },
    "colab_type": "code",
    "id": "NgrRoxsSB3UZ",
    "outputId": "ec070fd3-1f46-449c-e5c5-bca82ccae07d"
   },
   "outputs": [
    {
     "name": "stdout",
     "output_type": "stream",
     "text": [
      "479 ms ± 9.09 ms per loop (mean ± std. dev. of 7 runs, 1 loop each)\n"
     ]
    }
   ],
   "source": [
    "%timeit hessian_loglik(params).block_until_ready()"
   ]
  },
  {
   "cell_type": "markdown",
   "metadata": {
    "colab_type": "text",
    "id": "ZqXezv82EnxE"
   },
   "source": [
    "And best of all: **No derivatives were harmed by finite differences in the computation of this Fisher!**\n",
    "\n",
    "We can now try to plot it:"
   ]
  },
  {
   "cell_type": "code",
   "execution_count": 25,
   "metadata": {
    "colab": {
     "base_uri": "https://localhost:8080/",
     "height": 299
    },
    "colab_type": "code",
    "id": "pmTdQeeXk8qB",
    "outputId": "3ac0f9a9-3dc5-4dd4-b58b-fa6a6d8e1291"
   },
   "outputs": [
    {
     "data": {
      "text/plain": [
       "Text(8.125, 0.5, 'sigma8')"
      ]
     },
     "execution_count": 25,
     "metadata": {},
     "output_type": "execute_result"
    },
    {
     "data": {
      "image/png": "[encoded data removed]",
      "text/plain": [
       "<Figure size 432x288 with 1 Axes>"
      ]
     },
     "metadata": {
      "needs_background": "light"
     },
     "output_type": "display_data"
    }
   ],
   "source": [
    "# We can now plot contours obtained with this \n",
    "plot_contours(F, params, fill=False);\n",
    "xlabel('Omega_m')\n",
    "ylabel('sigma8')"
   ]
  },
  {
   "cell_type": "markdown",
   "metadata": {
    "colab_type": "text",
    "id": "dEXC2lIlE5IN"
   },
   "source": [
    "And just to reinforce this point and demonstrate further audodiff magic, let's try to derive the same matrix differently, using the usual formula for constant\n",
    "covariance:\n",
    "\n",
    "$$ F_{\\alpha, \\beta} = \\sum_{i,j} \\frac{d \\mu_i}{d \\theta_\\alpha} C^{-1}_{i,j} \\frac{d \\mu_j}{d \\theta_\\beta} $$\n",
    "\n",
    "What we need in this expression, is the covariance matrix, which we already have\n",
    "and the Jacobian of the mean with respect to parameters. Normally you would need to use finite differencing, but luckily we can get that easily with JAX:"
   ]
  },
  {
   "cell_type": "code",
   "execution_count": 26,
   "metadata": {
    "colab": {},
    "colab_type": "code",
    "id": "WKn4COsdlKfs"
   },
   "outputs": [],
   "source": [
    "# We define a parameter dependent function that computes the mean\n",
    "def mean_fn(p):\n",
    "  cosmo = jc.Planck15(Omega_c=p[0], sigma8=p[1])\n",
    "  # Compute signal vector\n",
    "  m = jc.angular_cl.angular_cl(cosmo, ell, probes)\n",
    "  return m.flatten() # We want it in 1d to operate against the covariance matrix"
   ]
  },
  {
   "cell_type": "code",
   "execution_count": 27,
   "metadata": {
    "colab": {},
    "colab_type": "code",
    "id": "Be381gp6Gjqx"
   },
   "outputs": [],
   "source": [
    "# We compute it's jacobian with JAX, and we JIT it for efficiency\n",
    "jac_mean = jax.jit(jax.jacfwd(mean_fn))"
   ]
  },
  {
   "cell_type": "code",
   "execution_count": 28,
   "metadata": {
    "colab": {
     "base_uri": "https://localhost:8080/",
     "height": 139
    },
    "colab_type": "code",
    "id": "t3kVMfEaGyuJ",
    "outputId": "339ec1c1-4f47-43e9-f692-9c9070f5f0a2"
   },
   "outputs": [],
   "source": [
    "# We can now evaluate the jacobian at the fiducial cosmology\n",
    "dmu = jac_mean(params)"
   ]
  },
  {
   "cell_type": "code",
   "execution_count": 29,
   "metadata": {
    "colab": {
     "base_uri": "https://localhost:8080/",
     "height": 34
    },
    "colab_type": "code",
    "id": "H6uzzV-jHnNe",
    "outputId": "ed61a0df-5f6f-485b-ebbc-33ddaaa15c20"
   },
   "outputs": [
    {
     "data": {
      "text/plain": [
       "(500, 2)"
      ]
     },
     "execution_count": 29,
     "metadata": {},
     "output_type": "execute_result"
    }
   ],
   "source": [
    "dmu.shape"
   ]
  },
  {
   "cell_type": "code",
   "execution_count": 30,
   "metadata": {
    "colab": {
     "base_uri": "https://localhost:8080/",
     "height": 34
    },
    "colab_type": "code",
    "id": "X9ZDB3RtHFnG",
    "outputId": "07f53328-fb3a-4ead-bdaf-d6528136a8aa"
   },
   "outputs": [
    {
     "name": "stdout",
     "output_type": "stream",
     "text": [
      "56.5 ms ± 601 µs per loop (mean ± std. dev. of 7 runs, 10 loops each)\n"
     ]
    }
   ],
   "source": [
    "# For fun, we can alsi time it\n",
    "%timeit jac_mean(params).block_until_ready()"
   ]
  },
  {
   "cell_type": "markdown",
   "metadata": {
    "colab_type": "text",
    "id": "ej3RdeaeHWy6"
   },
   "source": [
    "Getting these gradients is the same order of time than evaluating the forward function!"
   ]
  },
  {
   "cell_type": "code",
   "execution_count": 35,
   "metadata": {
    "colab": {},
    "colab_type": "code",
    "id": "F3UMqqdLHQX7"
   },
   "outputs": [],
   "source": [
    "# Now we can compose the Fisher matrix:\n",
    "F_2 = jc.sparse.dot(dmu.T, jc.sparse.inv(cov), dmu)"
   ]
  },
  {
   "cell_type": "code",
   "execution_count": 36,
   "metadata": {
    "colab": {
     "base_uri": "https://localhost:8080/",
     "height": 282
    },
    "colab_type": "code",
    "id": "zUv4GmcVH1z8",
    "outputId": "4b7fb3e2-3271-4492-f781-45c205c2e57c"
   },
   "outputs": [
    {
     "data": {
      "image/png": "[encoded data removed]",
      "text/plain": [
       "<Figure size 432x288 with 1 Axes>"
      ]
     },
     "metadata": {
      "needs_background": "light"
     },
     "output_type": "display_data"
    }
   ],
   "source": [
    "# We can now plot contours obtained with this \n",
    "plot_contours(F, params, fill=False,color='black',lw=4);\n",
    "plot_contours(F_2, params, fill=False, color='red', lw=4, linestyle='dashed');\n",
    "xlabel('Omega_m')\n",
    "ylabel('sigma8');"
   ]
  },
  {
   "cell_type": "markdown",
   "metadata": {
    "colab_type": "text",
    "id": "51gfhl9cIzMC"
   },
   "source": [
    "The red dashed is our second derivation of the Fisher matrix using the jacobian, the black contour underneath is our first derivation simply taking the Hessian of the likelihood.\n",
    "\n",
    "They agree perfectly, and they should, because they are both analytically computed."
   ]
  },
  {
   "cell_type": "markdown",
   "metadata": {
    "colab_type": "text",
    "id": "JrpDmbNfJUJ4"
   },
   "source": [
    "## Conclusions and going further\n",
    "\n",
    "We have covered some of the most important points of `jax-cosmo`, feel free to \n",
    "go through the [design document](https://github.com/DifferentiableUniverseInitiative/jax_cosmo/blob/master/design.md) for background and further explanations of how things work. You can also follow this [JAX document](https://jax.readthedocs.io/en/latest/notebooks/Common_Gotchas_in_JAX.html) to go deeper into JAX.\n",
    "\n",
    "\n",
    "`jax-cosmo` is still very young and lacks many features, but hopefuly this notebook demonstrates the power of automatic differentiation, and given that the entire code is in simple Python, feel free to contribute missing features that would be necessary for your work ;-) "
   ]
  }
 ],
 "metadata": {
  "accelerator": "GPU",
  "colab": {
   "include_colab_link": true,
   "name": "jax-cosmo-intro.ipynb",
   "provenance": [],
   "toc_visible": true
  },
  "kernelspec": {
   "display_name": "Python 3",
   "language": "python",
   "name": "python3"
  },
  "language_info": {
   "codemirror_mode": {
    "name": "ipython",
    "version": 3
   },
   "file_extension": ".py",
   "mimetype": "text/x-python",
   "name": "python",
   "nbconvert_exporter": "python",
   "pygments_lexer": "ipython3",
   "version": "3.8.3"
  }
 },
 "nbformat": 4,
 "nbformat_minor": 1
}
