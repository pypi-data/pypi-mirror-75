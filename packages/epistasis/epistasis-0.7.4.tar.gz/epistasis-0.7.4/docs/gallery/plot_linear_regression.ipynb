{
  "cells": [
    {
      "cell_type": "code",
      "outputs": [],
      "execution_count": null,
      "source": [
        "%matplotlib inline"
      ],
      "metadata": {
        "collapsed": false
      }
    },
    {
      "cell_type": "markdown",
      "source": [
        "\nHigh-order epistasis model\n==========================\n\nEstimate high-order epistatic coefficients in arbitrary genotype-phenotype maps.\nA linear epistasis model fits high-order interaction terms to capture\nvariation in phenotype.\n\n"
      ],
      "metadata": {}
    },
    {
      "cell_type": "code",
      "outputs": [],
      "execution_count": null,
      "source": [
        "# Imports\nimport matplotlib.pyplot as plt\n\nfrom gpmap import GenotypePhenotypeMap\nfrom epistasis.models import EpistasisLinearRegression\nfrom epistasis.pyplot import plot_coefs\n\n\n# The data\nwildtype = \"000\"\ngenotypes = ['000', '001', '010', '011', '100', '101', '110', '111']\nphenotypes = [ 0.366, -0.593,  1.595, -0.753,  0.38 ,  1.296,  1.025, -0.519]\ngpm = GenotypePhenotypeMap(wildtype, genotypes, phenotypes)\n\n# Initialize a model\nmodel = EpistasisLinearRegression(order=3)\nmodel.add_gpm(gpm)\n\n# Fit the model\nmodel.fit()\n\nfig, ax = plot_coefs(model, figsize=(2,3))\nplt.show()"
      ],
      "metadata": {
        "collapsed": false
      }
    }
  ],
  "nbformat": 4,
  "nbformat_minor": 0,
  "metadata": {
    "kernelspec": {
      "language": "python",
      "name": "python3",
      "display_name": "Python 3"
    },
    "language_info": {
      "mimetype": "text/x-python",
      "codemirror_mode": {
        "name": "ipython",
        "version": 3
      },
      "nbconvert_exporter": "python",
      "pygments_lexer": "ipython3",
      "name": "python",
      "file_extension": ".py",
      "version": "3.5.4"
    }
  }
}