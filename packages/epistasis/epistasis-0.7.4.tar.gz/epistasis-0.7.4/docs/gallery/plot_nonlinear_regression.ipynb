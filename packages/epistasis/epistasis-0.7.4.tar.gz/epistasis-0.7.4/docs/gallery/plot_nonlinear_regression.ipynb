{
  "cells": [
    {
      "cell_type": "code",
      "execution_count": null,
      "source": [
        "%matplotlib inline"
      ],
      "outputs": [],
      "metadata": {
        "collapsed": false
      }
    },
    {
      "cell_type": "markdown",
      "source": [
        "\nFitting nonlinear genotype-phenotype maps\n=========================================\n\nUse a linear, logistic regression model to estimate the positive/negative effects\nof mutations.\n\n"
      ],
      "metadata": {}
    },
    {
      "cell_type": "code",
      "execution_count": null,
      "source": [
        "# Imports\nimport matplotlib.pyplot as plt\n\nfrom gpmap.simulate import MountFujiSimulation\n\nfrom epistasis.models import EpistasisPowerTransform\nfrom epistasis.pyplot import plot_power_transform\n\n# The data\ngpm = MountFujiSimulation.from_length(4, field_strength=-1, roughness=(-1,1))\n\n# Initialize a model\nmodel = EpistasisPowerTransform(lmbda=1, A=0, B=0)\nmodel.add_gpm(gpm)\n\n# Fit the model\nmodel.fit()\n\nfig, ax = plt.subplots(figsize=(2.5,2.5))\nax = plot_power_transform(model, ax=ax)\nplt.show()"
      ],
      "outputs": [],
      "metadata": {
        "collapsed": false
      }
    }
  ],
  "nbformat_minor": 0,
  "nbformat": 4,
  "metadata": {
    "language_info": {
      "file_extension": ".py",
      "mimetype": "text/x-python",
      "name": "python",
      "nbconvert_exporter": "python",
      "pygments_lexer": "ipython3",
      "version": "3.5.4",
      "codemirror_mode": {
        "name": "ipython",
        "version": 3
      }
    },
    "kernelspec": {
      "display_name": "Python 3",
      "name": "python3",
      "language": "python"
    }
  }
}