{
  "cells": [
    {
      "cell_type": "code",
      "outputs": [],
      "metadata": {
        "collapsed": false
      },
      "execution_count": null,
      "source": [
        "%matplotlib inline"
      ]
    },
    {
      "cell_type": "markdown",
      "metadata": {},
      "source": [
        "\nHandling dead phenotypes\n========================\n\nUse a linear, logistic regression model to estimate the positive/negative effects\nof mutations.\n\n"
      ]
    },
    {
      "cell_type": "code",
      "outputs": [],
      "metadata": {
        "collapsed": false
      },
      "execution_count": null,
      "source": [
        "# Imports\nimport matplotlib.pyplot as plt\n\nfrom gpmap import GenotypePhenotypeMap\nfrom epistasis.models import EpistasisLogisticRegression\nfrom epistasis.pyplot import plot_coefs\n\n# The data\nwildtype = \"000\"\ngenotypes = ['000', '001', '010', '011', '100', '101', '110', '111']\nphenotypes = [ 0.366, -0.593,  1.595, -0.753,  0.38 ,  1.296,  1.025, -0.519]\ngpm = GenotypePhenotypeMap(wildtype, genotypes, phenotypes)\n\n# Threshold\nthreshold = 1.0\n\n# Initialize a model\nmodel = EpistasisLogisticRegression(threshold=threshold)\nmodel.add_gpm(gpm)\n\n# Fit the model\nmodel.fit()\n\nfig, ax = plot_coefs(model, figsize=(1,3))\nplt.show()"
      ]
    }
  ],
  "nbformat_minor": 0,
  "metadata": {
    "kernelspec": {
      "language": "python",
      "display_name": "Python 3",
      "name": "python3"
    },
    "language_info": {
      "version": "3.5.4",
      "file_extension": ".py",
      "name": "python",
      "codemirror_mode": {
        "name": "ipython",
        "version": 3
      },
      "nbconvert_exporter": "python",
      "mimetype": "text/x-python",
      "pygments_lexer": "ipython3"
    }
  },
  "nbformat": 4
}