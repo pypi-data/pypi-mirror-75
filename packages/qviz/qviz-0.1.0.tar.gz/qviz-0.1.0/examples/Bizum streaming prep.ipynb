{
 "cells": [
  {
   "cell_type": "code",
   "execution_count": 1,
   "metadata": {},
   "outputs": [],
   "source": [
    "from pyspark.sql import SparkSession\n",
    "\n",
    "spark = SparkSession.builder .getOrCreate()\n",
    "\n",
    "import pandas as pd\n",
    "d=pd.read_parquet(\"data/bizum.parquet\")"
   ]
  },
  {
   "cell_type": "code",
   "execution_count": 2,
   "metadata": {},
   "outputs": [],
   "source": [
    "from qviz.adp import SparkAutomatedPreparation\n",
    "p = SparkAutomatedPreparation()"
   ]
  },
  {
   "cell_type": "code",
   "execution_count": 3,
   "metadata": {},
   "outputs": [],
   "source": [
    "p.set_args(remove_outliers=True,\n",
    "                             threshold_cardinality=15,\n",
    "                             do_PCA=True)\n"
   ]
  },
  {
   "cell_type": "code",
   "execution_count": 4,
   "metadata": {},
   "outputs": [],
   "source": [
    "dropped = spark.createDataFrame(d.drop(\n",
    "    [a for a in d  if d[a].nunique()==1]\n",
    "        ,axis=1))\n",
    "\n"
   ]
  },
  {
   "cell_type": "code",
   "execution_count": 5,
   "metadata": {},
   "outputs": [],
   "source": [
    "types = {column: t for column, t in dropped.dtypes}\n"
   ]
  },
  {
   "cell_type": "code",
   "execution_count": 6,
   "metadata": {},
   "outputs": [],
   "source": [
    "types\n",
    "df2 = p._encode_categorical(dropped, types)\n"
   ]
  },
  {
   "cell_type": "code",
   "execution_count": 7,
   "metadata": {},
   "outputs": [],
   "source": [
    "p.scaling_method=0\n",
    "df3 = p._scale_df(p._assemble_df(df2))"
   ]
  },
  {
   "cell_type": "code",
   "execution_count": 8,
   "metadata": {},
   "outputs": [],
   "source": [
    "df4 = p._perform_pca(df3)"
   ]
  },
  {
   "cell_type": "code",
   "execution_count": 18,
   "metadata": {},
   "outputs": [],
   "source": [
    "df = df3\n",
    "from pyspark.ml.feature import PCA\n",
    "\n",
    "n_samples = df.count()\n",
    "n_features = len(df.select(\"features\").head()[0])\n",
    "n_components = min(n_samples, n_features)\n",
    "\n",
    "inputCol = \"features\"\n",
    "outputCol = \"pca_features\"\n",
    "\n",
    "pca = PCA(k=3, inputCol=inputCol, outputCol=outputCol)\n",
    "pca_model = pca.fit(df)\n",
    "\n",
    "accum_variance = 0\n",
    "\n",
    "for i, var in enumerate(pca_model.explainedVariance):\n",
    "    accum_variance += var\n",
    "    if accum_variance >= 0.95:\n",
    "        components = i + 1\n",
    "        break\n",
    "else:\n",
    "    components = n_components\n",
    "\n",
    "if components != n_components:\n",
    "    pca = PCA(k=components, inputCol=inputCol, outputCol=outputCol)\n",
    "    pca_model = pca.fit(df)\n",
    "\n",
    "df = pca_model.transform(df)\n",
    "\n",
    "df = df.drop(\"features\")\n",
    "df = df.withColumnRenamed(\"pca_features\", \"features\")\n"
   ]
  },
  {
   "cell_type": "code",
   "execution_count": 28,
   "metadata": {},
   "outputs": [
    {
     "data": {
      "text/plain": [
       "DenseMatrix(30, 3, [-0.0305, -0.4021, 0.3313, -0.4052, 0.379, 0.1055, 0.0837, 0.0298, ..., 0.0762, -0.079, 0.0202, 0.2422, 0.143, -0.4461, 0.1286, -0.2488], 0)"
      ]
     },
     "execution_count": 28,
     "metadata": {},
     "output_type": "execute_result"
    }
   ],
   "source": [
    "pca_model.pc"
   ]
  },
  {
   "cell_type": "code",
   "execution_count": 25,
   "metadata": {},
   "outputs": [],
   "source": [
    "f=df.select(\"features\").toPandas()"
   ]
  },
  {
   "cell_type": "code",
   "execution_count": 11,
   "metadata": {},
   "outputs": [],
   "source": [
    "\n",
    "value=f.apply(lambda a:list(a.features), axis=1, result_type='expand')"
   ]
  },
  {
   "cell_type": "code",
   "execution_count": 12,
   "metadata": {},
   "outputs": [],
   "source": [
    "f.to_csv(\"tmp.csv\")"
   ]
  },
  {
   "cell_type": "code",
   "execution_count": 13,
   "metadata": {},
   "outputs": [],
   "source": [
    "value =value.rename(columns={0:'x',1:'y',2:'z'})"
   ]
  },
  {
   "cell_type": "code",
   "execution_count": 14,
   "metadata": {},
   "outputs": [],
   "source": [
    "final = d.copy()"
   ]
  },
  {
   "cell_type": "code",
   "execution_count": 15,
   "metadata": {},
   "outputs": [],
   "source": [
    "final['x'] = value.x\n",
    "final['y'] = value.y\n",
    "final['z'] = value.z"
   ]
  },
  {
   "cell_type": "code",
   "execution_count": 17,
   "metadata": {},
   "outputs": [
    {
     "data": {
      "text/plain": [
       "['PK_IDE_USUCLO_ORIG',\n",
       " 'PK_IDENUMSESION',\n",
       " 'PK_ORDEN',\n",
       " 'PK_REFERENCIA',\n",
       " 'IMPORTE_OPERACION',\n",
       " 'IND_AUTENTICACION_REFORZADA',\n",
       " 'TIPO_AUTENTICACION',\n",
       " 'AUTENTICACION_ESPERADA',\n",
       " 'ESTADO_OP_DEC',\n",
       " 'ESTADO_OP_DEC_LTX',\n",
       " 'MOTIVO_ESTADO',\n",
       " 'ESTADO_OP_TRF',\n",
       " 'FK_NUMPERSO_TIT_LOE',\n",
       " 'TERMINAL',\n",
       " 'HORA_CONFIRMACION']"
      ]
     },
     "execution_count": 17,
     "metadata": {},
     "output_type": "execute_result"
    }
   ],
   "source": [
    "dropped.columns"
   ]
  },
  {
   "cell_type": "code",
   "execution_count": null,
   "metadata": {},
   "outputs": [],
   "source": [
    "from cassandra.cluster import Cluster\n",
    "c = Cluster()\n",
    "s = c.connect()\n",
    "s.execute(\"DROP KEYSPACE IF EXISTS caixa\")\n",
    "s.execute(\"DROP KEYSPACE IF EXISTS caixa_qbeast\")\n",
    "s.execute(\"CREATE KEYSPACE caixa WITH replication = {'class': 'SimpleStrategy', 'replication_factor': 1};\")\n",
    "s.execute(\"\"\"\n",
    "CREATE TABLE caixa.bizum( \n",
    "    PK_ANYOMES          bigint,\n",
    "    PK_ANYOMESDIA       bigint,\n",
    "    PK_IDE_USUCLO_ORIG  bigint,\n",
    "    PK_IDENUMSESION     text, \n",
    "    PK_ORDEN            bigint,\n",
    "    PK_REFERENCIA       text,\n",
    "    IMPORTE_OPERACION   float,\n",
    "    IND_AUTENTICACION_REFORZADA      bigint,\n",
    "    TIPO_AUTENTICACION               text,\n",
    "    AUTENTICACION_ESPERADA           text,\n",
    "    ESTADO_OP_DEC                    text,\n",
    "    ESTADO_OP_DEC_LTX                text,\n",
    "    MOTIVO_ESTADO                    text,\n",
    "    ESTADO_OP_TRF                    text,\n",
    "    NUM_PARTICION                    bigint,\n",
    "    FK_NUMPERSO_TIT_LOE              bigint,\n",
    "    COD_TIPO_TERMINAL                text,\n",
    "    TERMINAL                         bigint,\n",
    "    EMPRESA                          bigint,\n",
    "    MOTIVO_ANULACION                 bigint,\n",
    "    HORA_CONFIRMACION                text,\n",
    "    FECHA_CARGA                      text,\n",
    "    x                                float,\n",
    "    y                                float,\n",
    "    z                                float,\n",
    "    PRIMARY KEY(PK_ANYOMES,PK_ANYOMESDIA,PK_IDE_USUCLO_ORIG,PK_IDENUMSESION,PK_REFERENCIA) \n",
    ");\n",
    "\"\"\")\n",
    "#CREATE CUSTOM INDEX  IF NOT EXISTS caixa_bizum_index ON caixa.bizum (x,y,z)\n",
    "#using 'es.bsc.qbeast.index.QbeastIndex' with OPTIONS = {'transformation': 'LinearTransformation((-120000,140),(-90000,1100),(-50000,50000))'};\n",
    "s.execute(\"\"\"CREATE TRIGGER t ON caixa.bizum USING 'es.bsc.qbeast.index.QbeastTrigger';\"\"\")\n",
    "s.execute(\"\"\"CREATE CUSTOM INDEX  IF NOT EXISTS \n",
    "caixa_bizum_index ON caixa.bizum (x,y,z) \n",
    "using 'es.bsc.qbeast.index.QbeastIndex' with \n",
    "OPTIONS = {'transformation': 'LinearTransformation((-10,10),(-10,10),(-10,10))'};\"\"\"\n",
    ")\n",
    "\n"
   ]
  },
  {
   "cell_type": "code",
   "execution_count": null,
   "metadata": {},
   "outputs": [],
   "source": []
  },
  {
   "cell_type": "code",
   "execution_count": null,
   "metadata": {},
   "outputs": [],
   "source": [
    "final.to_csv(\"f_no_index.csv\",index=False)"
   ]
  },
  {
   "cell_type": "code",
   "execution_count": null,
   "metadata": {},
   "outputs": [],
   "source": [
    "!cqlsh -e \"COPY caixa.bizum(PK_ANYOMES,PK_ANYOMESDIA,PK_IDE_USUCLO_ORIG,PK_IDENUMSESION,PK_ORDEN,PK_REFERENCIA,IMPORTE_OPERACION,IND_AUTENTICACION_REFORZADA,TIPO_AUTENTICACION,AUTENTICACION_ESPERADA,ESTADO_OP_DEC,ESTADO_OP_DEC_LTX,MOTIVO_ESTADO,ESTADO_OP_TRF,NUM_PARTICION,FK_NUMPERSO_TIT_LOE,COD_TIPO_TERMINAL,TERMINAL,EMPRESA,MOTIVO_ANULACION,HORA_CONFIRMACION,FECHA_CARGA,x,y,z) FROM '/home/cesare/workspace/qbeast.io/qviz/examples/f_no_index.csv' with HEADER = true;\"\n"
   ]
  },
  {
   "cell_type": "code",
   "execution_count": null,
   "metadata": {},
   "outputs": [],
   "source": []
  }
 ],
 "metadata": {
  "kernelspec": {
   "display_name": "Python 3",
   "language": "python",
   "name": "python3"
  },
  "language_info": {
   "codemirror_mode": {
    "name": "ipython",
    "version": 3
   },
   "file_extension": ".py",
   "mimetype": "text/x-python",
   "name": "python",
   "nbconvert_exporter": "python",
   "pygments_lexer": "ipython3",
   "version": "3.8.3"
  }
 },
 "nbformat": 4,
 "nbformat_minor": 4
}
