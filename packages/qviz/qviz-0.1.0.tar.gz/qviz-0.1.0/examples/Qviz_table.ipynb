{
 "cells": [
  {
   "cell_type": "code",
   "execution_count": null,
   "metadata": {
    "pycharm": {
     "name": "#%%\n"
    }
   },
   "outputs": [],
   "source": [
    "from ipywidgets import VBox,Box\n",
    "import qviz as qv\n",
    "from qviz import qb1,log\n",
    "import seaborn as sns\n",
    "import ipywidgets as widgets\n",
    "import matplotlib.pyplot as plt\n",
    "\n",
    "\n"
   ]
  },
  {
   "cell_type": "code",
   "execution_count": null,
   "metadata": {
    "pycharm": {
     "name": "#%%\n"
    }
   },
   "outputs": [],
   "source": [
    "%matplotlib inline\n",
    "\n",
    "ds=qb1.SourceSelector()\n",
    "qviz = qv.Qviz(source=ds)\n",
    "ds.key_drop.value='caixa'\n",
    "ds.table_drop.value='bizum'\n",
    "\n",
    "\n",
    "o = widgets.Output()\n",
    "\n",
    "def update_pairplot(changes):\n",
    "    o.clear_output()    \n",
    "    with o: \n",
    "        if not qviz.selected.empty:\n",
    "            print(\"Loading\")\n",
    "            nu = qviz.selected.nunique()\n",
    "            high_card = qviz.selected[nu[nu>1].index]\n",
    "            sns.pairplot(high_card)\n",
    "            o.clear_output()\n",
    "            plt.show()\n",
    "            \n",
    "            \n",
    "        \n",
    "qviz.observe(update_pairplot,names=\"_selected\")\n",
    "tabs = widgets.Tab([qviz.selected_sheet,o,log])\n",
    "tabs.set_title(0,\"Selected\")\n",
    "tabs.set_title(1,\"Pair Plot\")\n",
    "tabs.set_title(2,\"Log Plot\")\n",
    "VBox([ds,qviz,tabs])"
   ]
  },
  {
   "cell_type": "code",
   "execution_count": null,
   "metadata": {
    "pycharm": {
     "name": "#%%\n"
    }
   },
   "outputs": [],
   "source": []
  },
  {
   "cell_type": "code",
   "execution_count": null,
   "metadata": {},
   "outputs": [],
   "source": []
  }
 ],
 "metadata": {
  "kernelspec": {
   "display_name": "Python 3",
   "language": "python",
   "name": "python3"
  },
  "language_info": {
   "codemirror_mode": {
    "name": "ipython",
    "version": 3
   },
   "file_extension": ".py",
   "mimetype": "text/x-python",
   "name": "python",
   "nbconvert_exporter": "python",
   "pygments_lexer": "ipython3",
   "version": "3.8.3"
  }
 },
 "nbformat": 4,
 "nbformat_minor": 4
}
