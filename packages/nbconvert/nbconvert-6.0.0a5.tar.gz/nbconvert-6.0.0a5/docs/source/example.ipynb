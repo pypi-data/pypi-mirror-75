{
 "cells": [
  {
   "cell_type": "markdown",
   "metadata": {
    "example": {
     "difficulty": "Hard"
    }
   },
   "source": [
    "# Example notebook"
   ]
  },
  {
   "cell_type": "markdown",
   "metadata": {},
   "source": [
    "### Markdown cells\n",
    "\n",
    "This is an example notebook that can be converted with `nbconvert` to different formats. This is an example of a markdown cell."
   ]
  },
  {
   "cell_type": "markdown",
   "metadata": {
    "tags": [
     "Medium"
    ]
   },
   "source": [
    "### LaTeX Equations\n",
    "\n",
    "Here is an equation:\n",
    "\n",
    "$$\n",
    "y = \\sin(x)\n",
    "$$"
   ]
  },
  {
   "cell_type": "markdown",
   "metadata": {
    "example": {
     "difficulty": "Easy"
    }
   },
   "source": [
    "### Code cells"
   ]
  },
  {
   "cell_type": "code",
   "execution_count": 1,
   "metadata": {
    "tags": [
     "Easy"
    ]
   },
   "outputs": [
    {
     "name": "stdout",
     "output_type": "stream",
     "text": [
      "This is a code cell that produces some output\n"
     ]
    }
   ],
   "source": [
    "print(\"This is a code cell that produces some output\")"
   ]
  },
  {
   "cell_type": "markdown",
   "metadata": {},
   "source": [
    "### Inline figures"
   ]
  },
  {
   "cell_type": "code",
   "execution_count": 1,
   "metadata": {
    "example": {
     "difficulty": "Medium"
    },
    "tags": [
     "Hard"
    ]
   },
   "outputs": [
    {
     "data": {
      "text/plain": [
       "[<matplotlib.lines.Line2D at 0x1111b2160>]"
      ]
     },
     "execution_count": 1,
     "metadata": {},
     "output_type": "execute_result"
    },
    {
     "data": {
      "image/png": "[encoded data removed]",
      "text/plain": [
       "<matplotlib.figure.Figure at 0x107038898>"
      ]
     },
     "metadata": {},
     "output_type": "display_data"
    }
   ],
   "source": [
    "import matplotlib.pyplot as plt\n",
    "import numpy as np\n",
    "plt.ion()\n",
    "\n",
    "x = np.linspace(0, 2 * np.pi, 100)\n",
    "y = np.sin(x)\n",
    "plt.plot(x, y)"
   ]
  }
 ],
 "metadata": {
  "celltoolbar": "Edit Metadata",
  "kernelspec": {
   "display_name": "Python 3",
   "language": "python",
   "name": "python3"
  },
  "language_info": {
   "codemirror_mode": {
    "name": "ipython",
    "version": 3
   },
   "file_extension": ".py",
   "mimetype": "text/x-python",
   "name": "python",
   "nbconvert_exporter": "python",
   "pygments_lexer": "ipython3",
   "version": "3.5.2"
  }
 },
 "nbformat": 4,
 "nbformat_minor": 1
}
