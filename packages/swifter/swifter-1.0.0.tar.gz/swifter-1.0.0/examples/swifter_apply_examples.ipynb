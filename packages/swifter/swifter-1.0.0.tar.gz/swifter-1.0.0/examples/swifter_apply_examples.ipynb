{
 "cells": [
  {
   "cell_type": "markdown",
   "metadata": {},
   "source": [
    "# Imports and data"
   ]
  },
  {
   "cell_type": "code",
   "execution_count": 1,
   "metadata": {},
   "outputs": [
    {
     "name": "stderr",
     "output_type": "stream",
     "text": [
      "/anaconda3/lib/python3.6/importlib/_bootstrap.py:219: RuntimeWarning: numpy.dtype size changed, may indicate binary incompatibility. Expected 96, got 88\n",
      "  return f(*args, **kwds)\n",
      "/anaconda3/lib/python3.6/importlib/_bootstrap.py:219: RuntimeWarning: numpy.dtype size changed, may indicate binary incompatibility. Expected 96, got 88\n",
      "  return f(*args, **kwds)\n"
     ]
    }
   ],
   "source": [
    "import pandas as pd\n",
    "import numpy as np\n",
    "import swifter"
   ]
  },
  {
   "cell_type": "markdown",
   "metadata": {},
   "source": [
    "These data (~71 million rows) were taken from https://www.kaggle.com/benhamner/sf-bay-area-bike-share/data "
   ]
  },
  {
   "cell_type": "code",
   "execution_count": 2,
   "metadata": {},
   "outputs": [],
   "source": [
    "trips = pd.read_csv('trip.csv')"
   ]
  },
  {
   "cell_type": "code",
   "execution_count": 5,
   "metadata": {},
   "outputs": [],
   "source": [
    "data = pd.read_csv('status.csv')"
   ]
  },
  {
   "cell_type": "code",
   "execution_count": 6,
   "metadata": {},
   "outputs": [
    {
     "name": "stdout",
     "output_type": "stream",
     "text": [
      "(71984434, 4)\n"
     ]
    },
    {
     "data": {
      "text/html": [
       "<div>\n",
       "<style scoped>\n",
       "    .dataframe tbody tr th:only-of-type {\n",
       "        vertical-align: middle;\n",
       "    }\n",
       "\n",
       "    .dataframe tbody tr th {\n",
       "        vertical-align: top;\n",
       "    }\n",
       "\n",
       "    .dataframe thead th {\n",
       "        text-align: right;\n",
       "    }\n",
       "</style>\n",
       "<table border=\"1\" class=\"dataframe\">\n",
       "  <thead>\n",
       "    <tr style=\"text-align: right;\">\n",
       "      <th></th>\n",
       "      <th>station_id</th>\n",
       "      <th>bikes_available</th>\n",
       "      <th>docks_available</th>\n",
       "      <th>time</th>\n",
       "    </tr>\n",
       "  </thead>\n",
       "  <tbody>\n",
       "    <tr>\n",
       "      <th>0</th>\n",
       "      <td>2</td>\n",
       "      <td>2</td>\n",
       "      <td>25</td>\n",
       "      <td>2013/08/29 12:06:01</td>\n",
       "    </tr>\n",
       "    <tr>\n",
       "      <th>1</th>\n",
       "      <td>2</td>\n",
       "      <td>2</td>\n",
       "      <td>25</td>\n",
       "      <td>2013/08/29 12:07:01</td>\n",
       "    </tr>\n",
       "    <tr>\n",
       "      <th>2</th>\n",
       "      <td>2</td>\n",
       "      <td>2</td>\n",
       "      <td>25</td>\n",
       "      <td>2013/08/29 12:08:01</td>\n",
       "    </tr>\n",
       "    <tr>\n",
       "      <th>3</th>\n",
       "      <td>2</td>\n",
       "      <td>2</td>\n",
       "      <td>25</td>\n",
       "      <td>2013/08/29 12:09:01</td>\n",
       "    </tr>\n",
       "    <tr>\n",
       "      <th>4</th>\n",
       "      <td>2</td>\n",
       "      <td>2</td>\n",
       "      <td>25</td>\n",
       "      <td>2013/08/29 12:10:01</td>\n",
       "    </tr>\n",
       "  </tbody>\n",
       "</table>\n",
       "</div>"
      ],
      "text/plain": [
       "   station_id  bikes_available  docks_available                 time\n",
       "0           2                2               25  2013/08/29 12:06:01\n",
       "1           2                2               25  2013/08/29 12:07:01\n",
       "2           2                2               25  2013/08/29 12:08:01\n",
       "3           2                2               25  2013/08/29 12:09:01\n",
       "4           2                2               25  2013/08/29 12:10:01"
      ]
     },
     "execution_count": 6,
     "metadata": {},
     "output_type": "execute_result"
    }
   ],
   "source": [
    "print(data.shape)\n",
    "data.head()"
   ]
  },
  {
   "cell_type": "markdown",
   "metadata": {},
   "source": [
    "# Apply any function in the fastest available manner"
   ]
  },
  {
   "cell_type": "markdown",
   "metadata": {},
   "source": [
    "## When possible, vectorized form of function is used for 100x speed of pandas"
   ]
  },
  {
   "cell_type": "code",
   "execution_count": 7,
   "metadata": {},
   "outputs": [],
   "source": [
    "def bikes_proportion(x, max_x):\n",
    "    return x * 1.0 / max_x"
   ]
  },
  {
   "cell_type": "code",
   "execution_count": 8,
   "metadata": {
    "scrolled": true
   },
   "outputs": [
    {
     "name": "stdout",
     "output_type": "stream",
     "text": [
      "CPU times: user 952 ms, sys: 952 ms, total: 1.9 s\n",
      "Wall time: 1.9 s\n"
     ]
    }
   ],
   "source": [
    "%time data['bike_prop'] = data['bikes_available'].swifter.apply(bikes_proportion, max_x=np.max(data['bikes_available']))"
   ]
  },
  {
   "cell_type": "markdown",
   "metadata": {},
   "source": [
    "## When vectorized form is not available, utilized dask parallel processing for 10x speed of pandas"
   ]
  },
  {
   "cell_type": "code",
   "execution_count": 9,
   "metadata": {},
   "outputs": [],
   "source": [
    "def gt_5_bikes(x):\n",
    "    if x > 5:\n",
    "        return True\n",
    "    else:\n",
    "        return False"
   ]
  },
  {
   "cell_type": "code",
   "execution_count": 10,
   "metadata": {},
   "outputs": [
    {
     "data": {
      "application/vnd.jupyter.widget-view+json": {
       "model_id": "6b5a93975c0943cd9919db10fee34fe8",
       "version_major": 2,
       "version_minor": 0
      },
      "text/plain": [
       "HBox(children=(IntProgress(value=0, description='Dask Apply', max=48), HTML(value='')))"
      ]
     },
     "metadata": {},
     "output_type": "display_data"
    },
    {
     "name": "stdout",
     "output_type": "stream",
     "text": [
      "\n",
      "CPU times: user 2.55 s, sys: 2.54 s, total: 5.1 s\n",
      "Wall time: 8.62 s\n"
     ]
    }
   ],
   "source": [
    "%time data['gt_5_bikes'] = data['bikes_available'].swifter.apply(gt_5_bikes)"
   ]
  },
  {
   "cell_type": "markdown",
   "metadata": {},
   "source": [
    "### But when possible, you should still write code in a vectorized format"
   ]
  },
  {
   "cell_type": "code",
   "execution_count": 11,
   "metadata": {},
   "outputs": [],
   "source": [
    "def gt_5_bikes_vectorized(x):\n",
    "    return np.where(x > 5, True, False)"
   ]
  },
  {
   "cell_type": "code",
   "execution_count": 12,
   "metadata": {},
   "outputs": [
    {
     "name": "stdout",
     "output_type": "stream",
     "text": [
      "CPU times: user 138 ms, sys: 29.7 ms, total: 168 ms\n",
      "Wall time: 167 ms\n"
     ]
    }
   ],
   "source": [
    "%time data['gt_5_bikes_vec'] = data['bikes_available'].swifter.apply(gt_5_bikes_vectorized)"
   ]
  },
  {
   "cell_type": "code",
   "execution_count": 13,
   "metadata": {
    "scrolled": true
   },
   "outputs": [
    {
     "data": {
      "text/html": [
       "<div>\n",
       "<style scoped>\n",
       "    .dataframe tbody tr th:only-of-type {\n",
       "        vertical-align: middle;\n",
       "    }\n",
       "\n",
       "    .dataframe tbody tr th {\n",
       "        vertical-align: top;\n",
       "    }\n",
       "\n",
       "    .dataframe thead th {\n",
       "        text-align: right;\n",
       "    }\n",
       "</style>\n",
       "<table border=\"1\" class=\"dataframe\">\n",
       "  <thead>\n",
       "    <tr style=\"text-align: right;\">\n",
       "      <th></th>\n",
       "      <th>station_id</th>\n",
       "      <th>bikes_available</th>\n",
       "      <th>docks_available</th>\n",
       "      <th>time</th>\n",
       "      <th>bike_prop</th>\n",
       "      <th>gt_5_bikes</th>\n",
       "      <th>gt_5_bikes_vec</th>\n",
       "    </tr>\n",
       "  </thead>\n",
       "  <tbody>\n",
       "    <tr>\n",
       "      <th>0</th>\n",
       "      <td>2</td>\n",
       "      <td>2</td>\n",
       "      <td>25</td>\n",
       "      <td>2013/08/29 12:06:01</td>\n",
       "      <td>0.074074</td>\n",
       "      <td>False</td>\n",
       "      <td>False</td>\n",
       "    </tr>\n",
       "    <tr>\n",
       "      <th>1</th>\n",
       "      <td>2</td>\n",
       "      <td>2</td>\n",
       "      <td>25</td>\n",
       "      <td>2013/08/29 12:07:01</td>\n",
       "      <td>0.074074</td>\n",
       "      <td>False</td>\n",
       "      <td>False</td>\n",
       "    </tr>\n",
       "    <tr>\n",
       "      <th>2</th>\n",
       "      <td>2</td>\n",
       "      <td>2</td>\n",
       "      <td>25</td>\n",
       "      <td>2013/08/29 12:08:01</td>\n",
       "      <td>0.074074</td>\n",
       "      <td>False</td>\n",
       "      <td>False</td>\n",
       "    </tr>\n",
       "    <tr>\n",
       "      <th>3</th>\n",
       "      <td>2</td>\n",
       "      <td>2</td>\n",
       "      <td>25</td>\n",
       "      <td>2013/08/29 12:09:01</td>\n",
       "      <td>0.074074</td>\n",
       "      <td>False</td>\n",
       "      <td>False</td>\n",
       "    </tr>\n",
       "    <tr>\n",
       "      <th>4</th>\n",
       "      <td>2</td>\n",
       "      <td>2</td>\n",
       "      <td>25</td>\n",
       "      <td>2013/08/29 12:10:01</td>\n",
       "      <td>0.074074</td>\n",
       "      <td>False</td>\n",
       "      <td>False</td>\n",
       "    </tr>\n",
       "  </tbody>\n",
       "</table>\n",
       "</div>"
      ],
      "text/plain": [
       "   station_id  bikes_available  docks_available                 time  \\\n",
       "0           2                2               25  2013/08/29 12:06:01   \n",
       "1           2                2               25  2013/08/29 12:07:01   \n",
       "2           2                2               25  2013/08/29 12:08:01   \n",
       "3           2                2               25  2013/08/29 12:09:01   \n",
       "4           2                2               25  2013/08/29 12:10:01   \n",
       "\n",
       "   bike_prop  gt_5_bikes  gt_5_bikes_vec  \n",
       "0   0.074074       False           False  \n",
       "1   0.074074       False           False  \n",
       "2   0.074074       False           False  \n",
       "3   0.074074       False           False  \n",
       "4   0.074074       False           False  "
      ]
     },
     "execution_count": 13,
     "metadata": {},
     "output_type": "execute_result"
    }
   ],
   "source": [
    "data.head()"
   ]
  },
  {
   "cell_type": "markdown",
   "metadata": {},
   "source": [
    "## When you can't write code in a vectorized format, swifter still makes parallel processing easy "
   ]
  },
  {
   "cell_type": "code",
   "execution_count": 14,
   "metadata": {},
   "outputs": [
    {
     "name": "stdout",
     "output_type": "stream",
     "text": [
      "CPU times: user 12.4 s, sys: 1.24 s, total: 13.6 s\n",
      "Wall time: 13.6 s\n"
     ]
    }
   ],
   "source": [
    "%time data['date'] = data['time'].swifter.apply(pd.to_datetime)"
   ]
  },
  {
   "cell_type": "code",
   "execution_count": 17,
   "metadata": {},
   "outputs": [],
   "source": [
    "def convert_to_human(datetime):\n",
    "    return datetime.day_name() + ', the ' + str(datetime.day) + 'th day of ' + datetime.strftime(\"%B\") + ', ' + str(datetime.year)"
   ]
  },
  {
   "cell_type": "code",
   "execution_count": 18,
   "metadata": {},
   "outputs": [
    {
     "data": {
      "application/vnd.jupyter.widget-view+json": {
       "model_id": "e0faa693c0e241fdb0647344dae16e4f",
       "version_major": 2,
       "version_minor": 0
      },
      "text/plain": [
       "HBox(children=(IntProgress(value=0, description='Dask Apply', max=48), HTML(value='')))"
      ]
     },
     "metadata": {},
     "output_type": "display_data"
    },
    {
     "name": "stdout",
     "output_type": "stream",
     "text": [
      "\n",
      "CPU times: user 4min 18s, sys: 2min 2s, total: 6min 21s\n",
      "Wall time: 30min 25s\n"
     ]
    }
   ],
   "source": [
    "%time data['readable_date'] = data['date'].swifter.apply(convert_to_human)"
   ]
  },
  {
   "cell_type": "code",
   "execution_count": 19,
   "metadata": {},
   "outputs": [
    {
     "data": {
      "text/html": [
       "<div>\n",
       "<style scoped>\n",
       "    .dataframe tbody tr th:only-of-type {\n",
       "        vertical-align: middle;\n",
       "    }\n",
       "\n",
       "    .dataframe tbody tr th {\n",
       "        vertical-align: top;\n",
       "    }\n",
       "\n",
       "    .dataframe thead th {\n",
       "        text-align: right;\n",
       "    }\n",
       "</style>\n",
       "<table border=\"1\" class=\"dataframe\">\n",
       "  <thead>\n",
       "    <tr style=\"text-align: right;\">\n",
       "      <th></th>\n",
       "      <th>station_id</th>\n",
       "      <th>bikes_available</th>\n",
       "      <th>docks_available</th>\n",
       "      <th>time</th>\n",
       "      <th>bike_prop</th>\n",
       "      <th>gt_5_bikes</th>\n",
       "      <th>gt_5_bikes_vec</th>\n",
       "      <th>date</th>\n",
       "      <th>readable_date</th>\n",
       "    </tr>\n",
       "  </thead>\n",
       "  <tbody>\n",
       "    <tr>\n",
       "      <th>0</th>\n",
       "      <td>2</td>\n",
       "      <td>2</td>\n",
       "      <td>25</td>\n",
       "      <td>2013/08/29 12:06:01</td>\n",
       "      <td>0.074074</td>\n",
       "      <td>False</td>\n",
       "      <td>False</td>\n",
       "      <td>2013-08-29 12:06:01</td>\n",
       "      <td>Thursday, the 29th day of August, 2013</td>\n",
       "    </tr>\n",
       "    <tr>\n",
       "      <th>1</th>\n",
       "      <td>2</td>\n",
       "      <td>2</td>\n",
       "      <td>25</td>\n",
       "      <td>2013/08/29 12:07:01</td>\n",
       "      <td>0.074074</td>\n",
       "      <td>False</td>\n",
       "      <td>False</td>\n",
       "      <td>2013-08-29 12:07:01</td>\n",
       "      <td>Thursday, the 29th day of August, 2013</td>\n",
       "    </tr>\n",
       "    <tr>\n",
       "      <th>2</th>\n",
       "      <td>2</td>\n",
       "      <td>2</td>\n",
       "      <td>25</td>\n",
       "      <td>2013/08/29 12:08:01</td>\n",
       "      <td>0.074074</td>\n",
       "      <td>False</td>\n",
       "      <td>False</td>\n",
       "      <td>2013-08-29 12:08:01</td>\n",
       "      <td>Thursday, the 29th day of August, 2013</td>\n",
       "    </tr>\n",
       "    <tr>\n",
       "      <th>3</th>\n",
       "      <td>2</td>\n",
       "      <td>2</td>\n",
       "      <td>25</td>\n",
       "      <td>2013/08/29 12:09:01</td>\n",
       "      <td>0.074074</td>\n",
       "      <td>False</td>\n",
       "      <td>False</td>\n",
       "      <td>2013-08-29 12:09:01</td>\n",
       "      <td>Thursday, the 29th day of August, 2013</td>\n",
       "    </tr>\n",
       "    <tr>\n",
       "      <th>4</th>\n",
       "      <td>2</td>\n",
       "      <td>2</td>\n",
       "      <td>25</td>\n",
       "      <td>2013/08/29 12:10:01</td>\n",
       "      <td>0.074074</td>\n",
       "      <td>False</td>\n",
       "      <td>False</td>\n",
       "      <td>2013-08-29 12:10:01</td>\n",
       "      <td>Thursday, the 29th day of August, 2013</td>\n",
       "    </tr>\n",
       "  </tbody>\n",
       "</table>\n",
       "</div>"
      ],
      "text/plain": [
       "   station_id  bikes_available  docks_available                 time  \\\n",
       "0           2                2               25  2013/08/29 12:06:01   \n",
       "1           2                2               25  2013/08/29 12:07:01   \n",
       "2           2                2               25  2013/08/29 12:08:01   \n",
       "3           2                2               25  2013/08/29 12:09:01   \n",
       "4           2                2               25  2013/08/29 12:10:01   \n",
       "\n",
       "   bike_prop  gt_5_bikes  gt_5_bikes_vec                date  \\\n",
       "0   0.074074       False           False 2013-08-29 12:06:01   \n",
       "1   0.074074       False           False 2013-08-29 12:07:01   \n",
       "2   0.074074       False           False 2013-08-29 12:08:01   \n",
       "3   0.074074       False           False 2013-08-29 12:09:01   \n",
       "4   0.074074       False           False 2013-08-29 12:10:01   \n",
       "\n",
       "                            readable_date  \n",
       "0  Thursday, the 29th day of August, 2013  \n",
       "1  Thursday, the 29th day of August, 2013  \n",
       "2  Thursday, the 29th day of August, 2013  \n",
       "3  Thursday, the 29th day of August, 2013  \n",
       "4  Thursday, the 29th day of August, 2013  "
      ]
     },
     "execution_count": 19,
     "metadata": {},
     "output_type": "execute_result"
    }
   ],
   "source": [
    "data.head()"
   ]
  },
  {
   "cell_type": "markdown",
   "metadata": {},
   "source": [
    "# Multiple columns apply example"
   ]
  },
  {
   "cell_type": "code",
   "execution_count": 20,
   "metadata": {},
   "outputs": [],
   "source": [
    "def bikes_per_dock_availability_ratio(bikes_avail, docks_avail):\n",
    "    return bikes_avail / docks_avail"
   ]
  },
  {
   "cell_type": "code",
   "execution_count": 26,
   "metadata": {},
   "outputs": [
    {
     "name": "stdout",
     "output_type": "stream",
     "text": [
      "CPU times: user 2.97 s, sys: 6.86 s, total: 9.83 s\n",
      "Wall time: 11.7 s\n"
     ]
    }
   ],
   "source": [
    "%time data[\"bikes_available_per_dock_available\"] = data[['bikes_available', 'docks_available']].swifter.apply(lambda row: bikes_per_dock_availability_ratio(row[\"bikes_available\"], row[\"docks_available\"]))"
   ]
  },
  {
   "cell_type": "code",
   "execution_count": 27,
   "metadata": {},
   "outputs": [
    {
     "data": {
      "text/html": [
       "<div>\n",
       "<style scoped>\n",
       "    .dataframe tbody tr th:only-of-type {\n",
       "        vertical-align: middle;\n",
       "    }\n",
       "\n",
       "    .dataframe tbody tr th {\n",
       "        vertical-align: top;\n",
       "    }\n",
       "\n",
       "    .dataframe thead th {\n",
       "        text-align: right;\n",
       "    }\n",
       "</style>\n",
       "<table border=\"1\" class=\"dataframe\">\n",
       "  <thead>\n",
       "    <tr style=\"text-align: right;\">\n",
       "      <th></th>\n",
       "      <th>station_id</th>\n",
       "      <th>bikes_available</th>\n",
       "      <th>docks_available</th>\n",
       "      <th>time</th>\n",
       "      <th>bike_prop</th>\n",
       "      <th>gt_5_bikes</th>\n",
       "      <th>gt_5_bikes_vec</th>\n",
       "      <th>date</th>\n",
       "      <th>readable_date</th>\n",
       "      <th>bikes_available_per_dock_available</th>\n",
       "      <th>rolling_sum_bikes_available</th>\n",
       "    </tr>\n",
       "  </thead>\n",
       "  <tbody>\n",
       "    <tr>\n",
       "      <th>0</th>\n",
       "      <td>2</td>\n",
       "      <td>2</td>\n",
       "      <td>25</td>\n",
       "      <td>2013/08/29 12:06:01</td>\n",
       "      <td>0.074074</td>\n",
       "      <td>False</td>\n",
       "      <td>False</td>\n",
       "      <td>2013-08-29 12:06:01</td>\n",
       "      <td>Thursday, the 29th day of August, 2013</td>\n",
       "      <td>0.08</td>\n",
       "      <td>NaN</td>\n",
       "    </tr>\n",
       "    <tr>\n",
       "      <th>1</th>\n",
       "      <td>2</td>\n",
       "      <td>2</td>\n",
       "      <td>25</td>\n",
       "      <td>2013/08/29 12:07:01</td>\n",
       "      <td>0.074074</td>\n",
       "      <td>False</td>\n",
       "      <td>False</td>\n",
       "      <td>2013-08-29 12:07:01</td>\n",
       "      <td>Thursday, the 29th day of August, 2013</td>\n",
       "      <td>0.08</td>\n",
       "      <td>NaN</td>\n",
       "    </tr>\n",
       "    <tr>\n",
       "      <th>2</th>\n",
       "      <td>2</td>\n",
       "      <td>2</td>\n",
       "      <td>25</td>\n",
       "      <td>2013/08/29 12:08:01</td>\n",
       "      <td>0.074074</td>\n",
       "      <td>False</td>\n",
       "      <td>False</td>\n",
       "      <td>2013-08-29 12:08:01</td>\n",
       "      <td>Thursday, the 29th day of August, 2013</td>\n",
       "      <td>0.08</td>\n",
       "      <td>NaN</td>\n",
       "    </tr>\n",
       "    <tr>\n",
       "      <th>3</th>\n",
       "      <td>2</td>\n",
       "      <td>2</td>\n",
       "      <td>25</td>\n",
       "      <td>2013/08/29 12:09:01</td>\n",
       "      <td>0.074074</td>\n",
       "      <td>False</td>\n",
       "      <td>False</td>\n",
       "      <td>2013-08-29 12:09:01</td>\n",
       "      <td>Thursday, the 29th day of August, 2013</td>\n",
       "      <td>0.08</td>\n",
       "      <td>NaN</td>\n",
       "    </tr>\n",
       "    <tr>\n",
       "      <th>4</th>\n",
       "      <td>2</td>\n",
       "      <td>2</td>\n",
       "      <td>25</td>\n",
       "      <td>2013/08/29 12:10:01</td>\n",
       "      <td>0.074074</td>\n",
       "      <td>False</td>\n",
       "      <td>False</td>\n",
       "      <td>2013-08-29 12:10:01</td>\n",
       "      <td>Thursday, the 29th day of August, 2013</td>\n",
       "      <td>0.08</td>\n",
       "      <td>NaN</td>\n",
       "    </tr>\n",
       "  </tbody>\n",
       "</table>\n",
       "</div>"
      ],
      "text/plain": [
       "   station_id  bikes_available  docks_available                 time  \\\n",
       "0           2                2               25  2013/08/29 12:06:01   \n",
       "1           2                2               25  2013/08/29 12:07:01   \n",
       "2           2                2               25  2013/08/29 12:08:01   \n",
       "3           2                2               25  2013/08/29 12:09:01   \n",
       "4           2                2               25  2013/08/29 12:10:01   \n",
       "\n",
       "   bike_prop  gt_5_bikes  gt_5_bikes_vec                date  \\\n",
       "0   0.074074       False           False 2013-08-29 12:06:01   \n",
       "1   0.074074       False           False 2013-08-29 12:07:01   \n",
       "2   0.074074       False           False 2013-08-29 12:08:01   \n",
       "3   0.074074       False           False 2013-08-29 12:09:01   \n",
       "4   0.074074       False           False 2013-08-29 12:10:01   \n",
       "\n",
       "                            readable_date  bikes_available_per_dock_available  \\\n",
       "0  Thursday, the 29th day of August, 2013                                0.08   \n",
       "1  Thursday, the 29th day of August, 2013                                0.08   \n",
       "2  Thursday, the 29th day of August, 2013                                0.08   \n",
       "3  Thursday, the 29th day of August, 2013                                0.08   \n",
       "4  Thursday, the 29th day of August, 2013                                0.08   \n",
       "\n",
       "   rolling_sum_bikes_available  \n",
       "0                          NaN  \n",
       "1                          NaN  \n",
       "2                          NaN  \n",
       "3                          NaN  \n",
       "4                          NaN  "
      ]
     },
     "execution_count": 27,
     "metadata": {},
     "output_type": "execute_result"
    }
   ],
   "source": [
    "data.head()"
   ]
  },
  {
   "cell_type": "markdown",
   "metadata": {},
   "source": [
    "# Rolling objects apply example"
   ]
  },
  {
   "cell_type": "code",
   "execution_count": 28,
   "metadata": {},
   "outputs": [
    {
     "name": "stderr",
     "output_type": "stream",
     "text": [
      "/anaconda3/lib/python3.6/site-packages/swifter/swifter.py:206: FutureWarning: Currently, 'apply' passes the values as ndarrays to the applied function. In the future, this will change to passing it as Series objects. You need to specify 'raw=True' to keep the current behaviour, and you can pass 'raw=False' to silence this warning\n",
      "  self._samp_pd.apply(func, *args, **kwds)\n",
      "/anaconda3/lib/python3.6/site-packages/dask/dataframe/rolling.py:179: FutureWarning: Currently, 'apply' passes the values as ndarrays to the applied function. In the future, this will change to passing it as Series objects. You need to specify 'raw=True' to keep the current behaviour, and you can pass 'raw=False' to silence this warning\n",
      "  return getattr(rolling, name)(*args, **kwargs)\n"
     ]
    },
    {
     "data": {
      "application/vnd.jupyter.widget-view+json": {
       "model_id": "437313dc6ba94d76b3e50ab46af5c05f",
       "version_major": 2,
       "version_minor": 0
      },
      "text/plain": [
       "HBox(children=(IntProgress(value=0, description='Dask Apply', max=47), HTML(value='')))"
      ]
     },
     "metadata": {},
     "output_type": "display_data"
    },
    {
     "name": "stdout",
     "output_type": "stream",
     "text": [
      "\n",
      "CPU times: user 5.01 s, sys: 11.5 s, total: 16.5 s\n",
      "Wall time: 34.8 s\n"
     ]
    }
   ],
   "source": [
    "%time data[\"rolling_sum_bikes_available\"] = data['bikes_available'].swifter.rolling(10).apply(sum)"
   ]
  },
  {
   "cell_type": "code",
   "execution_count": 29,
   "metadata": {},
   "outputs": [
    {
     "data": {
      "text/html": [
       "<div>\n",
       "<style scoped>\n",
       "    .dataframe tbody tr th:only-of-type {\n",
       "        vertical-align: middle;\n",
       "    }\n",
       "\n",
       "    .dataframe tbody tr th {\n",
       "        vertical-align: top;\n",
       "    }\n",
       "\n",
       "    .dataframe thead th {\n",
       "        text-align: right;\n",
       "    }\n",
       "</style>\n",
       "<table border=\"1\" class=\"dataframe\">\n",
       "  <thead>\n",
       "    <tr style=\"text-align: right;\">\n",
       "      <th></th>\n",
       "      <th>station_id</th>\n",
       "      <th>bikes_available</th>\n",
       "      <th>docks_available</th>\n",
       "      <th>time</th>\n",
       "      <th>bike_prop</th>\n",
       "      <th>gt_5_bikes</th>\n",
       "      <th>gt_5_bikes_vec</th>\n",
       "      <th>date</th>\n",
       "      <th>readable_date</th>\n",
       "      <th>bikes_available_per_dock_available</th>\n",
       "      <th>rolling_sum_bikes_available</th>\n",
       "    </tr>\n",
       "  </thead>\n",
       "  <tbody>\n",
       "    <tr>\n",
       "      <th>10</th>\n",
       "      <td>2</td>\n",
       "      <td>2</td>\n",
       "      <td>25</td>\n",
       "      <td>2013/08/29 12:18:01</td>\n",
       "      <td>0.074074</td>\n",
       "      <td>False</td>\n",
       "      <td>False</td>\n",
       "      <td>2013-08-29 12:18:01</td>\n",
       "      <td>Thursday, the 29th day of August, 2013</td>\n",
       "      <td>0.08</td>\n",
       "      <td>20.0</td>\n",
       "    </tr>\n",
       "    <tr>\n",
       "      <th>11</th>\n",
       "      <td>2</td>\n",
       "      <td>2</td>\n",
       "      <td>25</td>\n",
       "      <td>2013/08/29 12:19:01</td>\n",
       "      <td>0.074074</td>\n",
       "      <td>False</td>\n",
       "      <td>False</td>\n",
       "      <td>2013-08-29 12:19:01</td>\n",
       "      <td>Thursday, the 29th day of August, 2013</td>\n",
       "      <td>0.08</td>\n",
       "      <td>20.0</td>\n",
       "    </tr>\n",
       "    <tr>\n",
       "      <th>12</th>\n",
       "      <td>2</td>\n",
       "      <td>2</td>\n",
       "      <td>25</td>\n",
       "      <td>2013/08/29 12:20:01</td>\n",
       "      <td>0.074074</td>\n",
       "      <td>False</td>\n",
       "      <td>False</td>\n",
       "      <td>2013-08-29 12:20:01</td>\n",
       "      <td>Thursday, the 29th day of August, 2013</td>\n",
       "      <td>0.08</td>\n",
       "      <td>20.0</td>\n",
       "    </tr>\n",
       "    <tr>\n",
       "      <th>13</th>\n",
       "      <td>2</td>\n",
       "      <td>2</td>\n",
       "      <td>25</td>\n",
       "      <td>2013/08/29 12:21:01</td>\n",
       "      <td>0.074074</td>\n",
       "      <td>False</td>\n",
       "      <td>False</td>\n",
       "      <td>2013-08-29 12:21:01</td>\n",
       "      <td>Thursday, the 29th day of August, 2013</td>\n",
       "      <td>0.08</td>\n",
       "      <td>20.0</td>\n",
       "    </tr>\n",
       "    <tr>\n",
       "      <th>14</th>\n",
       "      <td>2</td>\n",
       "      <td>2</td>\n",
       "      <td>25</td>\n",
       "      <td>2013/08/29 12:22:01</td>\n",
       "      <td>0.074074</td>\n",
       "      <td>False</td>\n",
       "      <td>False</td>\n",
       "      <td>2013-08-29 12:22:01</td>\n",
       "      <td>Thursday, the 29th day of August, 2013</td>\n",
       "      <td>0.08</td>\n",
       "      <td>20.0</td>\n",
       "    </tr>\n",
       "    <tr>\n",
       "      <th>15</th>\n",
       "      <td>2</td>\n",
       "      <td>2</td>\n",
       "      <td>25</td>\n",
       "      <td>2013/08/29 12:23:01</td>\n",
       "      <td>0.074074</td>\n",
       "      <td>False</td>\n",
       "      <td>False</td>\n",
       "      <td>2013-08-29 12:23:01</td>\n",
       "      <td>Thursday, the 29th day of August, 2013</td>\n",
       "      <td>0.08</td>\n",
       "      <td>20.0</td>\n",
       "    </tr>\n",
       "    <tr>\n",
       "      <th>16</th>\n",
       "      <td>2</td>\n",
       "      <td>2</td>\n",
       "      <td>25</td>\n",
       "      <td>2013/08/29 12:25:01</td>\n",
       "      <td>0.074074</td>\n",
       "      <td>False</td>\n",
       "      <td>False</td>\n",
       "      <td>2013-08-29 12:25:01</td>\n",
       "      <td>Thursday, the 29th day of August, 2013</td>\n",
       "      <td>0.08</td>\n",
       "      <td>20.0</td>\n",
       "    </tr>\n",
       "    <tr>\n",
       "      <th>17</th>\n",
       "      <td>2</td>\n",
       "      <td>2</td>\n",
       "      <td>25</td>\n",
       "      <td>2013/08/29 12:26:01</td>\n",
       "      <td>0.074074</td>\n",
       "      <td>False</td>\n",
       "      <td>False</td>\n",
       "      <td>2013-08-29 12:26:01</td>\n",
       "      <td>Thursday, the 29th day of August, 2013</td>\n",
       "      <td>0.08</td>\n",
       "      <td>20.0</td>\n",
       "    </tr>\n",
       "    <tr>\n",
       "      <th>18</th>\n",
       "      <td>2</td>\n",
       "      <td>2</td>\n",
       "      <td>25</td>\n",
       "      <td>2013/08/29 12:27:04</td>\n",
       "      <td>0.074074</td>\n",
       "      <td>False</td>\n",
       "      <td>False</td>\n",
       "      <td>2013-08-29 12:27:04</td>\n",
       "      <td>Thursday, the 29th day of August, 2013</td>\n",
       "      <td>0.08</td>\n",
       "      <td>20.0</td>\n",
       "    </tr>\n",
       "    <tr>\n",
       "      <th>19</th>\n",
       "      <td>2</td>\n",
       "      <td>2</td>\n",
       "      <td>25</td>\n",
       "      <td>2013/08/29 12:29:01</td>\n",
       "      <td>0.074074</td>\n",
       "      <td>False</td>\n",
       "      <td>False</td>\n",
       "      <td>2013-08-29 12:29:01</td>\n",
       "      <td>Thursday, the 29th day of August, 2013</td>\n",
       "      <td>0.08</td>\n",
       "      <td>20.0</td>\n",
       "    </tr>\n",
       "  </tbody>\n",
       "</table>\n",
       "</div>"
      ],
      "text/plain": [
       "    station_id  bikes_available  docks_available                 time  \\\n",
       "10           2                2               25  2013/08/29 12:18:01   \n",
       "11           2                2               25  2013/08/29 12:19:01   \n",
       "12           2                2               25  2013/08/29 12:20:01   \n",
       "13           2                2               25  2013/08/29 12:21:01   \n",
       "14           2                2               25  2013/08/29 12:22:01   \n",
       "15           2                2               25  2013/08/29 12:23:01   \n",
       "16           2                2               25  2013/08/29 12:25:01   \n",
       "17           2                2               25  2013/08/29 12:26:01   \n",
       "18           2                2               25  2013/08/29 12:27:04   \n",
       "19           2                2               25  2013/08/29 12:29:01   \n",
       "\n",
       "    bike_prop  gt_5_bikes  gt_5_bikes_vec                date  \\\n",
       "10   0.074074       False           False 2013-08-29 12:18:01   \n",
       "11   0.074074       False           False 2013-08-29 12:19:01   \n",
       "12   0.074074       False           False 2013-08-29 12:20:01   \n",
       "13   0.074074       False           False 2013-08-29 12:21:01   \n",
       "14   0.074074       False           False 2013-08-29 12:22:01   \n",
       "15   0.074074       False           False 2013-08-29 12:23:01   \n",
       "16   0.074074       False           False 2013-08-29 12:25:01   \n",
       "17   0.074074       False           False 2013-08-29 12:26:01   \n",
       "18   0.074074       False           False 2013-08-29 12:27:04   \n",
       "19   0.074074       False           False 2013-08-29 12:29:01   \n",
       "\n",
       "                             readable_date  \\\n",
       "10  Thursday, the 29th day of August, 2013   \n",
       "11  Thursday, the 29th day of August, 2013   \n",
       "12  Thursday, the 29th day of August, 2013   \n",
       "13  Thursday, the 29th day of August, 2013   \n",
       "14  Thursday, the 29th day of August, 2013   \n",
       "15  Thursday, the 29th day of August, 2013   \n",
       "16  Thursday, the 29th day of August, 2013   \n",
       "17  Thursday, the 29th day of August, 2013   \n",
       "18  Thursday, the 29th day of August, 2013   \n",
       "19  Thursday, the 29th day of August, 2013   \n",
       "\n",
       "    bikes_available_per_dock_available  rolling_sum_bikes_available  \n",
       "10                                0.08                         20.0  \n",
       "11                                0.08                         20.0  \n",
       "12                                0.08                         20.0  \n",
       "13                                0.08                         20.0  \n",
       "14                                0.08                         20.0  \n",
       "15                                0.08                         20.0  \n",
       "16                                0.08                         20.0  \n",
       "17                                0.08                         20.0  \n",
       "18                                0.08                         20.0  \n",
       "19                                0.08                         20.0  "
      ]
     },
     "execution_count": 29,
     "metadata": {},
     "output_type": "execute_result"
    }
   ],
   "source": [
    "data.iloc[10:20,:]"
   ]
  }
 ],
 "metadata": {
  "kernelspec": {
   "display_name": "Python 3",
   "language": "python",
   "name": "python3"
  },
  "language_info": {
   "codemirror_mode": {
    "name": "ipython",
    "version": 3
   },
   "file_extension": ".py",
   "mimetype": "text/x-python",
   "name": "python",
   "nbconvert_exporter": "python",
   "pygments_lexer": "ipython3",
   "version": "3.6.5"
  }
 },
 "nbformat": 4,
 "nbformat_minor": 2
}
