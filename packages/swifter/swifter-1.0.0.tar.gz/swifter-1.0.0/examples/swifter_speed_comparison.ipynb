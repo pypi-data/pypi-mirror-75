{
 "cells": [
  {
   "cell_type": "markdown",
   "metadata": {},
   "source": [
    "# Imports and data\n",
    "The libraries used in this notebook are available by calling `pipenv install --dev` in the top-level of the repository.\n",
    "Once installed, you can call `pipenv run jupyter-notebook` to open your Jupyter workspace, navigate to `examples/swifter_speed_comparison.ipynb` and run the cells."
   ]
  },
  {
   "cell_type": "code",
   "execution_count": 1,
   "metadata": {
    "ExecuteTime": {
     "end_time": "2020-03-28T19:51:04.084151Z",
     "start_time": "2020-03-28T19:51:02.672026Z"
    }
   },
   "outputs": [
    {
     "name": "stderr",
     "output_type": "stream",
     "text": [
      "/home/ec2-user/.local/share/virtualenvs/swifter-S2CoyI2p/lib/python3.7/site-packages/pandas/compat/__init__.py:117: UserWarning: Could not import the lzma module. Your installed Python is incomplete. Attempting to use lzma compression will result in a RuntimeError.\n",
      "  warnings.warn(msg)\n"
     ]
    }
   ],
   "source": [
    "import numpy as np\n",
    "import pandas as pd\n",
    "import dask.dataframe as dd\n",
    "import swifter\n",
    "import perfplot\n",
    "import matplotlib.pyplot as plt\n",
    "import psutil"
   ]
  },
  {
   "cell_type": "code",
   "execution_count": 2,
   "metadata": {},
   "outputs": [],
   "source": [
    "ncores = psutil.cpu_count()\n",
    "npartitions = ncores*2"
   ]
  },
  {
   "cell_type": "markdown",
   "metadata": {},
   "source": [
    "These data (~71 million rows) were taken from https://www.kaggle.com/benhamner/sf-bay-area-bike-share/data.\n",
    "In order to run the speed comparisons in this notebook yourself, you will need to download the data from that location, and unzip the file into the the `examples` directory."
   ]
  },
  {
   "cell_type": "code",
   "execution_count": 3,
   "metadata": {
    "ExecuteTime": {
     "end_time": "2020-03-28T19:52:53.914710Z",
     "start_time": "2020-03-28T19:51:04.834882Z"
    }
   },
   "outputs": [],
   "source": [
    "data = pd.read_csv('status.csv')\n",
    "data['date'] = pd.to_datetime(data['time'])"
   ]
  },
  {
   "cell_type": "code",
   "execution_count": 4,
   "metadata": {
    "ExecuteTime": {
     "end_time": "2020-03-28T19:52:54.031235Z",
     "start_time": "2020-03-28T19:52:53.928589Z"
    }
   },
   "outputs": [
    {
     "name": "stdout",
     "output_type": "stream",
     "text": [
      "(71984434, 5)\n"
     ]
    },
    {
     "data": {
      "text/html": [
       "<div>\n",
       "<style scoped>\n",
       "    .dataframe tbody tr th:only-of-type {\n",
       "        vertical-align: middle;\n",
       "    }\n",
       "\n",
       "    .dataframe tbody tr th {\n",
       "        vertical-align: top;\n",
       "    }\n",
       "\n",
       "    .dataframe thead th {\n",
       "        text-align: right;\n",
       "    }\n",
       "</style>\n",
       "<table border=\"1\" class=\"dataframe\">\n",
       "  <thead>\n",
       "    <tr style=\"text-align: right;\">\n",
       "      <th></th>\n",
       "      <th>station_id</th>\n",
       "      <th>bikes_available</th>\n",
       "      <th>docks_available</th>\n",
       "      <th>time</th>\n",
       "      <th>date</th>\n",
       "    </tr>\n",
       "  </thead>\n",
       "  <tbody>\n",
       "    <tr>\n",
       "      <th>0</th>\n",
       "      <td>2</td>\n",
       "      <td>2</td>\n",
       "      <td>25</td>\n",
       "      <td>2013/08/29 12:06:01</td>\n",
       "      <td>2013-08-29 12:06:01</td>\n",
       "    </tr>\n",
       "    <tr>\n",
       "      <th>1</th>\n",
       "      <td>2</td>\n",
       "      <td>2</td>\n",
       "      <td>25</td>\n",
       "      <td>2013/08/29 12:07:01</td>\n",
       "      <td>2013-08-29 12:07:01</td>\n",
       "    </tr>\n",
       "    <tr>\n",
       "      <th>2</th>\n",
       "      <td>2</td>\n",
       "      <td>2</td>\n",
       "      <td>25</td>\n",
       "      <td>2013/08/29 12:08:01</td>\n",
       "      <td>2013-08-29 12:08:01</td>\n",
       "    </tr>\n",
       "    <tr>\n",
       "      <th>3</th>\n",
       "      <td>2</td>\n",
       "      <td>2</td>\n",
       "      <td>25</td>\n",
       "      <td>2013/08/29 12:09:01</td>\n",
       "      <td>2013-08-29 12:09:01</td>\n",
       "    </tr>\n",
       "    <tr>\n",
       "      <th>4</th>\n",
       "      <td>2</td>\n",
       "      <td>2</td>\n",
       "      <td>25</td>\n",
       "      <td>2013/08/29 12:10:01</td>\n",
       "      <td>2013-08-29 12:10:01</td>\n",
       "    </tr>\n",
       "  </tbody>\n",
       "</table>\n",
       "</div>"
      ],
      "text/plain": [
       "   station_id  bikes_available  docks_available                 time  \\\n",
       "0           2                2               25  2013/08/29 12:06:01   \n",
       "1           2                2               25  2013/08/29 12:07:01   \n",
       "2           2                2               25  2013/08/29 12:08:01   \n",
       "3           2                2               25  2013/08/29 12:09:01   \n",
       "4           2                2               25  2013/08/29 12:10:01   \n",
       "\n",
       "                 date  \n",
       "0 2013-08-29 12:06:01  \n",
       "1 2013-08-29 12:07:01  \n",
       "2 2013-08-29 12:08:01  \n",
       "3 2013-08-29 12:09:01  \n",
       "4 2013-08-29 12:10:01  "
      ]
     },
     "execution_count": 4,
     "metadata": {},
     "output_type": "execute_result"
    }
   ],
   "source": [
    "print(data.shape)\n",
    "data.head()"
   ]
  },
  {
   "cell_type": "markdown",
   "metadata": {},
   "source": [
    "# Function Definitions"
   ]
  },
  {
   "cell_type": "markdown",
   "metadata": {},
   "source": [
    "## Vectorized function\n",
    "This function doesn't contain any control-flow logic e.g. if/else and is simply a numeric computation.\n",
    "\n",
    "\n",
    "As such, we can call it in a vectorized fashion e.g. `bikes_proportion(df[\"bikes_available\"], max_x=np.max(data[\"bikes_available\"]))`"
   ]
  },
  {
   "cell_type": "code",
   "execution_count": 5,
   "metadata": {
    "ExecuteTime": {
     "end_time": "2020-03-28T19:52:54.036930Z",
     "start_time": "2020-03-28T19:52:54.034241Z"
    }
   },
   "outputs": [],
   "source": [
    "def bikes_proportion(x, max_x):\n",
    "    return x * 1.0 / max_x"
   ]
  },
  {
   "cell_type": "markdown",
   "metadata": {},
   "source": [
    "## Non-vectorized function\n",
    "This function does contain a control-flow logic e.g. if/else and therefore cannot be called in a vectorized sense.\n",
    "\n",
    "As such, we can't include the vectorized comparison in our perfplot."
   ]
  },
  {
   "cell_type": "code",
   "execution_count": 6,
   "metadata": {
    "ExecuteTime": {
     "end_time": "2020-03-28T19:52:54.044584Z",
     "start_time": "2020-03-28T19:52:54.039478Z"
    }
   },
   "outputs": [],
   "source": [
    "def is_morning(datetime):\n",
    "    if (datetime.hour >= 6) and (datetime.hour < 12):\n",
    "        return True\n",
    "    else:\n",
    "        return False"
   ]
  },
  {
   "cell_type": "markdown",
   "metadata": {},
   "source": [
    "# Perfplot\n",
    "[Perfplot](https://github.com/unutbu/perfplot) is a library for performing speed comparisons of various functions.\n",
    "\n",
    "Here we use perfplot to compare pandas apply, dask apply, vectorized functions, and swifter apply."
   ]
  },
  {
   "cell_type": "markdown",
   "metadata": {},
   "source": [
    "## Vectorized function speed comparison"
   ]
  },
  {
   "cell_type": "code",
   "execution_count": 7,
   "metadata": {
    "ExecuteTime": {
     "end_time": "2020-03-28T20:07:57.268051Z",
     "start_time": "2020-03-28T19:52:54.046772Z"
    },
    "scrolled": true
   },
   "outputs": [
    {
     "name": "stderr",
     "output_type": "stream",
     "text": [
      "  0%|          | 0/14 [00:00<?, ?it/s]\n",
      "  0%|          | 0/4 [00:00<?, ?it/s]\u001b[A\n",
      " 25%|██▌       | 1/4 [00:01<00:03,  1.10s/it]\u001b[A\n",
      " 50%|█████     | 2/4 [00:02<00:02,  1.11s/it]\u001b[A\n",
      " 75%|███████▌  | 3/4 [00:03<00:01,  1.11s/it]\u001b[A\n",
      "100%|██████████| 4/4 [00:04<00:00,  1.11s/it]\u001b[A\n",
      "  7%|▋         | 1/14 [00:04<00:59,  4.55s/it][A\n",
      "  0%|          | 0/4 [00:00<?, ?it/s]\u001b[A\n",
      " 25%|██▌       | 1/4 [00:01<00:03,  1.10s/it]\u001b[A\n",
      " 50%|█████     | 2/4 [00:02<00:02,  1.10s/it]\u001b[A\n",
      " 75%|███████▌  | 3/4 [00:03<00:01,  1.10s/it]\u001b[A\n",
      "100%|██████████| 4/4 [00:04<00:00,  1.10s/it]\u001b[A\n",
      " 14%|█▍        | 2/14 [00:09<00:54,  4.53s/it][A\n",
      "  0%|          | 0/4 [00:00<?, ?it/s]\u001b[A\n",
      " 25%|██▌       | 1/4 [00:01<00:03,  1.10s/it]\u001b[A\n",
      " 50%|█████     | 2/4 [00:02<00:02,  1.11s/it]\u001b[A\n",
      " 75%|███████▌  | 3/4 [00:03<00:01,  1.11s/it]\u001b[A\n",
      "100%|██████████| 4/4 [00:04<00:00,  1.11s/it]\u001b[A\n",
      " 21%|██▏       | 3/14 [00:13<00:49,  4.53s/it][A\n",
      "  0%|          | 0/4 [00:00<?, ?it/s]\u001b[A\n",
      " 25%|██▌       | 1/4 [00:01<00:03,  1.11s/it]\u001b[A\n",
      " 50%|█████     | 2/4 [00:02<00:02,  1.13s/it]\u001b[A\n",
      " 75%|███████▌  | 3/4 [00:03<00:01,  1.12s/it]\u001b[A\n",
      "100%|██████████| 4/4 [00:04<00:00,  1.12s/it]\u001b[A\n",
      " 29%|██▊       | 4/14 [00:18<00:45,  4.55s/it][A\n",
      "  0%|          | 0/4 [00:00<?, ?it/s]\u001b[A\n",
      " 25%|██▌       | 1/4 [00:01<00:03,  1.12s/it]\u001b[A\n",
      " 50%|█████     | 2/4 [00:02<00:02,  1.12s/it]\u001b[A\n",
      " 75%|███████▌  | 3/4 [00:03<00:01,  1.12s/it]\u001b[A\n",
      "100%|██████████| 4/4 [00:04<00:00,  1.12s/it]\u001b[A\n",
      " 36%|███▌      | 5/14 [00:22<00:40,  4.55s/it][A\n",
      "  0%|          | 0/4 [00:00<?, ?it/s]\u001b[A\n",
      " 25%|██▌       | 1/4 [00:01<00:03,  1.09s/it]\u001b[A\n",
      " 50%|█████     | 2/4 [00:02<00:02,  1.10s/it]\u001b[A\n",
      " 75%|███████▌  | 3/4 [00:03<00:01,  1.10s/it]\u001b[A\n",
      "100%|██████████| 4/4 [00:04<00:00,  1.11s/it]\u001b[A\n",
      " 43%|████▎     | 6/14 [00:27<00:36,  4.55s/it][A\n",
      "  0%|          | 0/4 [00:00<?, ?it/s]\u001b[A\n",
      " 25%|██▌       | 1/4 [00:01<00:03,  1.17s/it]\u001b[A\n",
      " 50%|█████     | 2/4 [00:02<00:02,  1.16s/it]\u001b[A\n",
      " 75%|███████▌  | 3/4 [00:03<00:01,  1.14s/it]\u001b[A\n",
      "100%|██████████| 4/4 [00:04<00:00,  1.14s/it]\u001b[A\n",
      " 50%|█████     | 7/14 [00:31<00:32,  4.57s/it][A\n",
      "  0%|          | 0/4 [00:00<?, ?it/s]\u001b[A\n",
      " 25%|██▌       | 1/4 [00:01<00:03,  1.22s/it]\u001b[A\n",
      " 50%|█████     | 2/4 [00:02<00:02,  1.20s/it]\u001b[A\n",
      " 75%|███████▌  | 3/4 [00:03<00:01,  1.17s/it]\u001b[A\n",
      "100%|██████████| 4/4 [00:04<00:00,  1.16s/it]\u001b[A\n",
      " 57%|█████▋    | 8/14 [00:36<00:27,  4.63s/it][A\n",
      "  0%|          | 0/4 [00:00<?, ?it/s]\u001b[A\n",
      " 25%|██▌       | 1/4 [00:01<00:04,  1.49s/it]\u001b[A\n",
      " 50%|█████     | 2/4 [00:02<00:02,  1.39s/it]\u001b[A\n",
      " 75%|███████▌  | 3/4 [00:03<00:01,  1.31s/it]\u001b[A\n",
      "100%|██████████| 4/4 [00:04<00:00,  1.26s/it]\u001b[A\n",
      " 64%|██████▍   | 9/14 [00:41<00:24,  4.83s/it][A\n",
      "  0%|          | 0/4 [00:00<?, ?it/s]\u001b[A\n",
      " 25%|██▌       | 1/4 [00:03<00:11,  3.73s/it]\u001b[A\n",
      " 50%|█████     | 2/4 [00:04<00:05,  2.95s/it]\u001b[A\n",
      " 75%|███████▌  | 3/4 [00:05<00:02,  2.40s/it]\u001b[A\n",
      "100%|██████████| 4/4 [00:07<00:00,  2.02s/it]\u001b[A\n",
      " 71%|███████▏  | 10/14 [00:50<00:23,  5.88s/it]A\n",
      "  0%|          | 0/4 [00:00<?, ?it/s]\u001b[A\n",
      " 25%|██▌       | 1/4 [00:14<00:42, 14.01s/it]\u001b[A\n",
      " 50%|█████     | 2/4 [00:15<00:20, 10.15s/it]\u001b[A\n",
      " 75%|███████▌  | 3/4 [00:16<00:07,  7.45s/it]\u001b[A\n",
      "100%|██████████| 4/4 [00:17<00:00,  5.57s/it]\u001b[A\n",
      " 79%|███████▊  | 11/14 [01:12<00:32, 10.76s/it]A\n",
      "  0%|          | 0/4 [00:00<?, ?it/s]\u001b[A\n",
      " 25%|██▌       | 1/4 [00:55<02:46, 55.41s/it]\u001b[A\n",
      " 50%|█████     | 2/4 [00:56<01:18, 39.17s/it]\u001b[A\n",
      " 75%|███████▌  | 3/4 [00:57<00:27, 27.77s/it]\u001b[A\n",
      "100%|██████████| 4/4 [00:59<00:00, 19.79s/it]\u001b[A\n",
      " 86%|████████▌ | 12/14 [02:29<01:01, 30.79s/it]A\n",
      "  0%|          | 0/4 [00:00<?, ?it/s]\u001b[A\n",
      " 25%|██▌       | 1/4 [03:39<10:58, 219.51s/it]\u001b[A\n",
      " 50%|█████     | 2/4 [03:41<05:08, 154.19s/it]\u001b[A\n",
      " 75%|███████▌  | 3/4 [03:42<01:48, 108.36s/it]\u001b[A\n",
      "100%|██████████| 4/4 [03:44<00:00, 76.27s/it] \u001b[A\n",
      " 93%|█████████▎| 13/14 [07:27<01:50, 110.80s/it]\n",
      "  0%|          | 0/4 [00:00<?, ?it/s]\u001b[A\n",
      " 25%|██▌       | 1/4 [14:40<44:02, 880.91s/it]\u001b[A\n",
      " 50%|█████     | 2/4 [14:44<20:35, 617.82s/it]\u001b[A\n",
      " 75%|███████▌  | 3/4 [14:46<07:13, 433.05s/it]\u001b[A\n",
      "100%|██████████| 4/4 [14:48<00:00, 222.17s/it]\u001b[A\n",
      "100%|██████████| 14/14 [27:10<00:00, 116.48s/it]\n"
     ]
    }
   ],
   "source": [
    "vectorized_comparison = perfplot.bench(\n",
    "    setup=lambda n: data.loc[:n, 'bikes_available'],\n",
    "    kernels=[\n",
    "        lambda df: df.apply(bikes_proportion, max_x=np.max(data['bikes_available'])),\n",
    "        lambda df: dd.from_pandas(df, npartitions=npartitions).map_partitions(bikes_proportion, max_x=np.max(data['bikes_available']), meta=('f8')).compute(scheduler='threads'),\n",
    "        lambda df: bikes_proportion(df, max_x=np.max(data['bikes_available'])),\n",
    "        lambda df: df.swifter.progress_bar(False).apply(bikes_proportion, max_x=np.max(data['bikes_available']))\n",
    "    ],\n",
    "    labels=['Pandas Apply', 'Dask Apply', 'Vectorized Function', 'Swifter Apply'],\n",
    "    n_range=[2**k for k in range(0, 28, 2)],\n",
    "    xlabel='n_rows'\n",
    ")"
   ]
  },
  {
   "cell_type": "code",
   "execution_count": 8,
   "metadata": {
    "ExecuteTime": {
     "end_time": "2020-03-28T20:07:58.024441Z",
     "start_time": "2020-03-28T20:07:57.274743Z"
    }
   },
   "outputs": [
    {
     "data": {
      "image/png": "[encoded data removed]",
      "text/plain": [
       "<Figure size 432x288 with 1 Axes>"
      ]
     },
     "metadata": {
      "needs_background": "light"
     },
     "output_type": "display_data"
    }
   ],
   "source": [
    "vectorized_comparison.title = \"Vectorized Function Speed Comparison\"\n",
    "vectorized_comparison.xlabel = \"n_rows\"\n",
    "vectorized_comparison.plot(logx=False, logy=False)"
   ]
  },
  {
   "cell_type": "code",
   "execution_count": 9,
   "metadata": {
    "ExecuteTime": {
     "end_time": "2020-03-28T20:07:58.692724Z",
     "start_time": "2020-03-28T20:07:58.025838Z"
    }
   },
   "outputs": [
    {
     "data": {
      "text/plain": [
       "Text(0, 0.5, 'Runtime [log10(s)]')"
      ]
     },
     "execution_count": 9,
     "metadata": {},
     "output_type": "execute_result"
    },
    {
     "data": {
      "image/png": "[encoded data removed]",
      "text/plain": [
       "<Figure size 432x288 with 1 Axes>"
      ]
     },
     "metadata": {
      "needs_background": "light"
     },
     "output_type": "display_data"
    }
   ],
   "source": [
    "vectorized_comparison.xlabel = 'log10(n_rows)'\n",
    "vectorized_comparison.title = 'Vectorized Function Speed Comparison [LogLog Plot]'\n",
    "vectorized_comparison.plot(logx=True, logy=True, time_unit='s')\n",
    "plt.ylabel(\"Runtime [log10(s)]\")"
   ]
  },
  {
   "cell_type": "markdown",
   "metadata": {},
   "source": [
    "## Non-vectorized function speed comparison"
   ]
  },
  {
   "cell_type": "code",
   "execution_count": 13,
   "metadata": {
    "ExecuteTime": {
     "end_time": "2020-03-28T20:09:57.997221Z",
     "start_time": "2020-03-28T20:08:52.774840Z"
    }
   },
   "outputs": [
    {
     "name": "stderr",
     "output_type": "stream",
     "text": [
      "  0%|          | 0/14 [00:00<?, ?it/s]\n",
      "  0%|          | 0/3 [00:00<?, ?it/s]\u001b[A\n",
      " 33%|███▎      | 1/3 [00:00<00:01,  1.51it/s]\u001b[A\n",
      " 67%|██████▋   | 2/3 [00:02<00:01,  1.02s/it]\u001b[A\n",
      "100%|██████████| 3/3 [00:03<00:00,  1.04s/it]\u001b[A\n",
      "  7%|▋         | 1/14 [00:03<00:46,  3.60s/it][A\n",
      "  0%|          | 0/3 [00:00<?, ?it/s]\u001b[A\n",
      " 33%|███▎      | 1/3 [00:00<00:01,  1.23it/s]\u001b[A\n",
      " 67%|██████▋   | 2/3 [00:02<00:01,  1.13s/it]\u001b[A\n",
      "100%|██████████| 3/3 [00:03<00:00,  1.10s/it]\u001b[A\n",
      " 14%|█▍        | 2/14 [00:07<00:43,  3.63s/it][A\n",
      "  0%|          | 0/3 [00:00<?, ?it/s]\u001b[A\n",
      " 33%|███▎      | 1/3 [00:00<00:01,  1.22it/s]\u001b[A\n",
      " 67%|██████▋   | 2/3 [00:02<00:01,  1.02s/it]\u001b[A\n",
      "100%|██████████| 3/3 [00:03<00:00,  1.01it/s]\u001b[A\n",
      " 21%|██▏       | 3/14 [00:10<00:38,  3.52s/it][A\n",
      "  0%|          | 0/3 [00:00<?, ?it/s]\u001b[A\n",
      " 33%|███▎      | 1/3 [00:00<00:01,  1.29it/s]\u001b[A\n",
      " 67%|██████▋   | 2/3 [00:02<00:00,  1.00it/s]\u001b[A\n",
      "100%|██████████| 3/3 [00:03<00:00,  1.04it/s]\u001b[A\n",
      " 29%|██▊       | 4/14 [00:13<00:34,  3.41s/it][A\n",
      "  0%|          | 0/3 [00:00<?, ?it/s]\u001b[A\n",
      " 33%|███▎      | 1/3 [00:00<00:01,  1.06it/s]\u001b[A\n",
      " 67%|██████▋   | 2/3 [00:02<00:01,  1.13s/it]\u001b[A\n",
      "100%|██████████| 3/3 [00:03<00:00,  1.12s/it]\u001b[A\n",
      " 36%|███▌      | 5/14 [00:17<00:31,  3.47s/it][A\n",
      "  0%|          | 0/3 [00:00<?, ?it/s]\u001b[A\n",
      " 33%|███▎      | 1/3 [00:01<00:02,  1.00s/it]\u001b[A\n",
      " 67%|██████▋   | 2/3 [00:02<00:01,  1.16s/it]\u001b[A\n",
      "100%|██████████| 3/3 [00:03<00:00,  1.13s/it]\u001b[A\n",
      " 43%|████▎     | 6/14 [00:20<00:28,  3.51s/it][A\n",
      "  0%|          | 0/3 [00:00<?, ?it/s]\u001b[A\n",
      " 33%|███▎      | 1/3 [00:00<00:01,  1.00it/s]\u001b[A\n",
      " 67%|██████▋   | 2/3 [00:02<00:01,  1.16s/it]\u001b[A\n",
      "100%|██████████| 3/3 [00:03<00:00,  1.12s/it]\u001b[A\n",
      " 50%|█████     | 7/14 [00:24<00:24,  3.53s/it][A\n",
      "  0%|          | 0/3 [00:00<?, ?it/s]\u001b[A\n",
      " 33%|███▎      | 1/3 [00:01<00:02,  1.13s/it]\u001b[A\n",
      " 67%|██████▋   | 2/3 [00:02<00:01,  1.26s/it]\u001b[A\n",
      "100%|██████████| 3/3 [00:03<00:00,  1.24s/it]\u001b[A\n",
      " 57%|█████▋    | 8/14 [00:28<00:21,  3.66s/it][A\n",
      "  0%|          | 0/3 [00:00<?, ?it/s]\u001b[A\n",
      " 33%|███▎      | 1/3 [00:01<00:02,  1.41s/it]\u001b[A\n",
      " 67%|██████▋   | 2/3 [00:03<00:01,  1.51s/it]\u001b[A\n",
      "100%|██████████| 3/3 [00:04<00:00,  1.55s/it]\u001b[A\n",
      " 64%|██████▍   | 9/14 [00:33<00:20,  4.10s/it][A\n",
      "  0%|          | 0/3 [00:00<?, ?it/s]\u001b[A\n",
      " 33%|███▎      | 1/3 [00:03<00:06,  3.36s/it]\u001b[A\n",
      " 67%|██████▋   | 2/3 [00:05<00:03,  3.03s/it]\u001b[A\n",
      "100%|██████████| 3/3 [00:09<00:00,  3.32s/it]\u001b[A\n",
      " 71%|███████▏  | 10/14 [00:44<00:24,  6.09s/it]A\n",
      "  0%|          | 0/3 [00:00<?, ?it/s]\u001b[A\n",
      " 33%|███▎      | 1/3 [00:14<00:28, 14.07s/it]\u001b[A\n",
      " 67%|██████▋   | 2/3 [00:18<00:11, 11.22s/it]\u001b[A\n",
      "100%|██████████| 3/3 [00:25<00:00,  9.81s/it]\u001b[A\n",
      " 79%|███████▊  | 11/14 [01:14<00:39, 13.18s/it]A\n",
      "  0%|          | 0/3 [00:00<?, ?it/s]\u001b[A\n",
      " 33%|███▎      | 1/3 [00:57<01:54, 57.25s/it]\u001b[A\n",
      " 67%|██████▋   | 2/3 [01:10<00:44, 44.18s/it]\u001b[A\n",
      "100%|██████████| 3/3 [01:28<00:00, 36.05s/it]\u001b[A\n",
      " 86%|████████▌ | 12/14 [03:01<01:23, 41.55s/it]A\n",
      "  0%|          | 0/3 [00:00<?, ?it/s]\u001b[A\n",
      " 33%|███▎      | 1/3 [03:44<07:29, 224.87s/it]\u001b[A\n",
      " 67%|██████▋   | 2/3 [04:35<02:52, 172.49s/it]\u001b[A\n",
      "100%|██████████| 3/3 [05:33<00:00, 138.36s/it]\u001b[A\n",
      " 93%|█████████▎| 13/14 [09:54<02:32, 152.89s/it]A\n",
      "  0%|          | 0/3 [00:00<?, ?it/s]\u001b[A\n",
      " 33%|███▎      | 1/3 [15:01<30:02, 901.43s/it]\u001b[A\n",
      " 67%|██████▋   | 2/3 [18:18<11:30, 690.11s/it]\u001b[A\n",
      "100%|██████████| 3/3 [22:04<00:00, 441.40s/it]\u001b[A\n",
      "100%|██████████| 14/14 [37:08<00:00, 159.20s/it]\n"
     ]
    }
   ],
   "source": [
    "nonvectorized_comparison = perfplot.bench(\n",
    "    setup=lambda n: data.loc[:n, 'date'],\n",
    "    kernels=[\n",
    "        lambda df: df.apply(is_morning),\n",
    "        lambda df: dd.from_pandas(df, npartitions=npartitions).apply(is_morning, meta=(bool)).compute(scheduler='processes'),\n",
    "        lambda df: df.swifter.progress_bar(False).apply(is_morning)\n",
    "    ],\n",
    "    labels=['Pandas Apply', 'Dask Apply', 'Swifter Apply'],\n",
    "    n_range=[2**k for k in range(0, 28, 2)],\n",
    "    xlabel='n_rows'\n",
    ")"
   ]
  },
  {
   "cell_type": "code",
   "execution_count": 14,
   "metadata": {
    "ExecuteTime": {
     "end_time": "2020-03-28T20:09:58.526386Z",
     "start_time": "2020-03-28T20:09:58.000854Z"
    }
   },
   "outputs": [
    {
     "data": {
      "image/png": "[encoded data removed]",
      "text/plain": [
       "<Figure size 432x288 with 1 Axes>"
      ]
     },
     "metadata": {
      "needs_background": "light"
     },
     "output_type": "display_data"
    }
   ],
   "source": [
    "nonvectorized_comparison.title = \"Non-Vectorized Function Speed Comparison\"\n",
    "nonvectorized_comparison.xlabel = \"n_rows\"\n",
    "nonvectorized_comparison.plot(logx=False, logy=False)"
   ]
  },
  {
   "cell_type": "code",
   "execution_count": 15,
   "metadata": {
    "ExecuteTime": {
     "end_time": "2020-03-28T20:09:59.807236Z",
     "start_time": "2020-03-28T20:09:58.575141Z"
    }
   },
   "outputs": [
    {
     "data": {
      "text/plain": [
       "Text(0, 0.5, 'Runtime [log10(s)]')"
      ]
     },
     "execution_count": 15,
     "metadata": {},
     "output_type": "execute_result"
    },
    {
     "data": {
      "image/png": "[encoded data removed]",
      "text/plain": [
       "<Figure size 432x288 with 1 Axes>"
      ]
     },
     "metadata": {
      "needs_background": "light"
     },
     "output_type": "display_data"
    }
   ],
   "source": [
    "nonvectorized_comparison.xlabel = 'log10(n_rows)'\n",
    "nonvectorized_comparison.title = 'Non-Vectorized Function Speed Comparison [LogLog Plot]'\n",
    "nonvectorized_comparison.plot(logx=True, logy=True, time_unit='s')\n",
    "plt.ylabel(\"Runtime [log10(s)]\")"
   ]
  }
 ],
 "metadata": {
  "kernelspec": {
   "display_name": "Python 3",
   "language": "python",
   "name": "python3"
  },
  "language_info": {
   "codemirror_mode": {
    "name": "ipython",
    "version": 3
   },
   "file_extension": ".py",
   "mimetype": "text/x-python",
   "name": "python",
   "nbconvert_exporter": "python",
   "pygments_lexer": "ipython3",
   "version": "3.7.6"
  },
  "toc": {
   "base_numbering": 1,
   "nav_menu": {},
   "number_sections": true,
   "sideBar": true,
   "skip_h1_title": false,
   "title_cell": "Table of Contents",
   "title_sidebar": "Contents",
   "toc_cell": false,
   "toc_position": {},
   "toc_section_display": true,
   "toc_window_display": false
  }
 },
 "nbformat": 4,
 "nbformat_minor": 2
}
