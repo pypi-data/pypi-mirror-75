{
 "metadata": {
  "language_info": {
   "codemirror_mode": {
    "name": "ipython",
    "version": 3
   },
   "file_extension": ".py",
   "mimetype": "text/x-python",
   "name": "python",
   "nbconvert_exporter": "python",
   "pygments_lexer": "ipython3",
   "version": 3
  },
  "orig_nbformat": 2,
  "kernelspec": {
   "name": "python_defaultSpec_1595862042208",
   "display_name": "Python 3.8.3 64-bit"
  }
 },
 "nbformat": 4,
 "nbformat_minor": 2,
 "cells": [
  {
   "cell_type": "markdown",
   "metadata": {},
   "source": [
    "# Turbulent Transfer\n",
    "\n",
    "Setup the gold files for turblent transfer through a random number generation. Run both the IPW `trbxfr` which implments the `hle1` calculation and the python `libsnobal.hle1`.\n",
    "\n",
    "- H - within the resolution of the IPW outputs, difference -3.1e-4 +/- 8.3e-4\n",
    "- L_v_E - within the resolution of the IPW outputs, difference -3.4e-4 +/- 1.2e-3\n",
    "- E - within the resolution of the IPW outputs, difference -1.2e-10 +/- 4.8e-10"
   ]
  },
  {
   "cell_type": "code",
   "execution_count": null,
   "metadata": {},
   "outputs": [],
   "source": [
    "import pandas as pd\n",
    "import numpy as np\n",
    "import subprocess as sp\n",
    "import os\n",
    "\n",
    "from pysnobal import libsnobal\n",
    "from pysnobal.constants import FREEZE\n",
    "\n",
    "def calculate_hle1(inputs):\n",
    "\n",
    "    P_a = libsnobal.hysat(\n",
    "        libsnobal.SEA_LEVEL,\n",
    "        libsnobal.STD_AIRTMP,\n",
    "        libsnobal.STD_LAPSE,\n",
    "        inputs['elevation'] / 1000.0,\n",
    "        libsnobal.GRAVITY,\n",
    "        libsnobal.MOL_AIR)\n",
    "\n",
    "    H, L_v_E, E, status = libsnobal.hle1(\n",
    "        P_a,\n",
    "        inputs['ta'],\n",
    "        inputs['ts'],\n",
    "        inputs['za'],\n",
    "        inputs['ea'],\n",
    "        inputs['es'],\n",
    "        inputs['za'],\n",
    "        inputs['u'],\n",
    "        inputs['zu'],\n",
    "        inputs['z0']\n",
    "    )\n",
    "\n",
    "    return H, L_v_E, E, status"
   ]
  },
  {
   "cell_type": "code",
   "execution_count": null,
   "metadata": {},
   "outputs": [],
   "source": [
    "# Generate random inputs\n",
    "nvalues = 200\n",
    "\n",
    "df = pd.DataFrame(columns=['elevation', 'ta', 'ts', 'za',\n",
    "                           'ea', 'es', 'u', 'zu', 'z0'])\n",
    "\n",
    "df['elevation'] = np.random.randint(100, 4000, nvalues)\n",
    "df['ta'] = np.random.randint(-40, 40, nvalues) + FREEZE\n",
    "df['ts'] = np.random.randint(-40, 0, nvalues) + FREEZE\n",
    "df['za'] = np.random.randint(2, 5, nvalues)\n",
    "\n",
    "df['ea'] = np.random.randint(40, 7000, nvalues)\n",
    "sat_vp = libsnobal.sati_np(df['ta'])\n",
    "df.loc[df.ea > sat_vp, 'ea'] = sat_vp[df.ea > sat_vp]\n",
    "df['es'] = libsnobal.sati_np(df['ts'])\n",
    "\n",
    "df['u'] = np.random.randint(1, 40, nvalues)\n",
    "df['zu'] = np.random.randint(3, 5, nvalues)\n",
    "df['z0'] = np.random.randint(5, 100, nvalues)/1000\n"
   ]
  },
  {
   "cell_type": "code",
   "execution_count": null,
   "metadata": {
    "tags": []
   },
   "outputs": [],
   "source": [
    "# Run the pysnobal hle1\n",
    "\n",
    "for index, row in df.iterrows():\n",
    "    H, L_v_E, E, status = calculate_hle1(row.to_dict())\n",
    "\n",
    "    df.loc[index, 'py_H'] = H\n",
    "    df.loc[index, 'py_L_v_E'] = L_v_E\n",
    "    df.loc[index, 'py_E'] = E\n",
    "    df.loc[index, 'py_status'] = status\n",
    "\n",
    "# if any failed, then remove for this purpose\n",
    "df = df.loc[df.py_status != -1, :]\n",
    "df.shape\n",
    "    "
   ]
  },
  {
   "cell_type": "code",
   "execution_count": null,
   "metadata": {
    "tags": []
   },
   "outputs": [],
   "source": [
    "# Run trbxfr from IPW to ensure it's close\n",
    "\n",
    "cmd_str = 'echo \"{} {} {} {} {} {} {} {}\" | /ipw/bin/trbxfr -z {} -d -m -K'\n",
    "\n",
    "for index, row in df.iterrows():\n",
    "\n",
    "    cmd = cmd_str.format(\n",
    "        row['zu'],\n",
    "        row['za'],\n",
    "        row['z0'],\n",
    "        row['ta'],\n",
    "        row['ts'],\n",
    "        row['ea'],\n",
    "        row['es'],\n",
    "        row['u'],\n",
    "        row['elevation']\n",
    "    )\n",
    "    out = sp.check_output(cmd, shell=True, universal_newlines=True)\n",
    "    ipw_out = out.rstrip().split('\\t')\n",
    "    \n",
    "    df.loc[index, 'ipw_H'] = float(ipw_out[0])\n",
    "    df.loc[index, 'ipw_L_v_E'] = float(ipw_out[1])\n",
    "    df.loc[index, 'ipw_E'] = float(ipw_out[2])\n",
    "\n",
    "df"
   ]
  },
  {
   "cell_type": "code",
   "execution_count": null,
   "metadata": {
    "tags": []
   },
   "outputs": [],
   "source": [
    "# Look at the differences between the python and IPW version\n",
    "\n",
    "h_diff = df.py_H - df.ipw_H\n",
    "lve_diff = df.py_L_v_E - df.ipw_L_v_E\n",
    "e_diff = df.py_E - df.ipw_E\n",
    "print(h_diff.describe())\n",
    "print(lve_diff.describe())\n",
    "print(e_diff.describe())"
   ]
  },
  {
   "cell_type": "code",
   "execution_count": null,
   "metadata": {},
   "outputs": [],
   "source": [
    "df.to_csv('../pysnobal/tests/test_data_point/libsnobal/gold_turbulent_transfer.csv', index=False)"
   ]
  }
 ]
}