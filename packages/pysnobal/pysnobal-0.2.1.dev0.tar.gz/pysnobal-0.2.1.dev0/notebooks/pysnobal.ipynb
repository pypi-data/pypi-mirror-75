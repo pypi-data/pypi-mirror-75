{
 "metadata": {
  "language_info": {
   "codemirror_mode": {
    "name": "ipython",
    "version": 3
   },
   "file_extension": ".py",
   "mimetype": "text/x-python",
   "name": "python",
   "nbconvert_exporter": "python",
   "pygments_lexer": "ipython3",
   "version": 3
  },
  "orig_nbformat": 2,
  "kernelspec": {
   "name": "python_defaultSpec_1595884522999",
   "display_name": "Python 3.8.3 64-bit"
  }
 },
 "nbformat": 4,
 "nbformat_minor": 2,
 "cells": [
  {
   "cell_type": "code",
   "execution_count": null,
   "metadata": {},
   "outputs": [],
   "source": [
    "import numpy as np\n",
    "import pandas as pd\n",
    "import matplotlib.pyplot as plt\n",
    "\n",
    "from pysnobal.pysnobal import PySnobal"
   ]
  },
  {
   "cell_type": "code",
   "execution_count": null,
   "metadata": {
    "tags": []
   },
   "outputs": [],
   "source": [
    "# run PySnobal\n",
    "status = PySnobal('../pysnobal/tests/pysnobal_config.ini').run()"
   ]
  },
  {
   "cell_type": "code",
   "execution_count": null,
   "metadata": {
    "tags": []
   },
   "outputs": [],
   "source": [
    "# load in the outputs\n",
    "file_name = '../pysnobal/tests/test_data_point/gold_ipw/gold.snobal.out'\n",
    "# file_name = '../pysnobal/tests/test_data_point/gold_ipw/gold.snobal.out.all'\n",
    "\n",
    "output_label = np.array(['time_s','R_n','H','L_v_E','G','M','delta_Q','G_0','delta_Q_0',\n",
    "            'cc_s_0','cc_s_l','cc_s','E_s','melt','ro_predict','z_s_0','z_s_l',\n",
    "            'z_s','rho','m_s_0','m_s_l','m_s','h2o','T_s_0','T_s_l','T_s'])\n",
    "gold = pd.read_csv(\n",
    "    file_name,\n",
    "    delimiter=\" \", names=output_label)\n",
    "start_date = pd.to_datetime('10-01-1983 00:00')\n",
    "tdelta = pd.to_timedelta(gold.time_s, unit='hour')\n",
    "gold['date_time'] = start_date + tdelta\n",
    "gold['date_time'] = gold['date_time'].dt.round('min') # Snobal uses decimals for minutes but pandas will convert with microseconds\n",
    "gold.set_index('date_time', inplace=True)\n",
    "gold.index = gold.index.tz_localize('MST')\n",
    "gold.drop('time_s', axis=1, inplace=True)\n",
    "\n",
    "\n",
    "new = pd.read_csv(\n",
    "    '../pysnobal/tests/output/pysnobal_output.csv',\n",
    "    index_col='date_time', parse_dates=True)\n",
    "\n",
    "gold = gold[new.index[0]:new.index[-1]]\n",
    "\n",
    "print(gold.shape)\n",
    "print(new.shape)"
   ]
  },
  {
   "cell_type": "code",
   "execution_count": null,
   "metadata": {
    "tags": []
   },
   "outputs": [],
   "source": [
    "\n",
    "# Compare the snowpack state variables\n",
    "state_vars = ['cc_s_0','cc_s_l','cc_s', 'z_s_0','z_s_l',\n",
    "            'z_s','rho','m_s_0','m_s_l','m_s','h2o','T_s_0','T_s_l','T_s']\n",
    "# state_vars = ['cc_s_0','cc_s_l']\n",
    "ncols = len(state_vars)\n",
    "\n",
    "fig, ax = plt.subplots(ncols, 1, figsize=(15, 5*ncols))\n",
    "\n",
    "for idx, column in enumerate(state_vars):\n",
    "\n",
    "    par1 = ax[idx].twinx()\n",
    "    d = gold[column] - new[column]\n",
    "    par1.plot(new.index, np.zeros_like(new.index), 'k--')\n",
    "    par1.plot(d.index, d, 'k')\n",
    "\n",
    "    ax[idx].plot(new.index, new[column], '-')\n",
    "    ax[idx].plot(gold.index, gold[column], '-')\n",
    "    ax[idx].set_title(column)\n",
    "    ax[idx].legend(['pysnobal', 'snobal'])\n"
   ]
  },
  {
   "cell_type": "code",
   "execution_count": null,
   "metadata": {},
   "outputs": [],
   "source": [
    "\n",
    "# Compare the emergy balance\n",
    "eb_vars = ['R_n','H','L_v_E','G','M','delta_Q','G_0','delta_Q_0',\n",
    "            'E_s','melt','ro_predict']\n",
    "ncols = len(eb_vars)\n",
    "\n",
    "fig, ax = plt.subplots(ncols, 1, figsize=(15, 5*ncols))\n",
    "\n",
    "for idx, column in enumerate(eb_vars):\n",
    "\n",
    "    par1 = ax[idx].twinx()\n",
    "    d = gold[column] - new[column]\n",
    "    par1.plot(new.index, np.zeros_like(new.index), 'k--')\n",
    "    par1.plot(d.index, d, 'k')\n",
    "\n",
    "    ax[idx].plot(gold.index, gold[column])\n",
    "    ax[idx].plot(new.index, new[column])\n",
    "    ax[idx].set_title(column)\n",
    "    ax[idx].legend(['snobal', 'pysnobal'])\n",
    "\n",
    "    \n"
   ]
  }
 ]
}