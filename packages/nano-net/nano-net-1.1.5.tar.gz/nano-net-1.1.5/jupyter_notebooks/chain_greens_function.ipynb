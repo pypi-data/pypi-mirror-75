{
 "cells": [
  {
   "cell_type": "markdown",
   "metadata": {},
   "source": [
    "# Green's function of an atomic chain\n",
    "\n",
    "This example demonstrates a computation of the retarded Green's function function of an atomic chain. The chain consists of identical atoms of an abstract chemical element, say an element \"A\"."
   ]
  },
  {
   "cell_type": "code",
   "execution_count": 1,
   "metadata": {},
   "outputs": [
    {
     "name": "stderr",
     "output_type": "stream",
     "text": [
      " _   _                   _   _      _   \n",
      "| \\ | | __ _ _ __   ___ | \\ | | ___| |_ \n",
      "|  \\| |/ _` | '_ \\ / _ \\|  \\| |/ _ \\ __|\n",
      "| |\\  | (_| | | | | (_) | |\\  |  __/ |_ \n",
      "|_| \\_|\\__,_|_| |_|\\___/|_| \\_|\\___|\\__|\n",
      "                                        \n",
      "\n",
      "Vesion 1.0\n"
     ]
    }
   ],
   "source": [
    "    import sys\n",
    "    import numpy as np\n",
    "    import matplotlib.pyplot as plt\n",
    "    import nanonet.tb as tb\n",
    "    import nanonet.negf as negf\n",
    "    \n",
    "    xyz_file = \"\"\"1\n",
    "    H cell\n",
    "    A1       0.0000000000    0.0000000000    0.0000000000                                                                                                      \n",
    "    \"\"\"\n",
    "    \n",
    "    a = tb.Orbitals('A')"
   ]
  },
  {
   "cell_type": "markdown",
   "metadata": {},
   "source": [
    "Let us assume each atomic site has one s-type orbital and the energy level of -0.7 eV. The coupling matrix element equals -0.5 eV. "
   ]
  },
  {
   "cell_type": "code",
   "execution_count": 2,
   "metadata": {},
   "outputs": [],
   "source": [
    "    a.add_orbital('s', -0.7)\n",
    "    tb.Orbitals.orbital_sets = {'A': a}\n",
    "    tb.set_tb_params(PARAMS_A_A={'ss_sigma': -0.5})"
   ]
  },
  {
   "cell_type": "markdown",
   "metadata": {},
   "source": [
    "With all these parameters we can create an instance of the class Hamiltonian. The distance between nearest neighbours is set to 1.1 A."
   ]
  },
  {
   "cell_type": "code",
   "execution_count": 3,
   "metadata": {},
   "outputs": [
    {
     "name": "stderr",
     "output_type": "stream",
     "text": [
      "The verbosity level is 1\n",
      "The radius of the neighbourhood is 1.1 Ang\n",
      "\n",
      "---------------------------------\n",
      "\n",
      "The xyz-file:\n",
      " 1\n",
      "H cell\n",
      "A1       0.0000000000    0.0000000000    0.0000000000                                                                                                      \n",
      "\n",
      "---------------------------------\n",
      "\n",
      "Basis set \n",
      " Num of species {'A': 1} \n",
      "\n",
      "\n",
      " A \n",
      "title | energy | n | l | m | s\n",
      "------+--------+---+---+---+--\n",
      "s     | -0.7   | 0 | 0 | 0 | 0\n",
      "------+--------+---+---+---+--\n",
      " \n",
      "---------------------------------\n",
      "\n",
      "Radial dependence function: None\n",
      "\n",
      "---------------------------------\n",
      "\n",
      "Discrete radial dependence function: None\n",
      "\n",
      "---------------------------------\n",
      "\n",
      "Unique distances: \n",
      "    \n",
      "---------------------------------\n",
      "\n"
     ]
    }
   ],
   "source": [
    "    h = tb.Hamiltonian(xyz=xyz_file, nn_distance=1.1).initialize()"
   ]
  },
  {
   "cell_type": "markdown",
   "metadata": {},
   "source": [
    "Now we need to set periodic boundary conditions with a one-dimensional unit cell and lattice constant of 1 A. "
   ]
  },
  {
   "cell_type": "code",
   "execution_count": 4,
   "metadata": {},
   "outputs": [
    {
     "name": "stderr",
     "output_type": "stream",
     "text": [
      "Primitive_cell_vectors: \n",
      " [[0, 0, 1.0]] \n",
      "\n",
      "---------------------------------\n",
      "\n"
     ]
    }
   ],
   "source": [
    "    h.set_periodic_bc([[0, 0, 1.0]])"
   ]
  },
  {
   "cell_type": "code",
   "execution_count": null,
   "metadata": {},
   "outputs": [],
   "source": []
  },
  {
   "cell_type": "code",
   "execution_count": 5,
   "metadata": {},
   "outputs": [
    {
     "name": "stderr",
     "output_type": "stream",
     "text": [
      "/home/mk/NanoNet/env/lib/python3.6/site-packages/nanonet/tb/diatomic_matrix_element.py:117: RuntimeWarning: divide by zero encountered in double_scalars\n",
      "  prefactor = ((0.5 * (1 + N)) ** l) * (((1 - N) / (1 + N)) ** (m1 * 0.5 - m2 * 0.5)) * \\\n",
      "/home/mk/NanoNet/env/lib/python3.6/site-packages/nanonet/tb/diatomic_matrix_element.py:125: RuntimeWarning: divide by zero encountered in double_scalars\n",
      "  ans += ((-1) ** t) * (((1 - N) / (1 + N)) ** t) / \\\n"
     ]
    }
   ],
   "source": [
    "\n",
    "    h_l, h_0, h_r = h.get_hamiltonians()\n",
    "\n",
    "    energy = np.linspace(-3.5, 2.0, 500)\n",
    "\n",
    "    sgf_l = []\n",
    "    sgf_r = []\n",
    "\n",
    "    for E in energy:\n",
    "        L, R = negf.surface_greens_function(E, h_l, h_0, h_r)\n",
    "        sgf_l.append(L)\n",
    "        sgf_r.append(R)\n",
    "\n",
    "    sgf_l = np.array(sgf_l)\n",
    "    sgf_r = np.array(sgf_r)\n",
    "\n",
    "    num_sites = h_0.shape[0]\n",
    "    gf = np.linalg.pinv(np.multiply.outer(energy+0.001j, np.identity(num_sites)) - h_0 - sgf_l - sgf_r)\n",
    "\n",
    "    dos = -np.trace(np.imag(gf), axis1=1, axis2=2)\n",
    "\n",
    "    tr = np.zeros((energy.shape[0]), dtype=np.complex)\n",
    "\n",
    "    for j, E in enumerate(energy):\n",
    "        gf0 = np.matrix(gf[j, :, :])\n",
    "        gamma_l = 1j * (np.matrix(sgf_l[j, :, :]) - np.matrix(sgf_l[j, :, :]).H)\n",
    "        gamma_r = 1j * (np.matrix(sgf_r[j, :, :]) - np.matrix(sgf_r[j, :, :]).H)\n",
    "        tr[j] = np.real(np.trace(gamma_l * gf0 * gamma_r * gf0.H))\n",
    "        dos[j] = np.real(np.trace(1j * (gf0 - gf0.H)))\n",
    "   "
   ]
  },
  {
   "cell_type": "code",
   "execution_count": 6,
   "metadata": {},
   "outputs": [
    {
     "name": "stderr",
     "output_type": "stream",
     "text": [
      "/home/mk/NanoNet/env/lib/python3.6/site-packages/numpy/core/numeric.py:492: ComplexWarning: Casting complex values to real discards the imaginary part\n",
      "  return array(a, dtype, copy=False, order=order)\n"
     ]
    },
    {
     "data": {
      "image/png": "[encoded data removed]",
      "text/plain": [
       "<Figure size 432x288 with 2 Axes>"
      ]
     },
     "metadata": {
      "needs_background": "light"
     },
     "output_type": "display_data"
    }
   ],
   "source": [
    "fig, ax = plt.subplots(1, 2)\n",
    "ax[0].plot(energy, dos)\n",
    "ax[0].set_xlabel('Energy (eV)')\n",
    "ax[0].set_ylabel('DOS')\n",
    "ax[0].set_title('Density of states')\n",
    "\n",
    "ax[1].plot(energy, tr)\n",
    "ax[1].set_xlabel('Energy (eV)')\n",
    "ax[1].set_ylabel('Transmission coefficient (a.u)')\n",
    "ax[1].set_title('Transmission')\n",
    "fig.tight_layout()\n",
    "plt.show()"
   ]
  },
  {
   "cell_type": "code",
   "execution_count": null,
   "metadata": {},
   "outputs": [],
   "source": []
  },
  {
   "cell_type": "code",
   "execution_count": 7,
   "metadata": {},
   "outputs": [
    {
     "data": {
      "image/png": "[encoded data removed]",
      "text/plain": [
       "<Figure size 432x288 with 1 Axes>"
      ]
     },
     "metadata": {
      "needs_background": "light"
     },
     "output_type": "display_data"
    }
   ],
   "source": [
    "ax = plt.axes()\n",
    "ax.set_title('Surface self-energy of the semi-infinite chain')\n",
    "ax.plot(energy, np.real(np.squeeze(sgf_l)))\n",
    "ax.plot(energy, np.imag(np.squeeze(sgf_l)))\n",
    "ax.set_xlabel('Energy (eV)')\n",
    "ax.set_ylabel('Self-energy')\n",
    "plt.show()"
   ]
  }
 ],
 "metadata": {
  "kernelspec": {
   "display_name": "Python 3",
   "language": "python",
   "name": "python3"
  },
  "language_info": {
   "codemirror_mode": {
    "name": "ipython",
    "version": 3
   },
   "file_extension": ".py",
   "mimetype": "text/x-python",
   "name": "python",
   "nbconvert_exporter": "python",
   "pygments_lexer": "ipython3",
   "version": "3.6.9"
  }
 },
 "nbformat": 4,
 "nbformat_minor": 2
}
