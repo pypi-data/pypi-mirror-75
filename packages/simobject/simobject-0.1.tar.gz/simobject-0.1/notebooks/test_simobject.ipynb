{
 "cells": [
  {
   "cell_type": "markdown",
   "metadata": {},
   "source": [
    "# Example Simulation"
   ]
  },
  {
   "cell_type": "code",
   "execution_count": null,
   "metadata": {},
   "outputs": [],
   "source": [
    "from simobject import Quantity, Updater, Simulation, DataUpdater\n",
    "\n",
    "import numpy as np"
   ]
  },
  {
   "cell_type": "code",
   "execution_count": null,
   "metadata": {},
   "outputs": [],
   "source": [
    "import astropy.constants as c\n",
    "import astropy.units as u\n",
    "\n",
    "au = c.au.cgs.value"
   ]
  },
  {
   "cell_type": "code",
   "execution_count": null,
   "metadata": {},
   "outputs": [],
   "source": [
    "rc = 50 * au"
   ]
  },
  {
   "cell_type": "code",
   "execution_count": null,
   "metadata": {},
   "outputs": [],
   "source": [
    "sim = Simulation()\n",
    "\n",
    "# grid\n",
    "\n",
    "sim.addQuantity('nr', Quantity(100, 'nr of grid points [-]', constant=True))\n",
    "sim.addQuantity('r0', Quantity(1 * au, 'inner grid radius [cm]', constant=True))\n",
    "sim.addQuantity('r1', Quantity(1e3 * au, 'inner grid radius [cm]', constant=True))\n",
    "sim.addQuantity('r', Quantity(np.logspace(np.log10(sim.r0), np.log10(sim.r1), sim.nr), info='radial grid [cm]'))\n",
    "\n",
    "# time\n",
    "\n",
    "sim.addQuantity('time', Quantity(0, 'simulation time [s]'))\n",
    "sim.addQuantity('dt', Quantity(1, 'time step [s]'))\n",
    "\n",
    "# surface density\n",
    "\n",
    "sim.addQuantity('sigma_g', Quantity(200 * (sim.r/rc)**-1 * np.exp(-sim.r/rc), info='gas surface density [g/cm²]', constant=False))\n",
    "\n",
    "sim.sigma_d = Quantity(sim.sigma_g/100, info='dust surface density [g/cm²]')"
   ]
  },
  {
   "cell_type": "code",
   "execution_count": null,
   "metadata": {},
   "outputs": [],
   "source": [
    "def timeupdate(time):\n",
    "    time += time.owner.dt\n",
    "\n",
    "def densityupdate(density):\n",
    "    density *= 0.99"
   ]
  },
  {
   "cell_type": "code",
   "execution_count": null,
   "metadata": {},
   "outputs": [],
   "source": [
    "def systole_printer(obj):\n",
    "    print(f'systole of {obj.info}')\n",
    "\n",
    "def diastole_printer(obj):\n",
    "    print(f'diastole of {obj.info}')"
   ]
  },
  {
   "cell_type": "code",
   "execution_count": null,
   "metadata": {},
   "outputs": [],
   "source": [
    "sim.time.updater = timeupdate\n",
    "sim.sigma_g.updater = densityupdate\n",
    "sim.sigma_d.updater = densityupdate\n",
    "\n",
    "sim.sigma_d.systoler = systole_printer\n",
    "sim.sigma_d.diastoler = diastole_printer\n",
    "\n",
    "sim.diastoler = DataUpdater(['sigma_d', 'sigma_g'])"
   ]
  },
  {
   "cell_type": "code",
   "execution_count": null,
   "metadata": {},
   "outputs": [],
   "source": [
    "order = ['sigma_d', 'sigma_g', 'dt', 'time']\n",
    "\n",
    "sim.systole_order = order\n",
    "sim.update_order = order\n",
    "sim.diastole_order = order"
   ]
  },
  {
   "cell_type": "code",
   "execution_count": null,
   "metadata": {},
   "outputs": [],
   "source": [
    "sim.sigma_d[0]"
   ]
  },
  {
   "cell_type": "code",
   "execution_count": null,
   "metadata": {
    "tags": []
   },
   "outputs": [],
   "source": [
    "sim.update()"
   ]
  },
  {
   "cell_type": "code",
   "execution_count": null,
   "metadata": {},
   "outputs": [],
   "source": [
    "sim.time"
   ]
  },
  {
   "cell_type": "code",
   "execution_count": null,
   "metadata": {},
   "outputs": [],
   "source": [
    "sim.sigma_d[0]"
   ]
  },
  {
   "cell_type": "code",
   "execution_count": null,
   "metadata": {},
   "outputs": [],
   "source": [
    "sim.data['sigma_d'].shape"
   ]
  }
 ],
 "metadata": {
  "kernelspec": {
   "display_name": "Python 3",
   "language": "python",
   "name": "python3"
  },
  "language_info": {
   "codemirror_mode": {
    "name": "ipython",
    "version": 3
   },
   "file_extension": ".py",
   "mimetype": "text/x-python",
   "name": "python",
   "nbconvert_exporter": "python",
   "pygments_lexer": "ipython3",
   "version": "3.7.4"
  }
 },
 "nbformat": 4,
 "nbformat_minor": 2
}