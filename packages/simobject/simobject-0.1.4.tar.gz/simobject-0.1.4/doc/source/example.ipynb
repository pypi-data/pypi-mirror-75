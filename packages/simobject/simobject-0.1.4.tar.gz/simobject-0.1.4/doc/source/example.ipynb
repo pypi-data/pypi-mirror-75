{
 "cells": [
  {
   "cell_type": "markdown",
   "metadata": {},
   "source": [
    "# Example Simulation"
   ]
  },
  {
   "cell_type": "code",
   "execution_count": null,
   "metadata": {},
   "outputs": [],
   "source": [
    "from simobject import Quantity, Updater, Simulation, DataUpdater\n",
    "\n",
    "import numpy as np\n",
    "\n",
    "import astropy.constants as c\n",
    "import astropy.units as u"
   ]
  },
  {
   "cell_type": "markdown",
   "metadata": {},
   "source": [
    "Set some constants"
   ]
  },
  {
   "cell_type": "code",
   "execution_count": null,
   "metadata": {},
   "outputs": [],
   "source": [
    "au = c.au.cgs.value\n",
    "rc = 50 * au"
   ]
  },
  {
   "cell_type": "markdown",
   "metadata": {},
   "source": [
    "## Set up the simulation object"
   ]
  },
  {
   "cell_type": "code",
   "execution_count": null,
   "metadata": {},
   "outputs": [],
   "source": [
    "sim = Simulation()\n",
    "\n",
    "# we define the grid, notice that `sim.r` inherits the constant flag\n",
    "\n",
    "sim.addQuantity('nr', Quantity(100, 'nr of grid points [-]', constant=True))\n",
    "sim.addQuantity('r0', Quantity(1 * au, 'inner grid radius [cm]', constant=True))\n",
    "sim.addQuantity('r1', Quantity(1e3 * au, 'outer grid radius [cm]', constant=True))\n",
    "sim.addQuantity('r', Quantity(np.logspace(np.log10(sim.r0), np.log10(sim.r1), sim.nr), info='radial grid [cm]'))\n",
    "\n",
    "# time\n",
    "\n",
    "sim.addQuantity('time', Quantity(0, 'simulation time [s]'))\n",
    "sim.addQuantity('dt', Quantity(1, 'time step [s]'))\n",
    "\n",
    "# surface density, to avoid it also being constant, we override that flag\n",
    "\n",
    "sim.addQuantity('sigma_g', Quantity(200 * (sim.r/rc)**-1 * np.exp(-sim.r/rc), info='gas surface density [g/cm²]', constant=False))\n",
    "\n",
    "sim.sigma_d = Quantity(sim.sigma_g/100, info='dust surface density [g/cm²]')"
   ]
  },
  {
   "cell_type": "markdown",
   "metadata": {},
   "source": [
    "Here we define functions how time and densities get updated"
   ]
  },
  {
   "cell_type": "code",
   "execution_count": null,
   "metadata": {},
   "outputs": [],
   "source": [
    "def timeupdate(time):\n",
    "    time += time.owner.dt\n",
    "\n",
    "def densityupdate(density):\n",
    "    density *= 0.99"
   ]
  },
  {
   "cell_type": "markdown",
   "metadata": {},
   "source": [
    "To test those capabilities, we define also print statements to be called in the systole or diastole"
   ]
  },
  {
   "cell_type": "code",
   "execution_count": null,
   "metadata": {},
   "outputs": [],
   "source": [
    "def systole_printer(obj):\n",
    "    print(f'systole of {obj.info}')\n",
    "\n",
    "def diastole_printer(obj):\n",
    "    print(f'diastole of {obj.info}')"
   ]
  },
  {
   "cell_type": "markdown",
   "metadata": {},
   "source": [
    "Now we set/assign those update, systole, diastole functions. We also assign the `DataUpdater` to the general simulation diastole, so it gets called after all individual diastoles."
   ]
  },
  {
   "cell_type": "code",
   "execution_count": null,
   "metadata": {},
   "outputs": [],
   "source": [
    "sim.time.updater = timeupdate\n",
    "sim.sigma_g.updater = densityupdate\n",
    "sim.sigma_d.updater = densityupdate\n",
    "\n",
    "sim.sigma_d.systoler = systole_printer\n",
    "sim.sigma_d.diastoler = diastole_printer\n",
    "\n",
    "sim.diastoler = DataUpdater(['sigma_d', 'sigma_g', 'time'])"
   ]
  },
  {
   "cell_type": "markdown",
   "metadata": {},
   "source": [
    "Here we define in which order things are updated. We set this to be the same for all quantities. If we didn't assign anyting, then they would be updated in the order they were added to the object"
   ]
  },
  {
   "cell_type": "code",
   "execution_count": null,
   "metadata": {},
   "outputs": [],
   "source": [
    "order = ['sigma_d', 'sigma_g', 'dt', 'time']\n",
    "\n",
    "sim.systole_order = order\n",
    "sim.update_order = order\n",
    "sim.diastole_order = order"
   ]
  },
  {
   "cell_type": "markdown",
   "metadata": {},
   "source": [
    "## Run the update"
   ]
  },
  {
   "cell_type": "code",
   "execution_count": null,
   "metadata": {
    "tags": []
   },
   "outputs": [],
   "source": [
    "print(f'time       before update = {sim.time:g}')\n",
    "print(f'sigma_d[0] before update = {sim.sigma_d[0]:g}')\n",
    "print(f'sigma_g[0] before update = {sim.sigma_g[0]:g}')"
   ]
  },
  {
   "cell_type": "code",
   "execution_count": null,
   "metadata": {
    "tags": []
   },
   "outputs": [],
   "source": [
    "sim.update()"
   ]
  },
  {
   "cell_type": "code",
   "execution_count": null,
   "metadata": {
    "tags": []
   },
   "outputs": [],
   "source": [
    "print(f'time       after update = {sim.time:g}')\n",
    "print(f'sigma_d[0] after update = {sim.sigma_d[0]:g}')\n",
    "print(f'sigma_g[0] after update = {sim.sigma_g[0]:g}')"
   ]
  },
  {
   "cell_type": "code",
   "execution_count": null,
   "metadata": {},
   "outputs": [],
   "source": [
    "sim.data['time']"
   ]
  },
  {
   "cell_type": "markdown",
   "metadata": {},
   "source": [
    "We also see that `sim.data['sigma_d']` now contains an entry as `DataUpdater` was called as well."
   ]
  },
  {
   "cell_type": "code",
   "execution_count": null,
   "metadata": {
    "tags": []
   },
   "outputs": [],
   "source": [
    "print(f'shape of sim.data[\\'sigma_d\\']: {sim.data[\"sigma_d\"].shape}')"
   ]
  },
  {
   "cell_type": "markdown",
   "metadata": {},
   "source": [
    " If we update once more, the shape(s) increases"
   ]
  },
  {
   "cell_type": "code",
   "execution_count": null,
   "metadata": {
    "tags": []
   },
   "outputs": [],
   "source": [
    "sim.update()\n",
    "sim.update()"
   ]
  },
  {
   "cell_type": "code",
   "execution_count": null,
   "metadata": {
    "tags": []
   },
   "outputs": [],
   "source": [
    "print(f'shape of sim.data[\\'sigma_d\\']: {sim.data[\"sigma_d\"].shape}')\n",
    "print(f'shape of sim.data[\\'time\\']: {sim.data[\"time\"].shape}')\n",
    "sim.data['time']"
   ]
  }
 ],
 "metadata": {
  "kernelspec": {
   "display_name": "Python 3",
   "language": "python",
   "name": "python3"
  },
  "language_info": {
   "codemirror_mode": {
    "name": "ipython",
    "version": 3
   },
   "file_extension": ".py",
   "mimetype": "text/x-python",
   "name": "python",
   "nbconvert_exporter": "python",
   "pygments_lexer": "ipython3",
   "version": "3.7.4"
  }
 },
 "nbformat": 4,
 "nbformat_minor": 2
}