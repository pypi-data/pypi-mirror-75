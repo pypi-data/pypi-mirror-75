{
 "cells": [
  {
   "cell_type": "markdown",
   "metadata": {},
   "source": [
    "# Tutorial: center of the small Quantum group\n",
    "\n",
    "This page appears both rendered to HTML in the docs, and as an interactive notebook in the `/examples` folder in the repository. \n",
    "\n",
    "## Introduction\n",
    "\n",
    "This tutorial will show how to compute the center of the small quantum group, as described in the two papers by Annach Lachowska and You Qi:\n",
    "\n",
    "https://arxiv.org/abs/1604.07380v3\n",
    "\n",
    "https://arxiv.org/abs/1703.02457v3\n",
    "\n",
    "Let $G$ be a complex simple Lie group, and let $P$ be a parabolic subgroup. Then we consider the cotangent bundle of the associated partial flag variety:\n",
    "$$\n",
    "    \\tilde{\\mathcal N}_P :=T^*(G/P)\n",
    "$$\n",
    "\n",
    "We are then interested in computing\n",
    "$$HH^s(\\tilde{\\mathcal N}_P)\\cong \\bigoplus_{i+j+k=s}H^i(\\tilde{\\mathcal N}_P,\\wedge^jT\\tilde{\\mathcal N}_P)^k$$\n",
    "\n",
    "This can be computed by using the BGG resolution. We define the following module:\n",
    "$$M_j^k = \\bigoplus_r \\operatorname{Sym}^{j-r+k/2}\\mathfrak u_P\\otimes \\wedge^r\\mathfrak g\\otimes \\wedge^{j-r}\\mathfrak n_P$$\n",
    "\n",
    "Let $\\Delta\\colon\\mathfrak p\\to \\mathfrak g\\oplus \\mathfrak u_P\\otimes\\mathfrak n_P$ be given by the inclusion in the first component and in the second component by the adjoint action (after identifying $\\operatorname{End}(\\mathfrak n_P)$ with $\\mathfrak u_P\\otimes \\mathfrak n_P$). Then $\\Delta$ induces a map $M_{j-1}^k\\to M_j^k$. We define the module\n",
    "\n",
    "$$E_j^k = M_j^k\\big/\\Delta(M_{j-1}^k)$$\n",
    "\n",
    "Then the cohomology of the BGG resolution of $E_j^k$ in degree $i$ with respect to a dominant weight $\\mu$ computes the multiplicity of $\\mu$ of $H^i(\\tilde{\\mathcal N}_P,\\wedge^jT\\tilde{\\mathcal N}_P)^k$."
   ]
  },
  {
   "cell_type": "markdown",
   "metadata": {},
   "source": [
    "## Example"
   ]
  },
  {
   "cell_type": "markdown",
   "metadata": {},
   "source": [
    "We begin by loading the required packages."
   ]
  },
  {
   "cell_type": "code",
   "execution_count": 1,
   "metadata": {
    "scrolled": true
   },
   "outputs": [],
   "source": [
    "from bggcohomology.la_modules import BGGCohomology\n",
    "from bggcohomology.bggcomplex import BGGComplex\n",
    "from bggcohomology.quantum_center import *"
   ]
  },
  {
   "cell_type": "markdown",
   "metadata": {},
   "source": [
    "Now let us compute a simple example and set $G=A_2$. We will compute $H^0(\\tilde{\\mathcal N}_0,\\wedge^2T\\tilde{\\mathcal N}_0)^{-2}$. Here the subscript $0$ indicates the principal block. The principal block corresponds to the parameter `subset=[]`. The other parameters are `s,i,j,k`, and they satisfy `i+j+k=s` and `j>=i`.\n",
    "\n",
    "If we want to change the parabolic subalgebra $P$ then we can change `subset` to e.g. `subset=[1]` for \n",
    "$$\\mathfrak p = \\mathfrak b\\oplus\\mathbb C\\langle e_1\\rangle=\\mathbb C\\langle e_1,f_1,f_2,f_{12} \\rangle,\\qquad \\mathfrak u_P = \\mathbb C\\langle e_{12},e_2\\rangle,\\qquad \\mathfrak n_P = \\mathbb C\\langle f_{12},f_2\\rangle$$"
   ]
  },
  {
   "cell_type": "code",
   "execution_count": 2,
   "metadata": {
    "scrolled": true
   },
   "outputs": [
    {
     "name": "stdout",
     "output_type": "stream",
     "text": [
      "i+j=2, j-i=2, k=-2\n",
      "\n"
     ]
    },
    {
     "data": {
      "text/latex": [
       "$$\\mathrm H^{0}(\\tilde{\\mathcal N}_0,\\wedge^2T\\tilde{\\mathcal N}_0)^{-2})=\\mathbb{C}$$"
      ],
      "text/plain": [
       "<IPython.core.display.Math object>"
      ]
     },
     "metadata": {},
     "output_type": "display_data"
    }
   ],
   "source": [
    "BGG = BGGComplex('A2')\n",
    "s = 0\n",
    "i = 0\n",
    "j = 2\n",
    "k = s-i-j\n",
    "print('i+j=%d, j-i=%d, k=%d\\n'%(i+j,j-i,k))\n",
    "\n",
    "subset = []\n",
    "cohom = BGGCohomology(BGG, Mjk(BGG,j,k,subset=subset), coker=Eijk_basis(BGG,j,k,subset=subset))\n",
    "cohom.cohomology_LaTeX(i=i,complex_string=r'\\tilde{\\mathcal N}_0,\\wedge^2T\\tilde{\\mathcal N}_0)^{-2}')"
   ]
  },
  {
   "cell_type": "markdown",
   "metadata": {},
   "source": [
    "## Bigraded tables\n",
    "The program can also produce bigraded tables. We decompose impose a bigrading on the total cohomology $HH^s(\\tilde{\\mathcal N}_P)$ by $a=i+j$ and $b = j-i$. Since the computation can take a while a progress bar is provided. \n",
    "\n",
    "Due to the $\\mathfrak{sl}_2$ symmetry in the bigraded table, we only actually need to compute half of it. We can choose to either compute the whole table, or only half if it through the `half_only` parameter, and extend by symmetry. It's default value is `False`. \n",
    "\n",
    "The bigraded table can be rendered in LaTeX through the `display_ab_dic` function, which takes an additional parameter `extend_half` which computes the second half of the table from the first half through symmetry considerations. The produced LaTeX code can easily be copied. The code below also saves the tables to a LaTeX document. \n",
    "\n",
    "The parameter `compact` determines how the weight decomposition of the cohomology is displayed. E.g. with `compact=False` it would display $\\mathbb C\\oplus L(\\alpha_1+\\alpha_2)^2$ and with `compact=True` it gives $\\mathbb C L_{1,1}^2$."
   ]
  },
  {
   "cell_type": "code",
   "execution_count": 3,
   "metadata": {
    "scrolled": false
   },
   "outputs": [
    {
     "name": "stdout",
     "output_type": "stream",
     "text": [
      "PARI stack size set to 1000000 bytes, maximum size set to 25000017920\n"
     ]
    },
    {
     "data": {
      "application/vnd.jupyter.widget-view+json": {
       "model_id": "9eb281da4e08424fb5073a85080d66e4",
       "version_major": 2,
       "version_minor": 0
      },
      "text/plain": [
       "HBox(children=(FloatProgress(value=0.0, max=16.0), HTML(value='')))"
      ]
     },
     "metadata": {},
     "output_type": "display_data"
    },
    {
     "data": {
      "application/vnd.jupyter.widget-view+json": {
       "model_id": "",
       "version_major": 2,
       "version_minor": 0
      },
      "text/plain": [
       "HBox(children=(FloatProgress(value=1.0, bar_style='info', max=1.0), HTML(value='')))"
      ]
     },
     "metadata": {},
     "output_type": "display_data"
    },
    {
     "data": {
      "application/vnd.jupyter.widget-view+json": {
       "model_id": "77881f27d7604e25b28a2b3cef5102b4",
       "version_major": 2,
       "version_minor": 0
      },
      "text/plain": [
       "HBox(children=(FloatProgress(value=1.0, bar_style='info', max=1.0), HTML(value='')))"
      ]
     },
     "metadata": {},
     "output_type": "display_data"
    },
    {
     "name": "stdout",
     "output_type": "stream",
     "text": [
      "\n",
      "--------------------------------------------------\n",
      "type A3, table for s=0:\n"
     ]
    },
    {
     "data": {
      "text/latex": [
       "$$\\begin{array}{r|l l l l l l l}\n",
       "\t{\\scriptstyle i+j=0}&\\mathbb{C}&&&&&&\\\\\n",
       "\t{\\scriptstyle i+j=2}&\\mathbb{C}^{3}&\\mathbb{C}&&&&&\\\\\n",
       "\t{\\scriptstyle i+j=4}&\\mathbb{C}^{5}&\\mathbb{C}^{4}&\\mathbb{C}&&&&\\\\\n",
       "\t{\\scriptstyle i+j=6}&\\mathbb{C}^{6}&\\mathbb{C}^{9}&\\mathbb{C}^{4}&\\mathbb{C}&&&\\\\\n",
       "\t{\\scriptstyle i+j=8}&\\mathbb{C}^{5}&\\mathbb{C}^{11}&\\mathbb{C}^{9}&\\mathbb{C}^{4}&\\mathbb{C}&&\\\\\n",
       "\t{\\scriptstyle i+j=10}&\\mathbb{C}^{3}&\\mathbb{C}^{8}&\\mathbb{C}^{11}&\\mathbb{C}^{9}&\\mathbb{C}^{4}&\\mathbb{C}&\\\\\n",
       "\t{\\scriptstyle i+j=12}&\\mathbb{C}&\\mathbb{C}^{3}&\\mathbb{C}^{5}&\\mathbb{C}^{6}&\\mathbb{C}^{5}&\\mathbb{C}^{3}&\\mathbb{C}\\\\\n",
       "\t\\hline h^{i,j}&{\\scriptstyle j-i=0}&{\\scriptstyle j-i=2}&{\\scriptstyle j-i=4}&{\\scriptstyle j-i=6}&{\\scriptstyle j-i=8}&{\\scriptstyle j-i=10}&{\\scriptstyle j-i=12}\n",
       "\\end{array}$$"
      ],
      "text/plain": [
       "<IPython.core.display.Math object>"
      ]
     },
     "metadata": {},
     "output_type": "display_data"
    },
    {
     "data": {
      "text/latex": [
       "$$\\begin{array}{r|l l l l l l l}\n",
       "\t{\\scriptstyle i+j=0}&1&&&&&&\\\\\n",
       "\t{\\scriptstyle i+j=2}&3&1&&&&&\\\\\n",
       "\t{\\scriptstyle i+j=4}&5&4&1&&&&\\\\\n",
       "\t{\\scriptstyle i+j=6}&6&9&4&1&&&\\\\\n",
       "\t{\\scriptstyle i+j=8}&5&11&9&4&1&&\\\\\n",
       "\t{\\scriptstyle i+j=10}&3&8&11&9&4&1&\\\\\n",
       "\t{\\scriptstyle i+j=12}&1&3&5&6&5&3&1\\\\\n",
       "\t\\hline h^{i,j}&{\\scriptstyle j-i=0}&{\\scriptstyle j-i=2}&{\\scriptstyle j-i=4}&{\\scriptstyle j-i=6}&{\\scriptstyle j-i=8}&{\\scriptstyle j-i=10}&{\\scriptstyle j-i=12}\n",
       "\\end{array}$$"
      ],
      "text/plain": [
       "<IPython.core.display.Math object>"
      ]
     },
     "metadata": {},
     "output_type": "display_data"
    },
    {
     "data": {
      "text/latex": [
       "$$\\begin{array}{rll}\n",
       "\t\\text{module}&\\text{multiplicity}&\\text{dimension} \\\\ \\hline \\text{all}&&125 \\\\\n",
       "\t\\mathbb{C}&125&1\n",
       "\\end{array}$$"
      ],
      "text/plain": [
       "<IPython.core.display.Math object>"
      ]
     },
     "metadata": {},
     "output_type": "display_data"
    }
   ],
   "source": [
    "import pickle\n",
    "import os\n",
    "import itertools\n",
    "from tqdm.auto import tqdm\n",
    "os.makedirs('pickles', exist_ok=True)\n",
    "os.makedirs('tables', exist_ok=True)\n",
    "\n",
    "# Only compute cohomology for particular highest weight module\n",
    "mu = None\n",
    "#mu=(0,0)\n",
    "\n",
    "# the parameters we actually want to change\n",
    "diagram = 'A3'\n",
    "BGG = BGGComplex(diagram)\n",
    "subset=[]\n",
    "\n",
    "# compute only half of the table, extend by symmetry\n",
    "half_only = True\n",
    "extend_half = half_only\n",
    "\n",
    "# Exclude the top-left to bottom-right diagonal. If s=0, these should all be the trivial rep.\n",
    "exclude_diagonal = True\n",
    "\n",
    "# Display in full form\n",
    "compact = True\n",
    "\n",
    "# Load results if already computed\n",
    "load_pickle = False\n",
    "\n",
    "# Increase max memory size of the pari stack to 25GB\n",
    "# Set this as high as possible.\n",
    "pari.allocatemem(10^6,25*10^9)\n",
    "\n",
    "for s in itertools.count():\n",
    "    picklefile = os.path.join('pickles',f'{diagram}-s{s}-{subset}.pkl')\n",
    "    if load_pickle and os.path.isfile(picklefile):\n",
    "        previous_cohom = pickle.load(open(picklefile, 'rb'))\n",
    "    else:\n",
    "        previous_cohom = None\n",
    "    texfile = os.path.join('tables',f'{diagram}-s{s}-{subset}.tex')\n",
    "    cohom_dic = dict()\n",
    "    with tqdm(all_abijk(BGG,s=s,subset=subset,half_only=half_only)) as inner_pbar:\n",
    "        with tqdm(leave=None) as outer_pbar:\n",
    "            map_pbar = tqdm()\n",
    "            for a,b,i,j,k in inner_pbar:\n",
    "                if previous_cohom is not None and (a,b) in previous_cohom:\n",
    "                    cohom_dic[(a,b)]=previous_cohom[(a,b)]\n",
    "                    inner_pbar.update()\n",
    "                    continue\n",
    "                if exclude_diagonal and s==0 and (a==b):\n",
    "                    cohom_dic[(a,b)]=[((0,)*BGG.rank,1)]\n",
    "                    inner_pbar.update()\n",
    "                    continue\n",
    "                inner_pbar.set_description('i+j= %d, j-i = %d'%(a,b))\n",
    "                coker = Eijk_basis(BGG,j,k,subset=subset,pbar=outer_pbar)\n",
    "                outer_pbar.set_description('Initializing cohomology')\n",
    "                cohom = BGGCohomology(BGG, Mjk(BGG,j,k,subset=subset), \n",
    "                                      coker=coker,pbars = [outer_pbar,map_pbar])\n",
    "                outer_pbar.set_description('Computing cohomology')\n",
    "                cohom_list = cohom.cohomology(i, mu=mu)\n",
    "                cohom_dic[(a,b)] = cohom_list\n",
    "                with open(picklefile, 'wb') as f:\n",
    "                    pickle.dump(cohom_dic,f)   \n",
    "    print('-'*50)\n",
    "    print(f'type {diagram}, table for s={s}:')\n",
    "    cohom = BGGCohomology(BGG)\n",
    "    cohom_dic = extend_from_symmetry(cohom_dic)\n",
    "    latex_dic = {k:cohom.cohom_to_latex(c, compact=compact) for k,c in cohom_dic.items()}\n",
    "    betti_dic = {k:cohom.betti_number(c) for k,c in cohom_dic.items()}\n",
    "    tab1 = display_bigraded_table(latex_dic)\n",
    "    tab2 = display_bigraded_table(betti_dic)\n",
    "    tab3 = display_cohomology_stats(cohom_dic, BGG)\n",
    "    with open(texfile, 'w') as f:\n",
    "        f.write(prepare_texfile([tab1,tab2,tab3],title=f'type {diagram}, s={s}, subset={subset}'))\n",
    "    break"
   ]
  }
 ],
 "metadata": {
  "kernelspec": {
   "display_name": "SageMath 9.0",
   "language": "sage",
   "name": "sagemath"
  },
  "language_info": {
   "codemirror_mode": {
    "name": "ipython",
    "version": 3
   },
   "file_extension": ".py",
   "mimetype": "text/x-python",
   "name": "python",
   "nbconvert_exporter": "python",
   "pygments_lexer": "ipython3",
   "version": "3.7.3"
  }
 },
 "nbformat": 4,
 "nbformat_minor": 2
}
