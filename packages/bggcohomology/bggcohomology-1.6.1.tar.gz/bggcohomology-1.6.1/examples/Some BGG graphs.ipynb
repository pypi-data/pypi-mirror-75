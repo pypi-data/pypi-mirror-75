{
 "cells": [
  {
   "cell_type": "markdown",
   "metadata": {},
   "source": [
    "# Tutorial: Maps in the BGG complex"
   ]
  },
  {
   "cell_type": "markdown",
   "metadata": {},
   "source": [
    "This page appears both rendered to HTML in the docs, and as an interactive notebook in the `/examples` folder in the repository. "
   ]
  },
  {
   "cell_type": "code",
   "execution_count": 1,
   "metadata": {},
   "outputs": [],
   "source": [
    "from bggcohomology.bggcomplex import BGGComplex"
   ]
  },
  {
   "cell_type": "markdown",
   "metadata": {},
   "source": [
    "Using this code we can display the BGG complex as a graph, and describe all the maps in the complex. Shown here is the Bruhat graph for $G2$. The vertices are enumerated by elements of the Weyl group, represented by a reduced word in simple reflections. That is, e.g. `\"12\"` denotes the product $s_1s_2$, with $s_i$ the $i$th simple reflection. Notice that the vertices are color coded by column number / word length of the Weyl group element $\\ell(w)$. There is an edge $x\\to y$ if and only if there is a relection $t\\in W$ such that $y=tx$ and $\\ell(y)=\\ell(x+1)$."
   ]
  },
  {
   "cell_type": "code",
   "execution_count": 2,
   "metadata": {},
   "outputs": [
    {
     "data": {
      "image/png": "[encoded data removed]",
      "text/plain": [
       "Graphics object consisting of 21 graphics primitives"
      ]
     },
     "metadata": {},
     "output_type": "display_data"
    }
   ],
   "source": [
    "d = 'G2'\n",
    "BGG = BGGComplex(d)\n",
    "BGG.plot_graph()"
   ]
  },
  {
   "cell_type": "markdown",
   "metadata": {},
   "source": [
    "We can list all the edges in the Bruhat graph like this:"
   ]
  },
  {
   "cell_type": "code",
   "execution_count": 3,
   "metadata": {
    "scrolled": false
   },
   "outputs": [
    {
     "data": {
      "text/plain": [
       "[('', '1'),\n",
       " ('', '2'),\n",
       " ('2', '12'),\n",
       " ('2', '21'),\n",
       " ('1', '21'),\n",
       " ('1', '12'),\n",
       " ('12', '212'),\n",
       " ('12', '121'),\n",
       " ('21', '121'),\n",
       " ('21', '212'),\n",
       " ('121', '2121'),\n",
       " ('121', '1212'),\n",
       " ('212', '1212'),\n",
       " ('212', '2121'),\n",
       " ('2121', '12121'),\n",
       " ('2121', '21212'),\n",
       " ('1212', '21212'),\n",
       " ('1212', '12121'),\n",
       " ('21212', '212121'),\n",
       " ('12121', '212121')]"
      ]
     },
     "execution_count": 3,
     "metadata": {},
     "output_type": "execute_result"
    }
   ],
   "source": [
    "BGG.arrows"
   ]
  },
  {
   "cell_type": "markdown",
   "metadata": {},
   "source": [
    "Now suppose we want to look at the BGG complex associated to some weight $\\mu$, for example the weight $\\mu=0$. This associates to each edge $(x,y)$ an element $\\mathcal F(x,y)\\in U(\\mathfrak n)$. These maps satisfy that for each 'square' $w\\to x\\to w'$, $w\\to y\\to w'$ we have $\\mathcal F(w,x)\\mathcal F(x,w')=\\mathcal F(w,y)\\mathcal F (y,w')$. \n",
    "\n",
    "We can run the following code:"
   ]
  },
  {
   "cell_type": "code",
   "execution_count": 4,
   "metadata": {},
   "outputs": [
    {
     "data": {
      "text/latex": [
       "$$\\to1,\\,\\,\\,f_{1}$$"
      ],
      "text/plain": [
       "<IPython.core.display.Math object>"
      ]
     },
     "metadata": {},
     "output_type": "display_data"
    },
    {
     "data": {
      "text/latex": [
       "$$\\to2,\\,\\,\\,f_{2}$$"
      ],
      "text/plain": [
       "<IPython.core.display.Math object>"
      ]
     },
     "metadata": {},
     "output_type": "display_data"
    },
    {
     "data": {
      "text/latex": [
       "$$1\\to12,\\,\\,12\\,f_{2111} -4\\,f_{1}\\,f_{112} +4\\,f_{1}^{2}\\,f_{12} +\\,f_{2}\\,f_{1}^{3}$$"
      ],
      "text/plain": [
       "<IPython.core.display.Math object>"
      ]
     },
     "metadata": {},
     "output_type": "display_data"
    },
    {
     "data": {
      "text/latex": [
       "$$1\\to21,\\,\\,\\,f_{2}^{2}$$"
      ],
      "text/plain": [
       "<IPython.core.display.Math object>"
      ]
     },
     "metadata": {},
     "output_type": "display_data"
    },
    {
     "data": {
      "text/latex": [
       "$$2\\to12,\\,\\,\\,f_{1}^{4}$$"
      ],
      "text/plain": [
       "<IPython.core.display.Math object>"
      ]
     },
     "metadata": {},
     "output_type": "display_data"
    },
    {
     "data": {
      "text/latex": [
       "$$2\\to21,\\,\\,-\\,f_{12} +\\,f_{2}\\,f_{1}$$"
      ],
      "text/plain": [
       "<IPython.core.display.Math object>"
      ]
     },
     "metadata": {},
     "output_type": "display_data"
    },
    {
     "data": {
      "text/latex": [
       "$$12\\to121,\\,\\,2\\,f_{112} +4\\,f_{1}\\,f_{12} +\\,f_{2}\\,f_{1}^{2}$$"
      ],
      "text/plain": [
       "<IPython.core.display.Math object>"
      ]
     },
     "metadata": {},
     "output_type": "display_data"
    },
    {
     "data": {
      "text/latex": [
       "$$12\\to212,\\,\\,\\,f_{2}^{3}$$"
      ],
      "text/plain": [
       "<IPython.core.display.Math object>"
      ]
     },
     "metadata": {},
     "output_type": "display_data"
    },
    {
     "data": {
      "text/latex": [
       "$$21\\to121,\\,\\,\\,f_{1}^{5}$$"
      ],
      "text/plain": [
       "<IPython.core.display.Math object>"
      ]
     },
     "metadata": {},
     "output_type": "display_data"
    },
    {
     "data": {
      "text/latex": [
       "$$21\\to212,\\,\\,-12\\,f_{12}\\,f_{112} +2\\,f_{1}\\,f_{12}^{2} +8\\,f_{2}\\,f_{1}\\,f_{112} -2\\,f_{2}\\,f_{1}^{2}\\,f_{12} +\\,f_{2}^{2}\\,f_{1}^{3}$$"
      ],
      "text/plain": [
       "<IPython.core.display.Math object>"
      ]
     },
     "metadata": {},
     "output_type": "display_data"
    },
    {
     "data": {
      "text/latex": [
       "$$121\\to1212,\\,\\,-12\\,f_{12}\\,f_{112} +12\\,f_{1}\\,f_{12}^{2} -12\\,f_{2}\\,f_{1}\\,f_{112} +8\\,f_{2}\\,f_{1}^{2}\\,f_{12} +\\,f_{2}^{2}\\,f_{1}^{3}$$"
      ],
      "text/plain": [
       "<IPython.core.display.Math object>"
      ]
     },
     "metadata": {},
     "output_type": "display_data"
    },
    {
     "data": {
      "text/latex": [
       "$$121\\to2121,\\,\\,\\,f_{2}^{3}$$"
      ],
      "text/plain": [
       "<IPython.core.display.Math object>"
      ]
     },
     "metadata": {},
     "output_type": "display_data"
    },
    {
     "data": {
      "text/latex": [
       "$$212\\to1212,\\,\\,\\,f_{1}^{5}$$"
      ],
      "text/plain": [
       "<IPython.core.display.Math object>"
      ]
     },
     "metadata": {},
     "output_type": "display_data"
    },
    {
     "data": {
      "text/latex": [
       "$$212\\to2121,\\,\\,8\\,f_{112} -2\\,f_{1}\\,f_{12} +\\,f_{2}\\,f_{1}^{2}$$"
      ],
      "text/plain": [
       "<IPython.core.display.Math object>"
      ]
     },
     "metadata": {},
     "output_type": "display_data"
    },
    {
     "data": {
      "text/latex": [
       "$$1212\\to12121,\\,\\,2\\,f_{12} +\\,f_{2}\\,f_{1}$$"
      ],
      "text/plain": [
       "<IPython.core.display.Math object>"
      ]
     },
     "metadata": {},
     "output_type": "display_data"
    },
    {
     "data": {
      "text/latex": [
       "$$1212\\to21212,\\,\\,\\,f_{2}^{2}$$"
      ],
      "text/plain": [
       "<IPython.core.display.Math object>"
      ]
     },
     "metadata": {},
     "output_type": "display_data"
    },
    {
     "data": {
      "text/latex": [
       "$$2121\\to12121,\\,\\,\\,f_{1}^{4}$$"
      ],
      "text/plain": [
       "<IPython.core.display.Math object>"
      ]
     },
     "metadata": {},
     "output_type": "display_data"
    },
    {
     "data": {
      "text/latex": [
       "$$2121\\to21212,\\,\\,-18\\,f_{2111} +6\\,f_{1}\\,f_{112} -\\,f_{1}^{2}\\,f_{12} +\\,f_{2}\\,f_{1}^{3}$$"
      ],
      "text/plain": [
       "<IPython.core.display.Math object>"
      ]
     },
     "metadata": {},
     "output_type": "display_data"
    },
    {
     "data": {
      "text/latex": [
       "$$12121\\to212121,\\,\\,\\,f_{2}$$"
      ],
      "text/plain": [
       "<IPython.core.display.Math object>"
      ]
     },
     "metadata": {},
     "output_type": "display_data"
    },
    {
     "data": {
      "text/latex": [
       "$$21212\\to212121,\\,\\,\\,f_{1}$$"
      ],
      "text/plain": [
       "<IPython.core.display.Math object>"
      ]
     },
     "metadata": {},
     "output_type": "display_data"
    }
   ],
   "source": [
    "BGG.display_maps((0,0))"
   ]
  },
  {
   "cell_type": "markdown",
   "metadata": {},
   "source": [
    "To make them satisfy instead $\\mathcal F(w,x)\\mathcal F(x,w')+\\mathcal F(w,y)\\mathcal F (y,w')=0$, and to hence obtain the BGG differential, we can change all the $\\mathcal F(x,y)$ by a sign. These signs are not unique, but they do exist. We can compute them using the following code:"
   ]
  },
  {
   "cell_type": "code",
   "execution_count": 5,
   "metadata": {},
   "outputs": [
    {
     "data": {
      "text/plain": [
       "{('', '1'): -1,\n",
       " ('', '2'): 1,\n",
       " ('2', '12'): -1,\n",
       " ('2', '21'): -1,\n",
       " ('1', '21'): -1,\n",
       " ('1', '12'): -1,\n",
       " ('12', '212'): -1,\n",
       " ('12', '121'): 1,\n",
       " ('21', '121'): -1,\n",
       " ('21', '212'): 1,\n",
       " ('121', '2121'): 1,\n",
       " ('121', '1212'): -1,\n",
       " ('212', '1212'): -1,\n",
       " ('212', '2121'): 1,\n",
       " ('2121', '12121'): -1,\n",
       " ('2121', '21212'): -1,\n",
       " ('1212', '21212'): -1,\n",
       " ('1212', '12121'): -1,\n",
       " ('21212', '212121'): -1,\n",
       " ('12121', '212121'): 1}"
      ]
     },
     "execution_count": 5,
     "metadata": {},
     "output_type": "execute_result"
    }
   ],
   "source": [
    "BGG.compute_signs()"
   ]
  }
 ],
 "metadata": {
  "kernelspec": {
   "display_name": "SageMath 9.0",
   "language": "sage",
   "name": "sagemath"
  },
  "language_info": {
   "codemirror_mode": {
    "name": "ipython",
    "version": 3
   },
   "file_extension": ".py",
   "mimetype": "text/x-python",
   "name": "python",
   "nbconvert_exporter": "python",
   "pygments_lexer": "ipython3",
   "version": "3.7.3"
  }
 },
 "nbformat": 4,
 "nbformat_minor": 2
}