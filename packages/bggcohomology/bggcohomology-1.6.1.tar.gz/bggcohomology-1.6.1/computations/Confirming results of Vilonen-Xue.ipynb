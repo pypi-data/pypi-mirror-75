{
 "cells": [
  {
   "cell_type": "code",
   "execution_count": 1,
   "metadata": {},
   "outputs": [],
   "source": [
    "from bggcohomology.bggcomplex import BGGComplex\n",
    "from bggcohomology.la_modules import LieAlgebraCompositeModule, ModuleFactory, BGGCohomology\n",
    "import numpy as np"
   ]
  },
  {
   "cell_type": "markdown",
   "metadata": {},
   "source": [
    "In this notebook we use our algorithm to confirm results stated in [The null-cone and cohomology of vector bundles on flag manifolds](https://arxiv.org/abs/1505.07619) by Vilonen and Xue. This provides an excellent way to test the implementation."
   ]
  },
  {
   "cell_type": "markdown",
   "metadata": {},
   "source": [
    "_____\n",
    "$H^k(X,\\mathfrak b)=0$ for all $k$ and for all types."
   ]
  },
  {
   "cell_type": "code",
   "execution_count": 2,
   "metadata": {},
   "outputs": [
    {
     "data": {
      "text/latex": [
       "$$\\mathrm H^\\bullet(A1,\\mathfrak b)=0$$"
      ],
      "text/plain": [
       "<IPython.core.display.Math object>"
      ]
     },
     "metadata": {},
     "output_type": "display_data"
    },
    {
     "data": {
      "text/latex": [
       "$$\\mathrm H^\\bullet(A2,\\mathfrak b)=0$$"
      ],
      "text/plain": [
       "<IPython.core.display.Math object>"
      ]
     },
     "metadata": {},
     "output_type": "display_data"
    },
    {
     "data": {
      "text/latex": [
       "$$\\mathrm H^\\bullet(A3,\\mathfrak b)=0$$"
      ],
      "text/plain": [
       "<IPython.core.display.Math object>"
      ]
     },
     "metadata": {},
     "output_type": "display_data"
    },
    {
     "data": {
      "text/latex": [
       "$$\\mathrm H^\\bullet(A4,\\mathfrak b)=0$$"
      ],
      "text/plain": [
       "<IPython.core.display.Math object>"
      ]
     },
     "metadata": {},
     "output_type": "display_data"
    },
    {
     "data": {
      "text/latex": [
       "$$\\mathrm H^\\bullet(A5,\\mathfrak b)=0$$"
      ],
      "text/plain": [
       "<IPython.core.display.Math object>"
      ]
     },
     "metadata": {},
     "output_type": "display_data"
    },
    {
     "data": {
      "text/latex": [
       "$$\\mathrm H^\\bullet(B2,\\mathfrak b)=0$$"
      ],
      "text/plain": [
       "<IPython.core.display.Math object>"
      ]
     },
     "metadata": {},
     "output_type": "display_data"
    },
    {
     "data": {
      "text/latex": [
       "$$\\mathrm H^\\bullet(B3,\\mathfrak b)=0$$"
      ],
      "text/plain": [
       "<IPython.core.display.Math object>"
      ]
     },
     "metadata": {},
     "output_type": "display_data"
    },
    {
     "data": {
      "text/latex": [
       "$$\\mathrm H^\\bullet(B4,\\mathfrak b)=0$$"
      ],
      "text/plain": [
       "<IPython.core.display.Math object>"
      ]
     },
     "metadata": {},
     "output_type": "display_data"
    },
    {
     "data": {
      "text/latex": [
       "$$\\mathrm H^\\bullet(C3,\\mathfrak b)=0$$"
      ],
      "text/plain": [
       "<IPython.core.display.Math object>"
      ]
     },
     "metadata": {},
     "output_type": "display_data"
    },
    {
     "data": {
      "text/latex": [
       "$$\\mathrm H^\\bullet(C4,\\mathfrak b)=0$$"
      ],
      "text/plain": [
       "<IPython.core.display.Math object>"
      ]
     },
     "metadata": {},
     "output_type": "display_data"
    },
    {
     "data": {
      "text/latex": [
       "$$\\mathrm H^\\bullet(D4,\\mathfrak b)=0$$"
      ],
      "text/plain": [
       "<IPython.core.display.Math object>"
      ]
     },
     "metadata": {},
     "output_type": "display_data"
    },
    {
     "data": {
      "text/latex": [
       "$$\\mathrm H^\\bullet(G2,\\mathfrak b)=0$$"
      ],
      "text/plain": [
       "<IPython.core.display.Math object>"
      ]
     },
     "metadata": {},
     "output_type": "display_data"
    }
   ],
   "source": [
    "for d in ['A1','A2','A3','A4','A5','B2','B3','B4','C3','C4','D4','G2']:\n",
    "    BGG = BGGComplex(d)\n",
    "    factory = ModuleFactory(BGG.LA)\n",
    "    component_dic = {'b':factory.build_component('b','coad')}\n",
    "    \n",
    "    components = [[(\"b\",1,'wedge')]]\n",
    "    module = LieAlgebraCompositeModule(factory,components,component_dic)\n",
    "\n",
    "    cohom = BGGCohomology(BGG, module)\n",
    "    cohom.cohomology_LaTeX(complex_string=str(d)+r',\\mathfrak b')"
   ]
  },
  {
   "cell_type": "markdown",
   "metadata": {},
   "source": [
    "____\n",
    "For type $A_n$ with $n\\geq 2$ we should have,\n",
    "$$H^k(X,\\mathfrak b\\otimes \\mathfrak b) = \\left\\{\\begin{array}{lr}\n",
    "0 & \\text{if } k\\neq 1\\\\\n",
    "\\mathbb C & \\text{if } k=1\n",
    "\\end{array}\\right.$$"
   ]
  },
  {
   "cell_type": "code",
   "execution_count": 3,
   "metadata": {},
   "outputs": [
    {
     "data": {
      "text/latex": [
       "$$\\mathrm H^{1}(A2,\\mathfrak b\\otimes\\mathfrak b)=\\mathbb{C}$$"
      ],
      "text/plain": [
       "<IPython.core.display.Math object>"
      ]
     },
     "metadata": {},
     "output_type": "display_data"
    },
    {
     "data": {
      "text/latex": [
       "$$\\mathrm H^{1}(A3,\\mathfrak b\\otimes\\mathfrak b)=\\mathbb{C}$$"
      ],
      "text/plain": [
       "<IPython.core.display.Math object>"
      ]
     },
     "metadata": {},
     "output_type": "display_data"
    },
    {
     "data": {
      "text/latex": [
       "$$\\mathrm H^{1}(A4,\\mathfrak b\\otimes\\mathfrak b)=\\mathbb{C}$$"
      ],
      "text/plain": [
       "<IPython.core.display.Math object>"
      ]
     },
     "metadata": {},
     "output_type": "display_data"
    },
    {
     "data": {
      "text/latex": [
       "$$\\mathrm H^{1}(A5,\\mathfrak b\\otimes\\mathfrak b)=\\mathbb{C}$$"
      ],
      "text/plain": [
       "<IPython.core.display.Math object>"
      ]
     },
     "metadata": {},
     "output_type": "display_data"
    }
   ],
   "source": [
    "for d in ['A2','A3','A4','A5']:\n",
    "    BGG = BGGComplex(d)\n",
    "    factory = ModuleFactory(BGG.LA)\n",
    "    component_dic = {'b':factory.build_component('b','coad')}\n",
    "    \n",
    "    components = [[(\"b\",1,'wedge')]*2]\n",
    "    module = LieAlgebraCompositeModule(factory,components,component_dic)\n",
    "\n",
    "    cohom = BGGCohomology(BGG, module)\n",
    "    cohom.cohomology_LaTeX(complex_string=str(d)+r',\\mathfrak b\\otimes\\mathfrak b')"
   ]
  },
  {
   "cell_type": "markdown",
   "metadata": {},
   "source": [
    "____\n",
    "For type $A_n$ with $n\\geq 2$ we should have,\n",
    "$$H^k(X,\\mathfrak b\\otimes \\mathfrak u) = \\left\\{\\begin{array}{lr}\n",
    "\\mathbb C & \\text{if } k=0\\\\\n",
    "0 & \\text{if } k\\geq 1\n",
    "\\end{array}\\right.$$"
   ]
  },
  {
   "cell_type": "code",
   "execution_count": 4,
   "metadata": {},
   "outputs": [
    {
     "data": {
      "text/latex": [
       "$$\\mathrm H^{0}(A2,\\mathfrak b\\otimes\\mathfrak b)=\\mathbb{C}$$"
      ],
      "text/plain": [
       "<IPython.core.display.Math object>"
      ]
     },
     "metadata": {},
     "output_type": "display_data"
    },
    {
     "data": {
      "text/latex": [
       "$$\\mathrm H^{0}(A3,\\mathfrak b\\otimes\\mathfrak b)=\\mathbb{C}$$"
      ],
      "text/plain": [
       "<IPython.core.display.Math object>"
      ]
     },
     "metadata": {},
     "output_type": "display_data"
    },
    {
     "data": {
      "text/latex": [
       "$$\\mathrm H^{0}(A4,\\mathfrak b\\otimes\\mathfrak b)=\\mathbb{C}$$"
      ],
      "text/plain": [
       "<IPython.core.display.Math object>"
      ]
     },
     "metadata": {},
     "output_type": "display_data"
    },
    {
     "data": {
      "text/latex": [
       "$$\\mathrm H^{0}(A5,\\mathfrak b\\otimes\\mathfrak b)=\\mathbb{C}$$"
      ],
      "text/plain": [
       "<IPython.core.display.Math object>"
      ]
     },
     "metadata": {},
     "output_type": "display_data"
    }
   ],
   "source": [
    "for d in ['A2','A3','A4','A5']:\n",
    "    BGG = BGGComplex(d)\n",
    "    factory = ModuleFactory(BGG.LA)\n",
    "    component_dic = {'b':factory.build_component('b','coad'),\n",
    "                    'u':factory.build_component('u','coad')}\n",
    "    \n",
    "    components = [[(\"b\",1,'wedge'),(\"u\",1,'wedge')]]\n",
    "    module = LieAlgebraCompositeModule(factory,components,component_dic)\n",
    "\n",
    "    cohom = BGGCohomology(BGG, module)\n",
    "    cohom.cohomology_LaTeX(complex_string=str(d)+r',\\mathfrak b\\otimes\\mathfrak b')"
   ]
  },
  {
   "cell_type": "markdown",
   "metadata": {},
   "source": [
    "___\n",
    "For type $A_n$ with $n\\geq 2$, we have\n",
    "\n",
    "$H^k(X,\\mathfrak b^{\\otimes 3})=0$, $ k\\neq 2,3$\n",
    "\n",
    "Then for $A_2$ specifically\n",
    "\n",
    "$H^2(A_2,\\mathfrak b^{\\otimes 3}) =\\mathbb{C}^{2}\\oplus L\\left(\\alpha_{1}+\\alpha_{2}\\right)^{5}\\oplus L\\left( 2\\alpha_{1}+\\alpha_{2}\\right)\\oplus L\\left(\\alpha_{1}+ 2\\alpha_{2}\\right)$\n",
    "\n",
    "And $A_3$,\n",
    "\n",
    "$H^3(A_3,\\mathfrak b^{\\otimes 3}) =L(\\alpha_1+\\alpha_2+\\alpha_3)$\n",
    "\n",
    "For $n\\geq 3$ we have\n",
    "\n",
    "$H^2(A_n,\\mathfrak b^{\\otimes 3}) =\\mathbb{C}^{2}$\n",
    "\n",
    "$H^3(A_n,\\mathfrak b^{\\otimes 3}) =0$"
   ]
  },
  {
   "cell_type": "code",
   "execution_count": 5,
   "metadata": {},
   "outputs": [
    {
     "data": {
      "text/latex": [
       "$$\\mathrm H^{2}(A2,\\mathfrak b^{\\otimes 3})=\\mathbb{C}^{2}\\oplus L\\left(\\alpha_{1}+\\alpha_{2}\\right)^{5}\\oplus L\\left( 2\\alpha_{1}+\\alpha_{2}\\right)\\oplus L\\left(\\alpha_{1}+ 2\\alpha_{2}\\right)$$"
      ],
      "text/plain": [
       "<IPython.core.display.Math object>"
      ]
     },
     "metadata": {},
     "output_type": "display_data"
    },
    {
     "data": {
      "text/latex": [
       "$$\\mathrm H^{2}(A3,\\mathfrak b^{\\otimes 3})=\\mathbb{C}^{2}$$"
      ],
      "text/plain": [
       "<IPython.core.display.Math object>"
      ]
     },
     "metadata": {},
     "output_type": "display_data"
    },
    {
     "data": {
      "text/latex": [
       "$$\\mathrm H^{3}(A3,\\mathfrak b^{\\otimes 3})=L\\left(\\alpha_{1}+ 2\\alpha_{2}+\\alpha_{3}\\right)$$"
      ],
      "text/plain": [
       "<IPython.core.display.Math object>"
      ]
     },
     "metadata": {},
     "output_type": "display_data"
    },
    {
     "data": {
      "text/latex": [
       "$$\\mathrm H^{2}(A4,\\mathfrak b^{\\otimes 3})=\\mathbb{C}^{2}$$"
      ],
      "text/plain": [
       "<IPython.core.display.Math object>"
      ]
     },
     "metadata": {},
     "output_type": "display_data"
    },
    {
     "data": {
      "text/latex": [
       "$$\\mathrm H^{2}(A5,\\mathfrak b^{\\otimes 3})=\\mathbb{C}^{2}$$"
      ],
      "text/plain": [
       "<IPython.core.display.Math object>"
      ]
     },
     "metadata": {},
     "output_type": "display_data"
    }
   ],
   "source": [
    "for d in ['A2','A3','A4','A5']:\n",
    "    BGG = BGGComplex(d)\n",
    "    factory = ModuleFactory(BGG.LA)\n",
    "    component_dic = {'b':factory.build_component('b','coad')}\n",
    "    \n",
    "    components = [[(\"b\",1,'wedge')]*3]\n",
    "    module = LieAlgebraCompositeModule(factory,components,component_dic)\n",
    "\n",
    "    cohom = BGGCohomology(BGG, module)\n",
    "    cohom.cohomology_LaTeX(complex_string=str(d)+r',\\mathfrak b^{\\otimes 3}')"
   ]
  },
  {
   "cell_type": "markdown",
   "metadata": {},
   "source": [
    "For $A_5$ we should get\n",
    "$$H^k(X,\\mathfrak b^{\\otimes 4}) = \\left\\{\\begin{array}{lr}\n",
    "L(\\alpha_1+2\\alpha_2+3\\alpha_3+2\\alpha_4+\\alpha_5) & \\text{if } k=5\\\\\n",
    "0 & \\text{if } k\\neq 2,3,5\n",
    "\\end{array}\\right.$$"
   ]
  },
  {
   "cell_type": "code",
   "execution_count": 6,
   "metadata": {
    "scrolled": true
   },
   "outputs": [
    {
     "data": {
      "text/latex": [
       "$$\\mathrm H^{2}(A5,\\mathfrak b^{\\otimes 4})=\\mathbb{C}^{3}$$"
      ],
      "text/plain": [
       "<IPython.core.display.Math object>"
      ]
     },
     "metadata": {},
     "output_type": "display_data"
    },
    {
     "data": {
      "text/latex": [
       "$$\\mathrm H^{3}(A5,\\mathfrak b^{\\otimes 4})=\\mathbb{C}^{6}$$"
      ],
      "text/plain": [
       "<IPython.core.display.Math object>"
      ]
     },
     "metadata": {},
     "output_type": "display_data"
    },
    {
     "data": {
      "text/latex": [
       "$$\\mathrm H^{5}(A5,\\mathfrak b^{\\otimes 4})=L\\left(\\alpha_{1}+ 2\\alpha_{2}+ 3\\alpha_{3}+ 2\\alpha_{4}+\\alpha_{5}\\right)$$"
      ],
      "text/plain": [
       "<IPython.core.display.Math object>"
      ]
     },
     "metadata": {},
     "output_type": "display_data"
    }
   ],
   "source": [
    "for d in ['A5']:\n",
    "    BGG = BGGComplex(d)\n",
    "    factory = ModuleFactory(BGG.LA)\n",
    "    component_dic = {'b':factory.build_component('b','coad')}\n",
    "    \n",
    "    components = [[(\"b\",1,'wedge')]*4]\n",
    "    module = LieAlgebraCompositeModule(factory,components,component_dic)\n",
    "\n",
    "    cohom = BGGCohomology(BGG, module)\n",
    "    cohom.cohomology_LaTeX(complex_string=str(d)+r',\\mathfrak b^{\\otimes 4}')"
   ]
  },
  {
   "cell_type": "markdown",
   "metadata": {},
   "source": [
    "For $B_2$ we expect $\\mathrm H^{1}(B_2,\\mathfrak b^{\\otimes 2})=\\mathbb{C}$, $\\mathrm H^{2}(B_2,\\mathfrak b^{\\otimes 2})=L\\left(\\alpha_{1}+\\alpha_{2}\\right)$, and $0$ else."
   ]
  },
  {
   "cell_type": "code",
   "execution_count": 7,
   "metadata": {},
   "outputs": [
    {
     "data": {
      "text/latex": [
       "$$\\mathrm H^{1}(B2,\\mathfrak b^{\\otimes 2})=\\mathbb{C}$$"
      ],
      "text/plain": [
       "<IPython.core.display.Math object>"
      ]
     },
     "metadata": {},
     "output_type": "display_data"
    },
    {
     "data": {
      "text/latex": [
       "$$\\mathrm H^{2}(B2,\\mathfrak b^{\\otimes 2})=L\\left(\\alpha_{1}+\\alpha_{2}\\right)$$"
      ],
      "text/plain": [
       "<IPython.core.display.Math object>"
      ]
     },
     "metadata": {},
     "output_type": "display_data"
    }
   ],
   "source": [
    "for d in ['B2']:\n",
    "    BGG = BGGComplex(d)\n",
    "    factory = ModuleFactory(BGG.LA)\n",
    "    component_dic = {'b':factory.build_component('b','coad')}\n",
    "    \n",
    "    components = [[(\"b\",1,'wedge')]*2]\n",
    "    module = LieAlgebraCompositeModule(factory,components,component_dic)\n",
    "\n",
    "    cohom = BGGCohomology(BGG, module)\n",
    "    cohom.cohomology_LaTeX(complex_string=str(d)+r',\\mathfrak b^{\\otimes 2}')"
   ]
  }
 ],
 "metadata": {
  "kernelspec": {
   "display_name": "Python 3",
   "language": "python",
   "name": "python3"
  },
  "language_info": {
   "codemirror_mode": {
    "name": "ipython",
    "version": 3
   },
   "file_extension": ".py",
   "mimetype": "text/x-python",
   "name": "python",
   "nbconvert_exporter": "python",
   "pygments_lexer": "ipython3",
   "version": "3.7.3"
  }
 },
 "nbformat": 4,
 "nbformat_minor": 2
}
