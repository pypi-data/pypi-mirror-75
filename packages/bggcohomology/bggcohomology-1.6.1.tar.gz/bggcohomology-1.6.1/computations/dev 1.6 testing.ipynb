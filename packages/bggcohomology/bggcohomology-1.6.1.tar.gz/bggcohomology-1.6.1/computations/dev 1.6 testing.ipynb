{
 "cells": [
  {
   "cell_type": "code",
   "execution_count": 2,
   "metadata": {},
   "outputs": [],
   "source": [
    "from bggcohomology.weight_set import WeightSet\n",
    "from bggcohomology.bggcomplex import BGGComplex\n",
    "from bggcohomology.compute_maps import BGGMapSolver\n",
    "from bggcohomology.compute_signs import compute_signs\n",
    "from bggcohomology.la_modules import *\n",
    "from bggcohomology.quantum_center import *"
   ]
  },
  {
   "cell_type": "code",
   "execution_count": 22,
   "metadata": {},
   "outputs": [
    {
     "data": {
      "text/plain": [
       "0"
      ]
     },
     "execution_count": 22,
     "metadata": {},
     "output_type": "execute_result"
    }
   ],
   "source": [
    "root_system = \"A3\"\n",
    "BGG = BGGComplex(root_system)\n",
    "mu = (0,)*BGG.rank\n",
    "half_only=False\n",
    "total_betti = 0\n",
    "for a,b,i,j,k in all_abijk(BGG):\n",
    "    coker = Eijk_basis(BGG,j,k)\n",
    "    cohom = BGGCohomology(BGG, Mjk(BGG,j,k),coker=coker)\n",
    "    total_betti+=cohom.betti_number(cohom.cohomology(i, mu=mu))\n",
    "theoretical_dim = (2*len(BGG.neg_roots)/BGG.rank+1)**BGG.rank\n",
    "theoretical_dim-total_betti"
   ]
  },
  {
   "cell_type": "code",
   "execution_count": 8,
   "metadata": {},
   "outputs": [
    {
     "data": {
      "text/plain": [
       "8"
      ]
     },
     "execution_count": 8,
     "metadata": {},
     "output_type": "execute_result"
    }
   ],
   "source": [
    "BGG.LA.dimension()"
   ]
  },
  {
   "cell_type": "code",
   "execution_count": 13,
   "metadata": {},
   "outputs": [
    {
     "data": {
      "text/plain": [
       "8"
      ]
     },
     "execution_count": 13,
     "metadata": {},
     "output_type": "execute_result"
    }
   ],
   "source": []
  },
  {
   "cell_type": "code",
   "execution_count": null,
   "metadata": {},
   "outputs": [],
   "source": []
  }
 ],
 "metadata": {
  "kernelspec": {
   "display_name": "SageMath 9.0",
   "language": "sage",
   "name": "sagemath"
  },
  "language_info": {
   "codemirror_mode": {
    "name": "ipython",
    "version": 3
   },
   "file_extension": ".py",
   "mimetype": "text/x-python",
   "name": "python",
   "nbconvert_exporter": "python",
   "pygments_lexer": "ipython3",
   "version": "3.7.3"
  }
 },
 "nbformat": 4,
 "nbformat_minor": 2
}
